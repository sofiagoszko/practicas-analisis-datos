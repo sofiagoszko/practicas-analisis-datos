{
 "cells": [
  {
   "cell_type": "markdown",
   "metadata": {},
   "source": [
    "# PANDAS - TRATAMIENTO DE NULOS"
   ]
  },
  {
   "cell_type": "markdown",
   "metadata": {},
   "source": [
    "## TRABAJO CON NULOS\n",
    "\n",
    "Los nulos son datos faltantes o información perdida.\n",
    "\n",
    "Las causas de que existan nulos en un set de datos pueden ser diversas, entre las posibles fuentes se pueden nombrar:\n",
    "\n",
    "- En el origen de la información: formularios con inputs no obligatorios.\n",
    "\n",
    "- Falta de sincronicidad.\n",
    "\n",
    "- Manipulación de los datos."
   ]
  },
  {
   "cell_type": "markdown",
   "metadata": {},
   "source": [
    "## Ejercicio 1.0\n",
    "\n",
    "Siempre comenzamos importando e instalando las librerías"
   ]
  },
  {
   "cell_type": "code",
   "execution_count": 2,
   "metadata": {},
   "outputs": [
    {
     "name": "stdout",
     "output_type": "stream",
     "text": [
      "Requirement already satisfied: Pandas==2.2.2 in c:\\users\\jag\\appdata\\local\\programs\\python\\python311\\lib\\site-packages (2.2.2)\n",
      "Requirement already satisfied: numpy>=1.23.2 in c:\\users\\jag\\appdata\\local\\programs\\python\\python311\\lib\\site-packages (from Pandas==2.2.2) (1.25.2)\n",
      "Requirement already satisfied: python-dateutil>=2.8.2 in c:\\users\\jag\\appdata\\roaming\\python\\python311\\site-packages (from Pandas==2.2.2) (2.8.2)\n",
      "Requirement already satisfied: pytz>=2020.1 in c:\\users\\jag\\appdata\\local\\programs\\python\\python311\\lib\\site-packages (from Pandas==2.2.2) (2024.1)\n",
      "Requirement already satisfied: tzdata>=2022.7 in c:\\users\\jag\\appdata\\local\\programs\\python\\python311\\lib\\site-packages (from Pandas==2.2.2) (2024.1)\n",
      "Requirement already satisfied: six>=1.5 in c:\\users\\jag\\appdata\\roaming\\python\\python311\\site-packages (from python-dateutil>=2.8.2->Pandas==2.2.2) (1.16.0)\n"
     ]
    }
   ],
   "source": [
    "!pip install Pandas==2.2.2"
   ]
  },
  {
   "cell_type": "code",
   "execution_count": 3,
   "metadata": {},
   "outputs": [
    {
     "name": "stdout",
     "output_type": "stream",
     "text": [
      "Requirement already satisfied: numpy in c:\\users\\jag\\appdata\\local\\programs\\python\\python311\\lib\\site-packages (1.25.2)\n"
     ]
    }
   ],
   "source": [
    "!pip install numpy"
   ]
  },
  {
   "cell_type": "code",
   "execution_count": 4,
   "metadata": {},
   "outputs": [
    {
     "name": "stdout",
     "output_type": "stream",
     "text": [
      "Collecting openpyxl\n",
      "  Downloading openpyxl-3.1.2-py2.py3-none-any.whl.metadata (2.5 kB)\n",
      "Collecting et-xmlfile (from openpyxl)\n",
      "  Downloading et_xmlfile-1.1.0-py3-none-any.whl.metadata (1.8 kB)\n",
      "Downloading openpyxl-3.1.2-py2.py3-none-any.whl (249 kB)\n",
      "   ---------------------------------------- 0.0/250.0 kB ? eta -:--:--\n",
      "   ------ --------------------------------- 41.0/250.0 kB 1.9 MB/s eta 0:00:01\n",
      "   ------------------- -------------------- 122.9/250.0 kB 1.8 MB/s eta 0:00:01\n",
      "   ---------------------------------------- 250.0/250.0 kB 1.9 MB/s eta 0:00:00\n",
      "Downloading et_xmlfile-1.1.0-py3-none-any.whl (4.7 kB)\n",
      "Installing collected packages: et-xmlfile, openpyxl\n",
      "Successfully installed et-xmlfile-1.1.0 openpyxl-3.1.2\n"
     ]
    }
   ],
   "source": [
    "!pip install openpyxl"
   ]
  },
  {
   "cell_type": "code",
   "execution_count": 5,
   "metadata": {},
   "outputs": [
    {
     "name": "stdout",
     "output_type": "stream",
     "text": [
      "Collecting pyarrow\n",
      "  Downloading pyarrow-16.0.0-cp311-cp311-win_amd64.whl.metadata (3.1 kB)\n",
      "Requirement already satisfied: numpy>=1.16.6 in c:\\users\\jag\\appdata\\local\\programs\\python\\python311\\lib\\site-packages (from pyarrow) (1.25.2)\n",
      "Downloading pyarrow-16.0.0-cp311-cp311-win_amd64.whl (25.9 MB)\n",
      "   ---------------------------------------- 0.0/25.9 MB ? eta -:--:--\n",
      "   ---------------------------------------- 0.2/25.9 MB 3.5 MB/s eta 0:00:08\n",
      "   ---------------------------------------- 0.2/25.9 MB 3.0 MB/s eta 0:00:09\n",
      "    --------------------------------------- 0.6/25.9 MB 4.8 MB/s eta 0:00:06\n",
      "   - -------------------------------------- 0.7/25.9 MB 4.3 MB/s eta 0:00:06\n",
      "   - -------------------------------------- 1.0/25.9 MB 4.8 MB/s eta 0:00:06\n",
      "   -- ------------------------------------- 1.3/25.9 MB 4.9 MB/s eta 0:00:06\n",
      "   -- ------------------------------------- 1.5/25.9 MB 5.4 MB/s eta 0:00:05\n",
      "   --- ------------------------------------ 2.0/25.9 MB 5.7 MB/s eta 0:00:05\n",
      "   --- ------------------------------------ 2.1/25.9 MB 5.5 MB/s eta 0:00:05\n",
      "   --- ------------------------------------ 2.1/25.9 MB 5.5 MB/s eta 0:00:05\n",
      "   --- ------------------------------------ 2.1/25.9 MB 5.5 MB/s eta 0:00:05\n",
      "   --- ------------------------------------ 2.1/25.9 MB 5.5 MB/s eta 0:00:05\n",
      "   --- ------------------------------------ 2.1/25.9 MB 5.5 MB/s eta 0:00:05\n",
      "   --- ------------------------------------ 2.1/25.9 MB 5.5 MB/s eta 0:00:05\n",
      "   --- ------------------------------------ 2.1/25.9 MB 5.5 MB/s eta 0:00:05\n",
      "   --- ------------------------------------ 2.1/25.9 MB 5.5 MB/s eta 0:00:05\n",
      "   --- ------------------------------------ 2.1/25.9 MB 5.5 MB/s eta 0:00:05\n",
      "   --- ------------------------------------ 2.1/25.9 MB 5.5 MB/s eta 0:00:05\n",
      "   --- ------------------------------------ 2.1/25.9 MB 5.5 MB/s eta 0:00:05\n",
      "   --- ------------------------------------ 2.1/25.9 MB 5.5 MB/s eta 0:00:05\n",
      "   --- ------------------------------------ 2.1/25.9 MB 5.5 MB/s eta 0:00:05\n",
      "   --- ------------------------------------ 2.1/25.9 MB 5.5 MB/s eta 0:00:05\n",
      "   --- ------------------------------------ 2.2/25.9 MB 2.2 MB/s eta 0:00:11\n",
      "   --- ------------------------------------ 2.3/25.9 MB 2.2 MB/s eta 0:00:11\n",
      "   --- ------------------------------------ 2.4/25.9 MB 2.2 MB/s eta 0:00:11\n",
      "   --- ------------------------------------ 2.5/25.9 MB 2.2 MB/s eta 0:00:11\n",
      "   ---- ----------------------------------- 2.7/25.9 MB 2.3 MB/s eta 0:00:11\n",
      "   ---- ----------------------------------- 2.8/25.9 MB 2.3 MB/s eta 0:00:11\n",
      "   ---- ----------------------------------- 2.8/25.9 MB 2.3 MB/s eta 0:00:11\n",
      "   ---- ----------------------------------- 2.9/25.9 MB 2.2 MB/s eta 0:00:11\n",
      "   ---- ----------------------------------- 3.1/25.9 MB 2.3 MB/s eta 0:00:10\n",
      "   ---- ----------------------------------- 3.2/25.9 MB 2.3 MB/s eta 0:00:10\n",
      "   ----- ---------------------------------- 3.4/25.9 MB 2.3 MB/s eta 0:00:10\n",
      "   ----- ---------------------------------- 3.6/25.9 MB 2.4 MB/s eta 0:00:10\n",
      "   ----- ---------------------------------- 3.8/25.9 MB 2.5 MB/s eta 0:00:09\n",
      "   ------ --------------------------------- 4.0/25.9 MB 2.6 MB/s eta 0:00:09\n",
      "   ------ --------------------------------- 4.2/25.9 MB 2.6 MB/s eta 0:00:09\n",
      "   ------ --------------------------------- 4.4/25.9 MB 2.7 MB/s eta 0:00:09\n",
      "   ------- -------------------------------- 4.6/25.9 MB 2.7 MB/s eta 0:00:08\n",
      "   ------- -------------------------------- 4.6/25.9 MB 2.6 MB/s eta 0:00:09\n",
      "   ------- -------------------------------- 4.8/25.9 MB 2.6 MB/s eta 0:00:09\n",
      "   ------- -------------------------------- 4.9/25.9 MB 2.6 MB/s eta 0:00:09\n",
      "   ------- -------------------------------- 4.9/25.9 MB 2.6 MB/s eta 0:00:09\n",
      "   ------- -------------------------------- 5.1/25.9 MB 2.6 MB/s eta 0:00:08\n",
      "   -------- ------------------------------- 5.3/25.9 MB 2.7 MB/s eta 0:00:08\n",
      "   -------- ------------------------------- 5.3/25.9 MB 2.6 MB/s eta 0:00:08\n",
      "   -------- ------------------------------- 5.5/25.9 MB 2.6 MB/s eta 0:00:08\n",
      "   -------- ------------------------------- 5.7/25.9 MB 2.7 MB/s eta 0:00:08\n",
      "   -------- ------------------------------- 5.7/25.9 MB 2.7 MB/s eta 0:00:08\n",
      "   --------- ------------------------------ 5.8/25.9 MB 2.6 MB/s eta 0:00:08\n",
      "   --------- ------------------------------ 6.0/25.9 MB 2.7 MB/s eta 0:00:08\n",
      "   --------- ------------------------------ 6.3/25.9 MB 2.7 MB/s eta 0:00:08\n",
      "   ---------- ----------------------------- 6.6/25.9 MB 2.8 MB/s eta 0:00:07\n",
      "   ---------- ----------------------------- 6.8/25.9 MB 2.8 MB/s eta 0:00:07\n",
      "   ----------- ---------------------------- 7.1/25.9 MB 2.9 MB/s eta 0:00:07\n",
      "   ----------- ---------------------------- 7.3/25.9 MB 2.9 MB/s eta 0:00:07\n",
      "   ------------ --------------------------- 7.8/25.9 MB 3.0 MB/s eta 0:00:06\n",
      "   ------------ --------------------------- 8.0/25.9 MB 3.1 MB/s eta 0:00:06\n",
      "   ------------- -------------------------- 8.5/25.9 MB 3.2 MB/s eta 0:00:06\n",
      "   ------------- -------------------------- 8.7/25.9 MB 3.2 MB/s eta 0:00:06\n",
      "   -------------- ------------------------- 9.2/25.9 MB 3.3 MB/s eta 0:00:05\n",
      "   -------------- ------------------------- 9.7/25.9 MB 3.4 MB/s eta 0:00:05\n",
      "   --------------- ------------------------ 9.9/25.9 MB 3.4 MB/s eta 0:00:05\n",
      "   --------------- ------------------------ 10.3/25.9 MB 3.6 MB/s eta 0:00:05\n",
      "   ---------------- ----------------------- 10.9/25.9 MB 3.6 MB/s eta 0:00:05\n",
      "   ----------------- ---------------------- 11.1/25.9 MB 3.6 MB/s eta 0:00:05\n",
      "   ----------------- ---------------------- 11.6/25.9 MB 3.7 MB/s eta 0:00:04\n",
      "   ------------------ --------------------- 12.0/25.9 MB 3.7 MB/s eta 0:00:04\n",
      "   ------------------- -------------------- 12.4/25.9 MB 4.7 MB/s eta 0:00:03\n",
      "   ------------------- -------------------- 12.9/25.9 MB 5.0 MB/s eta 0:00:03\n",
      "   -------------------- ------------------- 13.1/25.9 MB 5.1 MB/s eta 0:00:03\n",
      "   --------------------- ------------------ 13.6/25.9 MB 5.5 MB/s eta 0:00:03\n",
      "   --------------------- ------------------ 14.1/25.9 MB 5.6 MB/s eta 0:00:03\n",
      "   ---------------------- ----------------- 14.4/25.9 MB 5.7 MB/s eta 0:00:03\n",
      "   ---------------------- ----------------- 14.9/25.9 MB 6.0 MB/s eta 0:00:02\n",
      "   ----------------------- ---------------- 15.2/25.9 MB 6.4 MB/s eta 0:00:02\n",
      "   ------------------------ --------------- 15.6/25.9 MB 6.8 MB/s eta 0:00:02\n",
      "   ------------------------ --------------- 15.9/25.9 MB 7.0 MB/s eta 0:00:02\n",
      "   ------------------------- -------------- 16.3/25.9 MB 7.5 MB/s eta 0:00:02\n",
      "   ------------------------- -------------- 16.5/25.9 MB 7.4 MB/s eta 0:00:02\n",
      "   ------------------------- -------------- 16.7/25.9 MB 7.4 MB/s eta 0:00:02\n",
      "   -------------------------- ------------- 17.1/25.9 MB 7.5 MB/s eta 0:00:02\n",
      "   --------------------------- ------------ 17.6/25.9 MB 7.9 MB/s eta 0:00:02\n",
      "   --------------------------- ------------ 17.9/25.9 MB 7.9 MB/s eta 0:00:02\n",
      "   ---------------------------- ----------- 18.4/25.9 MB 8.1 MB/s eta 0:00:01\n",
      "   ---------------------------- ----------- 18.6/25.9 MB 8.1 MB/s eta 0:00:01\n",
      "   ----------------------------- ---------- 19.2/25.9 MB 8.2 MB/s eta 0:00:01\n",
      "   ------------------------------ --------- 19.6/25.9 MB 8.1 MB/s eta 0:00:01\n",
      "   ------------------------------- -------- 20.1/25.9 MB 8.1 MB/s eta 0:00:01\n",
      "   ------------------------------- -------- 20.3/25.9 MB 8.1 MB/s eta 0:00:01\n",
      "   ------------------------------- -------- 20.7/25.9 MB 8.2 MB/s eta 0:00:01\n",
      "   -------------------------------- ------- 20.9/25.9 MB 8.0 MB/s eta 0:00:01\n",
      "   -------------------------------- ------- 21.2/25.9 MB 8.1 MB/s eta 0:00:01\n",
      "   --------------------------------- ------ 21.5/25.9 MB 7.9 MB/s eta 0:00:01\n",
      "   --------------------------------- ------ 21.8/25.9 MB 7.9 MB/s eta 0:00:01\n",
      "   ---------------------------------- ----- 22.2/25.9 MB 7.8 MB/s eta 0:00:01\n",
      "   ---------------------------------- ----- 22.6/25.9 MB 7.9 MB/s eta 0:00:01\n",
      "   ----------------------------------- ---- 22.9/25.9 MB 7.9 MB/s eta 0:00:01\n",
      "   ------------------------------------ --- 23.4/25.9 MB 8.1 MB/s eta 0:00:01\n",
      "   ------------------------------------ --- 23.8/25.9 MB 8.0 MB/s eta 0:00:01\n",
      "   ------------------------------------- -- 24.3/25.9 MB 8.0 MB/s eta 0:00:01\n",
      "   -------------------------------------- - 24.8/25.9 MB 8.1 MB/s eta 0:00:01\n",
      "   -------------------------------------- - 25.1/25.9 MB 8.0 MB/s eta 0:00:01\n",
      "   ---------------------------------------  25.5/25.9 MB 8.1 MB/s eta 0:00:01\n",
      "   ---------------------------------------  25.9/25.9 MB 8.1 MB/s eta 0:00:01\n",
      "   ---------------------------------------  25.9/25.9 MB 8.1 MB/s eta 0:00:01\n",
      "   ---------------------------------------  25.9/25.9 MB 8.1 MB/s eta 0:00:01\n",
      "   ---------------------------------------  25.9/25.9 MB 8.1 MB/s eta 0:00:01\n",
      "   ---------------------------------------  25.9/25.9 MB 8.1 MB/s eta 0:00:01\n",
      "   ---------------------------------------- 25.9/25.9 MB 7.0 MB/s eta 0:00:00\n",
      "Installing collected packages: pyarrow\n",
      "Successfully installed pyarrow-16.0.0\n"
     ]
    }
   ],
   "source": [
    "!pip install pyarrow"
   ]
  },
  {
   "cell_type": "code",
   "execution_count": 6,
   "metadata": {},
   "outputs": [
    {
     "name": "stdout",
     "output_type": "stream",
     "text": [
      "Collecting fastparquet\n",
      "  Downloading fastparquet-2024.2.0-cp311-cp311-win_amd64.whl.metadata (4.2 kB)\n",
      "Requirement already satisfied: pandas>=1.5.0 in c:\\users\\jag\\appdata\\local\\programs\\python\\python311\\lib\\site-packages (from fastparquet) (2.2.2)\n",
      "Requirement already satisfied: numpy>=1.20.3 in c:\\users\\jag\\appdata\\local\\programs\\python\\python311\\lib\\site-packages (from fastparquet) (1.25.2)\n",
      "Collecting cramjam>=2.3 (from fastparquet)\n",
      "  Downloading cramjam-2.8.3-cp311-none-win_amd64.whl.metadata (4.3 kB)\n",
      "Collecting fsspec (from fastparquet)\n",
      "  Downloading fsspec-2024.3.1-py3-none-any.whl.metadata (6.8 kB)\n",
      "Requirement already satisfied: packaging in c:\\users\\jag\\appdata\\roaming\\python\\python311\\site-packages (from fastparquet) (23.1)\n",
      "Requirement already satisfied: python-dateutil>=2.8.2 in c:\\users\\jag\\appdata\\roaming\\python\\python311\\site-packages (from pandas>=1.5.0->fastparquet) (2.8.2)\n",
      "Requirement already satisfied: pytz>=2020.1 in c:\\users\\jag\\appdata\\local\\programs\\python\\python311\\lib\\site-packages (from pandas>=1.5.0->fastparquet) (2024.1)\n",
      "Requirement already satisfied: tzdata>=2022.7 in c:\\users\\jag\\appdata\\local\\programs\\python\\python311\\lib\\site-packages (from pandas>=1.5.0->fastparquet) (2024.1)\n",
      "Requirement already satisfied: six>=1.5 in c:\\users\\jag\\appdata\\roaming\\python\\python311\\site-packages (from python-dateutil>=2.8.2->pandas>=1.5.0->fastparquet) (1.16.0)\n",
      "Downloading fastparquet-2024.2.0-cp311-cp311-win_amd64.whl (670 kB)\n",
      "   ---------------------------------------- 0.0/670.5 kB ? eta -:--:--\n",
      "   ------ --------------------------------- 112.6/670.5 kB 3.3 MB/s eta 0:00:01\n",
      "   ------------------ --------------------- 307.2/670.5 kB 3.8 MB/s eta 0:00:01\n",
      "   ---------------------------------- ----- 583.7/670.5 kB 4.6 MB/s eta 0:00:01\n",
      "   ---------------------------------------- 670.5/670.5 kB 4.2 MB/s eta 0:00:00\n",
      "Downloading cramjam-2.8.3-cp311-none-win_amd64.whl (1.6 MB)\n",
      "   ---------------------------------------- 0.0/1.6 MB ? eta -:--:--\n",
      "   ------ --------------------------------- 0.3/1.6 MB 7.9 MB/s eta 0:00:01\n",
      "   ------------ --------------------------- 0.5/1.6 MB 6.4 MB/s eta 0:00:01\n",
      "   ------------------- -------------------- 0.8/1.6 MB 7.3 MB/s eta 0:00:01\n",
      "   ------------------------ --------------- 1.0/1.6 MB 6.4 MB/s eta 0:00:01\n",
      "   --------------------------- ------------ 1.1/1.6 MB 5.6 MB/s eta 0:00:01\n",
      "   ----------------------------------- ---- 1.5/1.6 MB 6.2 MB/s eta 0:00:01\n",
      "   ---------------------------------------  1.6/1.6 MB 5.8 MB/s eta 0:00:01\n",
      "   ---------------------------------------- 1.6/1.6 MB 5.2 MB/s eta 0:00:00\n",
      "Downloading fsspec-2024.3.1-py3-none-any.whl (171 kB)\n",
      "   ---------------------------------------- 0.0/172.0 kB ? eta -:--:--\n",
      "   --------------------------------------- 172.0/172.0 kB 10.8 MB/s eta 0:00:00\n",
      "Installing collected packages: fsspec, cramjam, fastparquet\n",
      "Successfully installed cramjam-2.8.3 fastparquet-2024.2.0 fsspec-2024.3.1\n"
     ]
    }
   ],
   "source": [
    "!pip install fastparquet"
   ]
  },
  {
   "cell_type": "code",
   "execution_count": 7,
   "metadata": {},
   "outputs": [
    {
     "name": "stdout",
     "output_type": "stream",
     "text": [
      "Collecting lxml\n",
      "  Downloading lxml-5.2.1-cp311-cp311-win_amd64.whl.metadata (3.5 kB)\n",
      "Downloading lxml-5.2.1-cp311-cp311-win_amd64.whl (3.8 MB)\n",
      "   ---------------------------------------- 0.0/3.8 MB ? eta -:--:--\n",
      "   ---------------------------------------- 0.0/3.8 MB ? eta -:--:--\n",
      "   ---------------------------------------- 0.0/3.8 MB 640.0 kB/s eta 0:00:06\n",
      "    --------------------------------------- 0.1/3.8 MB 544.7 kB/s eta 0:00:07\n",
      "    --------------------------------------- 0.1/3.8 MB 544.7 kB/s eta 0:00:07\n",
      "    --------------------------------------- 0.1/3.8 MB 544.7 kB/s eta 0:00:07\n",
      "    --------------------------------------- 0.1/3.8 MB 544.7 kB/s eta 0:00:07\n",
      "    --------------------------------------- 0.1/3.8 MB 544.7 kB/s eta 0:00:07\n",
      "    --------------------------------------- 0.1/3.8 MB 544.7 kB/s eta 0:00:07\n",
      "    --------------------------------------- 0.1/3.8 MB 218.5 kB/s eta 0:00:18\n",
      "   - -------------------------------------- 0.2/3.8 MB 364.0 kB/s eta 0:00:11\n",
      "   -- ------------------------------------- 0.3/3.8 MB 542.5 kB/s eta 0:00:07\n",
      "   --- ------------------------------------ 0.4/3.8 MB 674.7 kB/s eta 0:00:06\n",
      "   ---- ----------------------------------- 0.5/3.8 MB 782.1 kB/s eta 0:00:05\n",
      "   ----- ---------------------------------- 0.6/3.8 MB 906.5 kB/s eta 0:00:04\n",
      "   ------- -------------------------------- 0.7/3.8 MB 1.1 MB/s eta 0:00:03\n",
      "   -------- ------------------------------- 0.8/3.8 MB 1.2 MB/s eta 0:00:03\n",
      "   ---------- ----------------------------- 1.0/3.8 MB 1.4 MB/s eta 0:00:03\n",
      "   ------------ --------------------------- 1.2/3.8 MB 1.5 MB/s eta 0:00:02\n",
      "   ------------- -------------------------- 1.3/3.8 MB 1.5 MB/s eta 0:00:02\n",
      "   --------------- ------------------------ 1.5/3.8 MB 1.7 MB/s eta 0:00:02\n",
      "   ----------------- ---------------------- 1.6/3.8 MB 1.8 MB/s eta 0:00:02\n",
      "   ------------------- -------------------- 1.8/3.8 MB 1.9 MB/s eta 0:00:02\n",
      "   -------------------- ------------------- 1.9/3.8 MB 2.0 MB/s eta 0:00:01\n",
      "   ---------------------- ----------------- 2.1/3.8 MB 2.0 MB/s eta 0:00:01\n",
      "   ----------------------- ---------------- 2.3/3.8 MB 2.1 MB/s eta 0:00:01\n",
      "   ------------------------ --------------- 2.3/3.8 MB 2.1 MB/s eta 0:00:01\n",
      "   -------------------------- ------------- 2.5/3.8 MB 2.1 MB/s eta 0:00:01\n",
      "   --------------------------- ------------ 2.6/3.8 MB 2.1 MB/s eta 0:00:01\n",
      "   ---------------------------- ----------- 2.8/3.8 MB 2.2 MB/s eta 0:00:01\n",
      "   ------------------------------ --------- 2.9/3.8 MB 2.2 MB/s eta 0:00:01\n",
      "   -------------------------------- ------- 3.1/3.8 MB 2.3 MB/s eta 0:00:01\n",
      "   --------------------------------- ------ 3.2/3.8 MB 2.3 MB/s eta 0:00:01\n",
      "   ---------------------------------- ----- 3.3/3.8 MB 2.3 MB/s eta 0:00:01\n",
      "   ------------------------------------ --- 3.5/3.8 MB 2.3 MB/s eta 0:00:01\n",
      "   ------------------------------------- -- 3.6/3.8 MB 2.3 MB/s eta 0:00:01\n",
      "   ---------------------------------------  3.7/3.8 MB 2.4 MB/s eta 0:00:01\n",
      "   ---------------------------------------  3.8/3.8 MB 2.4 MB/s eta 0:00:01\n",
      "   ---------------------------------------- 3.8/3.8 MB 2.3 MB/s eta 0:00:00\n",
      "Installing collected packages: lxml\n",
      "Successfully installed lxml-5.2.1\n"
     ]
    }
   ],
   "source": [
    "!pip install lxml"
   ]
  },
  {
   "cell_type": "code",
   "execution_count": 8,
   "metadata": {},
   "outputs": [],
   "source": [
    "import numpy as np\n",
    "import pandas as pd\n",
    "import json \n",
    "import os"
   ]
  },
  {
   "cell_type": "markdown",
   "metadata": {},
   "source": [
    "## Ejercicio 1.1\n",
    "\n",
    "Vamos a crear un DataFrame para ver las opciones disponibles con Pandas para trabajar con nulos."
   ]
  },
  {
   "cell_type": "code",
   "execution_count": 9,
   "metadata": {},
   "outputs": [
    {
     "data": {
      "text/html": [
       "<div>\n",
       "<style scoped>\n",
       "    .dataframe tbody tr th:only-of-type {\n",
       "        vertical-align: middle;\n",
       "    }\n",
       "\n",
       "    .dataframe tbody tr th {\n",
       "        vertical-align: top;\n",
       "    }\n",
       "\n",
       "    .dataframe thead th {\n",
       "        text-align: right;\n",
       "    }\n",
       "</style>\n",
       "<table border=\"1\" class=\"dataframe\">\n",
       "  <thead>\n",
       "    <tr style=\"text-align: right;\">\n",
       "      <th></th>\n",
       "      <th>clientes</th>\n",
       "      <th>pedidos</th>\n",
       "      <th>ingresos</th>\n",
       "    </tr>\n",
       "  </thead>\n",
       "  <tbody>\n",
       "    <tr>\n",
       "      <th>2024-04-08</th>\n",
       "      <td>10.0</td>\n",
       "      <td>4</td>\n",
       "      <td>NaN</td>\n",
       "    </tr>\n",
       "    <tr>\n",
       "      <th>2024-04-09</th>\n",
       "      <td>NaN</td>\n",
       "      <td>2</td>\n",
       "      <td>20000.0</td>\n",
       "    </tr>\n",
       "    <tr>\n",
       "      <th>2024-04-10</th>\n",
       "      <td>12.0</td>\n",
       "      <td>14</td>\n",
       "      <td>4500.0</td>\n",
       "    </tr>\n",
       "    <tr>\n",
       "      <th>2024-04-11</th>\n",
       "      <td>16.0</td>\n",
       "      <td>10</td>\n",
       "      <td>7000.0</td>\n",
       "    </tr>\n",
       "    <tr>\n",
       "      <th>2024-04-12</th>\n",
       "      <td>20.0</td>\n",
       "      <td>1</td>\n",
       "      <td>NaN</td>\n",
       "    </tr>\n",
       "    <tr>\n",
       "      <th>2024-04-13</th>\n",
       "      <td>NaN</td>\n",
       "      <td>10</td>\n",
       "      <td>5900.0</td>\n",
       "    </tr>\n",
       "    <tr>\n",
       "      <th>2024-04-14</th>\n",
       "      <td>14.0</td>\n",
       "      <td>12</td>\n",
       "      <td>12000.0</td>\n",
       "    </tr>\n",
       "  </tbody>\n",
       "</table>\n",
       "</div>"
      ],
      "text/plain": [
       "            clientes  pedidos  ingresos\n",
       "2024-04-08      10.0        4       NaN\n",
       "2024-04-09       NaN        2   20000.0\n",
       "2024-04-10      12.0       14    4500.0\n",
       "2024-04-11      16.0       10    7000.0\n",
       "2024-04-12      20.0        1       NaN\n",
       "2024-04-13       NaN       10    5900.0\n",
       "2024-04-14      14.0       12   12000.0"
      ]
     },
     "execution_count": 9,
     "metadata": {},
     "output_type": "execute_result"
    }
   ],
   "source": [
    "semana = pd.date_range(start='2024-04-08', end='2024-04-14')\n",
    "\n",
    "df_resumen_ventas = pd.DataFrame(\n",
    "    data = {\n",
    "        \"clientes\":[10,np.nan,12,16,20,np.nan,14],\n",
    "        \"pedidos\":[4,2,14,10,1,10,12],\n",
    "        \"ingresos\":[np.nan,20000,4500,7000,np.nan,5900,12000]\n",
    "    },\n",
    "    index=semana)\n",
    "df_resumen_ventas"
   ]
  },
  {
   "cell_type": "markdown",
   "metadata": {},
   "source": [
    "Vamos a identificar la cantidad de nulos y dónde están ubicados."
   ]
  },
  {
   "cell_type": "code",
   "execution_count": 10,
   "metadata": {},
   "outputs": [
    {
     "data": {
      "text/html": [
       "<div>\n",
       "<style scoped>\n",
       "    .dataframe tbody tr th:only-of-type {\n",
       "        vertical-align: middle;\n",
       "    }\n",
       "\n",
       "    .dataframe tbody tr th {\n",
       "        vertical-align: top;\n",
       "    }\n",
       "\n",
       "    .dataframe thead th {\n",
       "        text-align: right;\n",
       "    }\n",
       "</style>\n",
       "<table border=\"1\" class=\"dataframe\">\n",
       "  <thead>\n",
       "    <tr style=\"text-align: right;\">\n",
       "      <th></th>\n",
       "      <th>clientes</th>\n",
       "      <th>pedidos</th>\n",
       "      <th>ingresos</th>\n",
       "    </tr>\n",
       "  </thead>\n",
       "  <tbody>\n",
       "    <tr>\n",
       "      <th>2024-04-08</th>\n",
       "      <td>False</td>\n",
       "      <td>False</td>\n",
       "      <td>True</td>\n",
       "    </tr>\n",
       "    <tr>\n",
       "      <th>2024-04-09</th>\n",
       "      <td>True</td>\n",
       "      <td>False</td>\n",
       "      <td>False</td>\n",
       "    </tr>\n",
       "    <tr>\n",
       "      <th>2024-04-10</th>\n",
       "      <td>False</td>\n",
       "      <td>False</td>\n",
       "      <td>False</td>\n",
       "    </tr>\n",
       "    <tr>\n",
       "      <th>2024-04-11</th>\n",
       "      <td>False</td>\n",
       "      <td>False</td>\n",
       "      <td>False</td>\n",
       "    </tr>\n",
       "    <tr>\n",
       "      <th>2024-04-12</th>\n",
       "      <td>False</td>\n",
       "      <td>False</td>\n",
       "      <td>True</td>\n",
       "    </tr>\n",
       "    <tr>\n",
       "      <th>2024-04-13</th>\n",
       "      <td>True</td>\n",
       "      <td>False</td>\n",
       "      <td>False</td>\n",
       "    </tr>\n",
       "    <tr>\n",
       "      <th>2024-04-14</th>\n",
       "      <td>False</td>\n",
       "      <td>False</td>\n",
       "      <td>False</td>\n",
       "    </tr>\n",
       "  </tbody>\n",
       "</table>\n",
       "</div>"
      ],
      "text/plain": [
       "            clientes  pedidos  ingresos\n",
       "2024-04-08     False    False      True\n",
       "2024-04-09      True    False     False\n",
       "2024-04-10     False    False     False\n",
       "2024-04-11     False    False     False\n",
       "2024-04-12     False    False      True\n",
       "2024-04-13      True    False     False\n",
       "2024-04-14     False    False     False"
      ]
     },
     "execution_count": 10,
     "metadata": {},
     "output_type": "execute_result"
    }
   ],
   "source": [
    "df_resumen_ventas.isnull() #transforma el dataframe a undataframe booleano"
   ]
  },
  {
   "cell_type": "code",
   "execution_count": 11,
   "metadata": {},
   "outputs": [
    {
     "data": {
      "text/plain": [
       "clientes    2\n",
       "pedidos     0\n",
       "ingresos    2\n",
       "dtype: int64"
      ]
     },
     "execution_count": 11,
     "metadata": {},
     "output_type": "execute_result"
    }
   ],
   "source": [
    "df_resumen_ventas.isnull().sum()"
   ]
  },
  {
   "cell_type": "markdown",
   "metadata": {},
   "source": [
    "¿Qué medidas puedo tomar para tarabajar con nulos?\n",
    "\n",
    "1. Eliminación\n",
    "2. "
   ]
  },
  {
   "cell_type": "markdown",
   "metadata": {},
   "source": [
    "## Eliminación\n",
    "\n",
    "Una medida drástica qie podemos tomar en la eliminación de cualquier FILA con nulos"
   ]
  },
  {
   "cell_type": "code",
   "execution_count": 13,
   "metadata": {},
   "outputs": [
    {
     "data": {
      "text/html": [
       "<div>\n",
       "<style scoped>\n",
       "    .dataframe tbody tr th:only-of-type {\n",
       "        vertical-align: middle;\n",
       "    }\n",
       "\n",
       "    .dataframe tbody tr th {\n",
       "        vertical-align: top;\n",
       "    }\n",
       "\n",
       "    .dataframe thead th {\n",
       "        text-align: right;\n",
       "    }\n",
       "</style>\n",
       "<table border=\"1\" class=\"dataframe\">\n",
       "  <thead>\n",
       "    <tr style=\"text-align: right;\">\n",
       "      <th></th>\n",
       "      <th>clientes</th>\n",
       "      <th>pedidos</th>\n",
       "      <th>ingresos</th>\n",
       "    </tr>\n",
       "  </thead>\n",
       "  <tbody>\n",
       "    <tr>\n",
       "      <th>2024-04-10</th>\n",
       "      <td>12.0</td>\n",
       "      <td>14</td>\n",
       "      <td>4500.0</td>\n",
       "    </tr>\n",
       "    <tr>\n",
       "      <th>2024-04-11</th>\n",
       "      <td>16.0</td>\n",
       "      <td>10</td>\n",
       "      <td>7000.0</td>\n",
       "    </tr>\n",
       "    <tr>\n",
       "      <th>2024-04-14</th>\n",
       "      <td>14.0</td>\n",
       "      <td>12</td>\n",
       "      <td>12000.0</td>\n",
       "    </tr>\n",
       "  </tbody>\n",
       "</table>\n",
       "</div>"
      ],
      "text/plain": [
       "            clientes  pedidos  ingresos\n",
       "2024-04-10      12.0       14    4500.0\n",
       "2024-04-11      16.0       10    7000.0\n",
       "2024-04-14      14.0       12   12000.0"
      ]
     },
     "execution_count": 13,
     "metadata": {},
     "output_type": "execute_result"
    }
   ],
   "source": [
    "#crea un nuevo DataFrame en donde se han eliminado todas las filas que tenian nulos.\n",
    "df_resumen_ventas.dropna()"
   ]
  },
  {
   "cell_type": "markdown",
   "metadata": {},
   "source": [
    "Si la cantidad de nulos no supera el 5%, el archivo no sufrirá cambios al eliminarlas"
   ]
  },
  {
   "cell_type": "markdown",
   "metadata": {},
   "source": []
  }
 ],
 "metadata": {
  "kernelspec": {
   "display_name": "Python 3",
   "language": "python",
   "name": "python3"
  },
  "language_info": {
   "codemirror_mode": {
    "name": "ipython",
    "version": 3
   },
   "file_extension": ".py",
   "mimetype": "text/x-python",
   "name": "python",
   "nbconvert_exporter": "python",
   "pygments_lexer": "ipython3",
   "version": "3.11.3"
  }
 },
 "nbformat": 4,
 "nbformat_minor": 2
}
