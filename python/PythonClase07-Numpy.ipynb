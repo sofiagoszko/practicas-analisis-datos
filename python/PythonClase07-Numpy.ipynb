{
 "cells": [
  {
   "cell_type": "markdown",
   "id": "62f0cf6c-d503-4cdc-b25c-c47bd6416f6c",
   "metadata": {},
   "source": [
    "# NUMPY\n"
   ]
  },
  {
   "cell_type": "markdown",
   "id": "d4bf5f2c-70f5-4c65-bec0-f696e5ddcc89",
   "metadata": {},
   "source": [
    "## Ejercicio 1.0\n",
    "\n",
    "Importamos la librería numpy:"
   ]
  },
  {
   "cell_type": "code",
   "execution_count": 22,
   "id": "a3efb947-021c-486a-9f1c-0d894ed1cf62",
   "metadata": {},
   "outputs": [],
   "source": [
    "import numpy as np"
   ]
  },
  {
   "cell_type": "markdown",
   "id": "eeee3cc9-9277-4fb1-990e-ae34e12a11f8",
   "metadata": {},
   "source": [
    "## Ejercicio 1.1\n",
    "\n",
    "Repaso de arrays:"
   ]
  },
  {
   "cell_type": "code",
   "execution_count": 23,
   "id": "56db19ef-bb8e-4e2b-be42-ff4928c00f7c",
   "metadata": {},
   "outputs": [],
   "source": [
    "#arreglo unidimensional\n",
    "array1 = np.array([1, 2, 3, 4, 5, 6, 7, 8, 9]) #le paso una lista y crea el array"
   ]
  },
  {
   "cell_type": "code",
   "execution_count": 24,
   "id": "dea45a35-d9c0-4b47-8b17-86f8208579d0",
   "metadata": {},
   "outputs": [
    {
     "name": "stdout",
     "output_type": "stream",
     "text": [
      "[1 2 3 4 5 6 7 8 9]\n"
     ]
    }
   ],
   "source": [
    "print(array1) #imprimo el array"
   ]
  },
  {
   "cell_type": "code",
   "execution_count": 25,
   "id": "040a4da3-1a54-4783-ae37-f4956097d825",
   "metadata": {},
   "outputs": [
    {
     "data": {
      "text/plain": [
       "numpy.ndarray"
      ]
     },
     "execution_count": 25,
     "metadata": {},
     "output_type": "execute_result"
    }
   ],
   "source": [
    "type(array1) #vemos el tipo de dato del array"
   ]
  },
  {
   "cell_type": "code",
   "execution_count": 26,
   "id": "141dd0b4-c961-4c95-b257-0b73461baddb",
   "metadata": {},
   "outputs": [],
   "source": [
    "array2 = np.array([1, 2, 3, 4, 5, 6, 10, 11, 12]) #creo otro array"
   ]
  },
  {
   "cell_type": "code",
   "execution_count": 27,
   "id": "45a22e5f-6c4e-4377-88e2-befec6a87112",
   "metadata": {},
   "outputs": [
    {
     "name": "stdout",
     "output_type": "stream",
     "text": [
      "[ 2  4  6  8 10 12 17 19 21]\n"
     ]
    }
   ],
   "source": [
    "print(array1 + array2) #imprimo la suma"
   ]
  },
  {
   "cell_type": "markdown",
   "id": "9150db4b",
   "metadata": {},
   "source": [
    "## Ejercicio 1.2\n",
    "\n",
    "Creamos matrices:"
   ]
  },
  {
   "cell_type": "code",
   "execution_count": 28,
   "id": "4366d64a-77e8-4a08-ba6f-bb20443c99ce",
   "metadata": {},
   "outputs": [],
   "source": [
    "#matriz de 2x2 bidimensional\n",
    "matriz1 = np.array([\n",
    "    [1,2],\n",
    "    [3,4]\n",
    "])"
   ]
  },
  {
   "cell_type": "code",
   "execution_count": 29,
   "id": "32d33c40-30cd-4b01-9d13-80660b8dc4b2",
   "metadata": {},
   "outputs": [
    {
     "name": "stdout",
     "output_type": "stream",
     "text": [
      "[[1 2]\n",
      " [3 4]]\n"
     ]
    }
   ],
   "source": [
    "print(matriz1)"
   ]
  },
  {
   "cell_type": "code",
   "execution_count": 30,
   "id": "98021bcb-51eb-4c13-a262-90bc35e4e42c",
   "metadata": {},
   "outputs": [
    {
     "name": "stdout",
     "output_type": "stream",
     "text": [
      "[[ 1  2  3]\n",
      " [ 4  5  6]\n",
      " [ 7  8  9]\n",
      " [10 11 12]]\n"
     ]
    }
   ],
   "source": [
    "#matriz 4x3 (filasxcolumnas)\n",
    "matriz2 = np.array([\n",
    "    [1,2,3],\n",
    "    [4,5,6],\n",
    "    [7,8,9],\n",
    "    [10,11,12]\n",
    "])\n",
    "print(matriz2)"
   ]
  },
  {
   "cell_type": "code",
   "execution_count": 31,
   "id": "725926e9-b589-4035-bfb8-07820612a249",
   "metadata": {},
   "outputs": [
    {
     "name": "stdout",
     "output_type": "stream",
     "text": [
      "[[ 1  2  3  4  5]\n",
      " [ 6  7  8  9 10]]\n"
     ]
    }
   ],
   "source": [
    "#matriz 2x5\n",
    "matriz3 = np.array([\n",
    "    [1, 2, 3, 4, 5],\n",
    "    [6, 7, 8, 9, 10]\n",
    "])\n",
    "print(matriz3)"
   ]
  },
  {
   "cell_type": "markdown",
   "id": "e82d1f5a-f467-4031-839b-862ada9e6d75",
   "metadata": {},
   "source": [
    "## Ejercicio 1.3\n",
    "\n",
    "Operaciones con matrices."
   ]
  },
  {
   "cell_type": "code",
   "execution_count": 32,
   "id": "82897420-9d3b-489e-b555-d387cc20024e",
   "metadata": {},
   "outputs": [],
   "source": [
    "matrizA = np.array([[1,2],[3,4]]) #matriz 2x2"
   ]
  },
  {
   "cell_type": "code",
   "execution_count": 33,
   "id": "64e29501-6c56-404d-b0be-4823df50642c",
   "metadata": {},
   "outputs": [],
   "source": [
    "matrizB = np.array([[1,2],[3,4]]) #matriz 2x2"
   ]
  },
  {
   "cell_type": "code",
   "execution_count": 34,
   "id": "8b89e694-b1f2-4bef-a3a2-79d37bcf6db3",
   "metadata": {},
   "outputs": [
    {
     "name": "stdout",
     "output_type": "stream",
     "text": [
      "[[ 7 10]\n",
      " [15 22]]\n"
     ]
    }
   ],
   "source": [
    "#con matmul puedo calcular el producto de dos arrays\n",
    "#antes lo calculábamos con matrizA * matrizB\n",
    "print(np.matmul(matrizA, matrizB))"
   ]
  },
  {
   "cell_type": "code",
   "execution_count": 35,
   "id": "ddd5215e-4f54-4183-8d10-8168919cf493",
   "metadata": {},
   "outputs": [
    {
     "name": "stdout",
     "output_type": "stream",
     "text": [
      "[[1 2 3 4]\n",
      " [5 6 7 8]]\n"
     ]
    }
   ],
   "source": [
    "#creamos una matriz\n",
    "matriz_original = np.array([[1,2,3,4], [5,6,7,8]])\n",
    "print(matriz_original)"
   ]
  },
  {
   "cell_type": "code",
   "execution_count": 36,
   "id": "f2db885d-cb74-4492-980c-81d076f96c1d",
   "metadata": {},
   "outputs": [
    {
     "name": "stdout",
     "output_type": "stream",
     "text": [
      "[[1 5]\n",
      " [2 6]\n",
      " [3 7]\n",
      " [4 8]]\n"
     ]
    }
   ],
   "source": [
    "#calculamos su traspuesta \n",
    "matriz_traspuesta = np.transpose(matriz_original)\n",
    "\n",
    "print(matriz_traspuesta)"
   ]
  },
  {
   "cell_type": "markdown",
   "id": "5d90df6d-8639-46e0-b2a5-6d024053e020",
   "metadata": {},
   "source": [
    "## Ejercicio 1.4\n",
    "\n",
    "Calcular el determinante de una matriz."
   ]
  },
  {
   "cell_type": "code",
   "execution_count": 37,
   "id": "39914c3c-3d78-4fb4-923b-574addc476c4",
   "metadata": {},
   "outputs": [],
   "source": [
    "matriz1 = np.array([[1,2],[3,4]])"
   ]
  },
  {
   "cell_type": "code",
   "execution_count": 38,
   "id": "0033aa39-280f-490b-970f-3eb7aef5d2c5",
   "metadata": {},
   "outputs": [],
   "source": [
    "determinante = np.linalg.det(matriz1)"
   ]
  },
  {
   "cell_type": "code",
   "execution_count": 39,
   "id": "0d999de9-864e-4015-8adc-cdd3300bbfaf",
   "metadata": {},
   "outputs": [
    {
     "name": "stdout",
     "output_type": "stream",
     "text": [
      "[[1 2]\n",
      " [3 4]]\n",
      "-2.0000000000000004\n"
     ]
    }
   ],
   "source": [
    "print(matriz1)\n",
    "print(determinante)"
   ]
  },
  {
   "cell_type": "markdown",
   "id": "0032313a-622c-4883-8edd-dcd3540e51bc",
   "metadata": {},
   "source": [
    "## Ejercicio 1.5\n",
    "\n",
    "Resolvemos ecuaciones lineales usando numpy.\n",
    "\n",
    "5*X + 6*Y = 20\n",
    "\n",
    "3*X + 8*Y = 34\n"
   ]
  },
  {
   "cell_type": "code",
   "execution_count": 40,
   "id": "1f800d0c-4ec2-4e5c-8630-6087ee48dbba",
   "metadata": {},
   "outputs": [],
   "source": [
    "#creamos una matriz con los coeficientes\n",
    "coeficientes = np.array([\n",
    "    [5,6],\n",
    "    [3,8]\n",
    "])\n",
    "\n",
    "#creamos una matriz con las ordenadas al origen\n",
    "ordenadas = np.array([20,34])"
   ]
  },
  {
   "cell_type": "code",
   "execution_count": 41,
   "id": "59e8189b-80af-4f00-a2a0-a69848ab9779",
   "metadata": {},
   "outputs": [
    {
     "name": "stdout",
     "output_type": "stream",
     "text": [
      "[-2.  5.]\n"
     ]
    }
   ],
   "source": [
    "solucion = np.linalg.solve(coeficientes, ordenadas)\n",
    "print(solucion)"
   ]
  },
  {
   "cell_type": "code",
   "execution_count": 42,
   "id": "9eb76d88-4d33-4dce-9e3e-283d5b09ceb4",
   "metadata": {},
   "outputs": [
    {
     "name": "stdout",
     "output_type": "stream",
     "text": [
      "El valor de X es -2\n",
      "El valor de Y es 5\n"
     ]
    }
   ],
   "source": [
    "print(f\"El valor de X es {round(solucion[0])}\")\n",
    "print(f\"El valor de Y es {round(solucion[1])}\")"
   ]
  },
  {
   "cell_type": "markdown",
   "id": "6e44285e-180c-4df5-8479-03a201502789",
   "metadata": {},
   "source": [
    "## Ejercicio 1.6\n",
    "\n",
    "Vamos a trabajar con una matriz de tres dimensiones."
   ]
  },
  {
   "cell_type": "code",
   "execution_count": 43,
   "id": "be89a2af-499c-4ff2-a576-b7afdf2cd286",
   "metadata": {},
   "outputs": [],
   "source": [
    "#creo la matriz de tres dimensiones\n",
    "matriz_multidimensiones = np.array([\n",
    "        [\n",
    "            [1,2,3,4],\n",
    "            [5,6,7,8],\n",
    "            [9,10,11,12]\n",
    "        ],\n",
    "        [\n",
    "            [13,14,15,16],\n",
    "            [16,17,18,19],\n",
    "            [20,21,22,23]\n",
    "        ],\n",
    "        [\n",
    "            [24,25,26,27],\n",
    "            [28,29,30,31],\n",
    "            [32,33,34,35]\n",
    "        ]\n",
    "    ])"
   ]
  },
  {
   "cell_type": "code",
   "execution_count": 44,
   "id": "267dc36e-7d5a-404e-9339-1c3aa12c7b85",
   "metadata": {},
   "outputs": [
    {
     "name": "stdout",
     "output_type": "stream",
     "text": [
      "[[[ 1  2  3  4]\n",
      "  [ 5  6  7  8]\n",
      "  [ 9 10 11 12]]\n",
      "\n",
      " [[13 14 15 16]\n",
      "  [16 17 18 19]\n",
      "  [20 21 22 23]]\n",
      "\n",
      " [[24 25 26 27]\n",
      "  [28 29 30 31]\n",
      "  [32 33 34 35]]]\n"
     ]
    }
   ],
   "source": [
    "print(matriz_multidimensiones) #imprimo la matriz de tres dimensiones"
   ]
  },
  {
   "cell_type": "code",
   "execution_count": 45,
   "id": "1cc02eae-af69-4681-a79e-5ae4b4765f14",
   "metadata": {},
   "outputs": [
    {
     "data": {
      "text/plain": [
       "1"
      ]
     },
     "execution_count": 45,
     "metadata": {},
     "output_type": "execute_result"
    }
   ],
   "source": [
    "#imprimo los valores de la matriz\n",
    "matriz_multidimensiones[0, 0, 0] #[submatriz/pagina, fila, columna]"
   ]
  },
  {
   "cell_type": "code",
   "execution_count": 46,
   "id": "05792f49-0255-4d84-b5ab-af5c17d1a80e",
   "metadata": {},
   "outputs": [
    {
     "data": {
      "text/plain": [
       "3"
      ]
     },
     "execution_count": 46,
     "metadata": {},
     "output_type": "execute_result"
    }
   ],
   "source": [
    "matriz_multidimensiones[0, 0, 2]"
   ]
  },
  {
   "cell_type": "code",
   "execution_count": 47,
   "id": "4da5767e-2499-4e5b-bf88-c9177c8e2029",
   "metadata": {},
   "outputs": [
    {
     "data": {
      "text/plain": [
       "10"
      ]
     },
     "execution_count": 47,
     "metadata": {},
     "output_type": "execute_result"
    }
   ],
   "source": [
    "matriz_multidimensiones[0, 2, 1]"
   ]
  },
  {
   "cell_type": "code",
   "execution_count": 48,
   "id": "c3e85bba-a8bd-45ea-af9d-8f1d6f97782f",
   "metadata": {},
   "outputs": [
    {
     "data": {
      "text/plain": [
       "31"
      ]
     },
     "execution_count": 48,
     "metadata": {},
     "output_type": "execute_result"
    }
   ],
   "source": [
    "matriz_multidimensiones[2, 1, 3]"
   ]
  },
  {
   "cell_type": "code",
   "execution_count": 49,
   "id": "22b23658-8a3c-4909-89b4-46b8b5ccac91",
   "metadata": {},
   "outputs": [
    {
     "data": {
      "text/plain": [
       "16"
      ]
     },
     "execution_count": 49,
     "metadata": {},
     "output_type": "execute_result"
    }
   ],
   "source": [
    "matriz_multidimensiones[1, 1, 0]"
   ]
  },
  {
   "cell_type": "code",
   "execution_count": 50,
   "id": "32b67b2d-6898-4542-83f8-f7c1e68ca7a9",
   "metadata": {},
   "outputs": [
    {
     "data": {
      "text/plain": [
       "34"
      ]
     },
     "execution_count": 50,
     "metadata": {},
     "output_type": "execute_result"
    }
   ],
   "source": [
    "matriz_multidimensiones[2, 2, 2]"
   ]
  },
  {
   "cell_type": "markdown",
   "id": "ceab9652-55d2-4a41-af68-7fa9607382af",
   "metadata": {},
   "source": [
    "## Ejercicio 1.7\n",
    "\n",
    "Podemos saber la cantidad de dimensiones que tiene cualquier arreglo:\n",
    "\n",
    "`np.ndim(matriz)`\n",
    "\n",
    "`matriz.ndim`"
   ]
  },
  {
   "cell_type": "code",
   "execution_count": 51,
   "id": "4d42655e-be26-44b2-a884-f4ffd4963d37",
   "metadata": {},
   "outputs": [
    {
     "data": {
      "text/plain": [
       "3"
      ]
     },
     "execution_count": 51,
     "metadata": {},
     "output_type": "execute_result"
    }
   ],
   "source": [
    "np.ndim(matriz_multidimensiones)"
   ]
  },
  {
   "cell_type": "code",
   "execution_count": 52,
   "id": "79f12abd-ab3a-41c2-9572-442245b28a3c",
   "metadata": {},
   "outputs": [
    {
     "data": {
      "text/plain": [
       "3"
      ]
     },
     "execution_count": 52,
     "metadata": {},
     "output_type": "execute_result"
    }
   ],
   "source": [
    "matriz_multidimensiones.ndim"
   ]
  },
  {
   "cell_type": "markdown",
   "id": "17dcbe22-cf70-474b-9ac7-fb8b42ca2932",
   "metadata": {},
   "source": [
    "## Ejercicio 1.8\n",
    "\n",
    "Podemos conocer la forma del array:\n",
    "\n",
    "`np.shape(matriz)`\n",
    "\n",
    "`matriz.shape`"
   ]
  },
  {
   "cell_type": "code",
   "execution_count": 53,
   "id": "7a259733-4577-4207-9588-759c3ace3cf8",
   "metadata": {},
   "outputs": [
    {
     "data": {
      "text/plain": [
       "(3, 3, 4)"
      ]
     },
     "execution_count": 53,
     "metadata": {},
     "output_type": "execute_result"
    }
   ],
   "source": [
    "np.shape(matriz_multidimensiones) #paginas/submatriz, filas, columnas"
   ]
  },
  {
   "cell_type": "code",
   "execution_count": 54,
   "id": "df5db98f-53be-4b85-8847-cf49b037080e",
   "metadata": {},
   "outputs": [
    {
     "data": {
      "text/plain": [
       "(3, 3, 4)"
      ]
     },
     "execution_count": 54,
     "metadata": {},
     "output_type": "execute_result"
    }
   ],
   "source": [
    "matriz_multidimensiones.shape"
   ]
  },
  {
   "cell_type": "markdown",
   "id": "cce61a1a-23ea-48ec-b49e-4b447493a27a",
   "metadata": {},
   "source": [
    "## Ejercicio 1.9\n",
    "\n",
    "Podemos ver la cantidad de elementos de un array:\n",
    "\n",
    "`np.size(matriz)`\n",
    "\n",
    "`matriz.size`"
   ]
  },
  {
   "cell_type": "code",
   "execution_count": 55,
   "id": "f30949d0-0f49-446d-a1ea-34501f3af22b",
   "metadata": {},
   "outputs": [
    {
     "data": {
      "text/plain": [
       "36"
      ]
     },
     "execution_count": 55,
     "metadata": {},
     "output_type": "execute_result"
    }
   ],
   "source": [
    "np.size(matriz_multidimensiones)"
   ]
  },
  {
   "cell_type": "code",
   "execution_count": 56,
   "id": "d6ade1e3-d625-4327-a2cf-36749507be46",
   "metadata": {},
   "outputs": [
    {
     "data": {
      "text/plain": [
       "36"
      ]
     },
     "execution_count": 56,
     "metadata": {},
     "output_type": "execute_result"
    }
   ],
   "source": [
    "matriz_multidimensiones.size"
   ]
  },
  {
   "cell_type": "markdown",
   "id": "5a082d98-0f2c-4e88-888e-e5539dd91098",
   "metadata": {},
   "source": [
    "## Ejercicio 1.10\n",
    "\n",
    "Vamos a crear o recortar un nuevo array a partir de uno existente usando los indices."
   ]
  },
  {
   "cell_type": "code",
   "execution_count": 57,
   "id": "6e1b6e7b-437d-40b9-a256-a0752c67ecd4",
   "metadata": {},
   "outputs": [],
   "source": [
    "array_unidimensional = np.array([1,2,3,5,1,5,3,7,3,8,3,6,3,7,2,6,7,2,6,7,2,5,6,7,2])"
   ]
  },
  {
   "cell_type": "code",
   "execution_count": 58,
   "id": "7897769c-c119-4500-bbb1-dff6bb8654cf",
   "metadata": {},
   "outputs": [
    {
     "name": "stdout",
     "output_type": "stream",
     "text": [
      "[1 2 3 5 1 5 3 7 3 8 3 6 3 7 2 6 7 2 6 7 2 5 6 7 2]\n"
     ]
    }
   ],
   "source": [
    "print(array_unidimensional)"
   ]
  },
  {
   "cell_type": "code",
   "execution_count": 59,
   "id": "a8c5fae3-3fae-4c45-8da9-f5ccde4d08e8",
   "metadata": {},
   "outputs": [
    {
     "data": {
      "text/plain": [
       "1"
      ]
     },
     "execution_count": 59,
     "metadata": {},
     "output_type": "execute_result"
    }
   ],
   "source": [
    "array_unidimensional[0]"
   ]
  },
  {
   "cell_type": "code",
   "execution_count": 60,
   "id": "6bf4838d-72e5-4b7b-b02e-38dd7d214d8b",
   "metadata": {},
   "outputs": [
    {
     "data": {
      "text/plain": [
       "2"
      ]
     },
     "execution_count": 60,
     "metadata": {},
     "output_type": "execute_result"
    }
   ],
   "source": [
    "array_unidimensional[1]"
   ]
  },
  {
   "cell_type": "code",
   "execution_count": 61,
   "id": "c5897474-9b94-476e-975d-764cbce907d3",
   "metadata": {},
   "outputs": [
    {
     "data": {
      "text/plain": [
       "2"
      ]
     },
     "execution_count": 61,
     "metadata": {},
     "output_type": "execute_result"
    }
   ],
   "source": [
    "array_unidimensional[-1]"
   ]
  },
  {
   "cell_type": "code",
   "execution_count": 62,
   "id": "25f50878-dd55-4a4c-a0a8-0f695dd90a26",
   "metadata": {},
   "outputs": [
    {
     "data": {
      "text/plain": [
       "6"
      ]
     },
     "execution_count": 62,
     "metadata": {},
     "output_type": "execute_result"
    }
   ],
   "source": [
    "array_unidimensional[-3]"
   ]
  },
  {
   "cell_type": "code",
   "execution_count": 63,
   "id": "d0669229-4064-4d8f-a542-b8468053418e",
   "metadata": {},
   "outputs": [
    {
     "data": {
      "text/plain": [
       "array([1, 2, 3, 5])"
      ]
     },
     "execution_count": 63,
     "metadata": {},
     "output_type": "execute_result"
    }
   ],
   "source": [
    "array_unidimensional[0:4] #de la posicion 0 a la 4 (sin incluir el de la posicion 4) "
   ]
  },
  {
   "cell_type": "code",
   "execution_count": 64,
   "id": "50a2910a-a20b-42df-ad91-559004893d2f",
   "metadata": {},
   "outputs": [
    {
     "data": {
      "text/plain": [
       "array([5, 1, 5, 3, 7, 3, 8, 3, 6, 3, 7, 2, 6, 7, 2, 6, 7, 2, 5, 6, 7, 2])"
      ]
     },
     "execution_count": 64,
     "metadata": {},
     "output_type": "execute_result"
    }
   ],
   "source": [
    "array_unidimensional[3:] #trae todo desde la posicion 3 y hacia la derecha"
   ]
  },
  {
   "cell_type": "code",
   "execution_count": 65,
   "id": "6dc0e4e3-2205-4461-9f87-ac0de71aa186",
   "metadata": {},
   "outputs": [
    {
     "data": {
      "text/plain": [
       "array([6, 7, 2])"
      ]
     },
     "execution_count": 65,
     "metadata": {},
     "output_type": "execute_result"
    }
   ],
   "source": [
    "array_unidimensional[-3:] #los último tres valores"
   ]
  },
  {
   "cell_type": "code",
   "execution_count": 66,
   "id": "a4ba73e6-e076-4d3c-baf9-1e0d445973e2",
   "metadata": {},
   "outputs": [
    {
     "data": {
      "text/plain": [
       "array([1, 2, 3, 5, 1])"
      ]
     },
     "execution_count": 66,
     "metadata": {},
     "output_type": "execute_result"
    }
   ],
   "source": [
    "array_unidimensional[:5] #trae hasta la posicion de llegada (del inicio hasta la posicion 5 sin inlcuirla, lo de la izquierda)"
   ]
  },
  {
   "cell_type": "code",
   "execution_count": 67,
   "id": "72f9b840-8839-409b-80e4-d0019ade4f13",
   "metadata": {},
   "outputs": [
    {
     "data": {
      "text/plain": [
       "array([1, 2, 3, 5, 1, 5, 3, 7, 3, 8, 3, 6, 3, 7, 2])"
      ]
     },
     "execution_count": 67,
     "metadata": {},
     "output_type": "execute_result"
    }
   ],
   "source": [
    "array_unidimensional[:-10]"
   ]
  },
  {
   "cell_type": "markdown",
   "id": "bdeaa2d1-4f86-424c-98f5-a5c47971e28b",
   "metadata": {},
   "source": [
    "## Ejercicio 1.11\n",
    "\n",
    "Ordenar el array de forma ascendente, es decir de menor a mayor.\n",
    "\n",
    "`np.sort(array_desordenado)`"
   ]
  },
  {
   "cell_type": "code",
   "execution_count": 68,
   "id": "3b3db8a0-cdd5-4361-9bec-3df71851c6f3",
   "metadata": {},
   "outputs": [],
   "source": [
    "array_desordenado = np.array([5,4,-2,9,-7,12,-6,5,1,-3,3,-10,12,14,15,20,-6,-1,0,4,-5,7,3,2,8,-2,10])"
   ]
  },
  {
   "cell_type": "code",
   "execution_count": 69,
   "id": "61dac0d3-211d-4d7e-b759-a85cd9da1d0a",
   "metadata": {},
   "outputs": [],
   "source": [
    "array_ascendente = np.sort(array_desordenado)"
   ]
  },
  {
   "cell_type": "code",
   "execution_count": 70,
   "id": "29e8c9db-3c70-488f-9238-0fd953738ed3",
   "metadata": {},
   "outputs": [
    {
     "name": "stdout",
     "output_type": "stream",
     "text": [
      "[-10  -7  -6  -6  -5  -3  -2  -2  -1   0   1   2   3   3   4   4   5   5\n",
      "   7   8   9  10  12  12  14  15  20]\n"
     ]
    }
   ],
   "source": [
    "print(array_ascendente)"
   ]
  },
  {
   "cell_type": "markdown",
   "id": "f25fdcbc-8d7a-4cb4-bc94-d2dfb2636ece",
   "metadata": {},
   "source": [
    "## Ejercicio 1.12\n",
    "\n",
    "Puedo reordenar el array en función de los índices, los valores que estaban primeros pasan a estar últimos y los que estaban últimos pasan a estar primeros.\n",
    "\n",
    "`np.flip(mi_array)`"
   ]
  },
  {
   "cell_type": "code",
   "execution_count": 71,
   "id": "7ee5f3bf-45a3-4015-9a40-fe7e7bc48296",
   "metadata": {},
   "outputs": [],
   "source": [
    "array_desordenado = np.array([5,4,-2,9,-7,12,-6,5,1,-3,3,-10,12,14,15,20,-6,-1,0,4,-5,7,3,2,8,-2,10])"
   ]
  },
  {
   "cell_type": "code",
   "execution_count": 72,
   "id": "84b6081d-e18b-46c4-adc2-e9286f5ee4d7",
   "metadata": {},
   "outputs": [
    {
     "name": "stdout",
     "output_type": "stream",
     "text": [
      "[ 10  -2   8   2   3   7  -5   4   0  -1  -6  20  15  14  12 -10   3  -3\n",
      "   1   5  -6  12  -7   9  -2   4   5]\n"
     ]
    }
   ],
   "source": [
    "array_invertido = np.flip(array_desordenado)\n",
    "print(array_invertido)"
   ]
  },
  {
   "cell_type": "markdown",
   "id": "e72c1dcb-1631-4d18-ba5c-ab7aba214d93",
   "metadata": {},
   "source": [
    "## Ejercicio 1.13\n",
    "\n",
    "Vamos a crear un array con números aleatorios.\n",
    "\n",
    "`np.random.default_rng()`"
   ]
  },
  {
   "cell_type": "code",
   "execution_count": 73,
   "id": "7b3b55eb-424e-47e2-bda2-27b7bd71da89",
   "metadata": {},
   "outputs": [],
   "source": [
    "rng = np.random.default_rng() #construsctor"
   ]
  },
  {
   "cell_type": "code",
   "execution_count": 74,
   "id": "f8886663-6890-42a5-bc6e-1793aba3d58b",
   "metadata": {},
   "outputs": [
    {
     "data": {
      "text/plain": [
       "array([0.87551048, 0.25358425, 0.68564749])"
      ]
     },
     "execution_count": 74,
     "metadata": {},
     "output_type": "execute_result"
    }
   ],
   "source": [
    "#arrays con valores aleatorios entre 0 y 1\n",
    "rng.random(3)"
   ]
  },
  {
   "cell_type": "code",
   "execution_count": 75,
   "id": "7a6ee013-a8e2-4417-a409-1a0be1bf901c",
   "metadata": {},
   "outputs": [
    {
     "data": {
      "text/plain": [
       "array([0.39562275, 0.15040746, 0.11961352, 0.33405455, 0.87436115])"
      ]
     },
     "execution_count": 75,
     "metadata": {},
     "output_type": "execute_result"
    }
   ],
   "source": [
    "rng.random(5)"
   ]
  },
  {
   "cell_type": "code",
   "execution_count": 76,
   "id": "ee8c7b9d-c50b-4522-9238-7df81dc85df1",
   "metadata": {},
   "outputs": [
    {
     "data": {
      "text/plain": [
       "array([ 8, 10, 10,  2,  5,  8], dtype=int64)"
      ]
     },
     "execution_count": 76,
     "metadata": {},
     "output_type": "execute_result"
    }
   ],
   "source": [
    "#arrays con valores aleatorios entre números enteros\n",
    "rng.integers(1,11,6) #valor mínimo inlcuisivo, valor máximo exclusivo, size"
   ]
  },
  {
   "cell_type": "code",
   "execution_count": 77,
   "id": "98c7f27a-4f57-42eb-a4bf-e4b4f8c61a43",
   "metadata": {},
   "outputs": [
    {
     "data": {
      "text/plain": [
       "array([[ 0,  8, 12],\n",
       "       [10, 11,  7],\n",
       "       [14,  4,  1],\n",
       "       [ 5, 13,  0]], dtype=int64)"
      ]
     },
     "execution_count": 77,
     "metadata": {},
     "output_type": "execute_result"
    }
   ],
   "source": [
    "rng.integers(-5,15,[4,3]) #matriz 4x3"
   ]
  },
  {
   "cell_type": "code",
   "execution_count": 78,
   "id": "5313d5c2-1584-4c04-b6b0-8979228739fe",
   "metadata": {},
   "outputs": [
    {
     "data": {
      "text/plain": [
       "array([[[  6,  66,  50],\n",
       "        [ 99,  -6,  41],\n",
       "        [ 17,  98,  74],\n",
       "        [ 37,   4,  51]],\n",
       "\n",
       "       [[  6,   5,  51],\n",
       "        [  2, -14,  27],\n",
       "        [ 52,  38,  77],\n",
       "        [ 93,  29,  54]]], dtype=int64)"
      ]
     },
     "execution_count": 78,
     "metadata": {},
     "output_type": "execute_result"
    }
   ],
   "source": [
    "rng.integers(-20,100,[2,4,3]) #2 paginas, 4 filas, 3 columnas"
   ]
  },
  {
   "cell_type": "markdown",
   "id": "2c8bec03-6e3c-4bb5-92a2-1218f797a3a9",
   "metadata": {},
   "source": [
    "## Ejercicio 1.14\n",
    "\n",
    "Generar un array con números aleatorios elegidos desde otro array:\n",
    "\n",
    "`rng.choice(array, cantidad_elementos)`"
   ]
  },
  {
   "cell_type": "code",
   "execution_count": 79,
   "id": "528363e1-1d26-4d7a-b7fe-814544e1cbb3",
   "metadata": {},
   "outputs": [
    {
     "name": "stdout",
     "output_type": "stream",
     "text": [
      "[5, 4, -2, 9, -7, 12, -6, 5, 1, -3, 3, -10, 12, 14, 15, 20, -6, -1, 0, 4, -5, 7, 3, 2, 8, -2, 10]\n"
     ]
    }
   ],
   "source": [
    "array_base = [5,4,-2,9,-7,12,-6,5,1,-3,3,-10,12,14,15,20,-6,-1,0,4,-5,7,3,2,8,-2,10]\n",
    "print(array_base)"
   ]
  },
  {
   "cell_type": "code",
   "execution_count": 80,
   "id": "e0747160-ccdb-445d-af56-3b742a3c54fd",
   "metadata": {},
   "outputs": [
    {
     "name": "stdout",
     "output_type": "stream",
     "text": [
      "[10 -3  7]\n"
     ]
    }
   ],
   "source": [
    "array_generado = rng.choice(array_base, 3)\n",
    "print(array_generado)"
   ]
  },
  {
   "cell_type": "code",
   "execution_count": 81,
   "id": "cee9cb19-ffef-44fc-a00e-0adf3d710eda",
   "metadata": {},
   "outputs": [
    {
     "name": "stdout",
     "output_type": "stream",
     "text": [
      "[[-5 -7]\n",
      " [ 8 12]\n",
      " [-2 -6]]\n"
     ]
    }
   ],
   "source": [
    "array_generado = rng.choice(array_base, [3,2])\n",
    "print(array_generado)"
   ]
  },
  {
   "cell_type": "markdown",
   "id": "f02a78b7-31f3-4622-8831-beb308d40765",
   "metadata": {},
   "source": [
    "## Ejercicio 1.15\n",
    "\n",
    "Cómo extrar los valores de un array sin tener números repetidos:\n",
    "\n",
    "`np.unique(array_con_repetidos)`"
   ]
  },
  {
   "cell_type": "code",
   "execution_count": 82,
   "id": "765e47fd-526a-425a-aae9-ab308ccf20fd",
   "metadata": {},
   "outputs": [],
   "source": [
    "array_repetidos = np.array([1,1,1,2,2,11,22,14,14,16,13,15,15,17,5,4,3,6,16,1,6,6,8,8,8,1,3,9,16,1,5,11,17,16,19,16,16,12,13,18,19,6,3,8,18,16])"
   ]
  },
  {
   "cell_type": "code",
   "execution_count": 83,
   "id": "50918db3-1da3-453d-9329-9739cc86bde3",
   "metadata": {},
   "outputs": [
    {
     "name": "stdout",
     "output_type": "stream",
     "text": [
      "[ 1  1  1  2  2 11 22 14 14 16 13 15 15 17  5  4  3  6 16  1  6  6  8  8\n",
      "  8  1  3  9 16  1  5 11 17 16 19 16 16 12 13 18 19  6  3  8 18 16]\n"
     ]
    }
   ],
   "source": [
    "print(array_repetidos)"
   ]
  },
  {
   "cell_type": "code",
   "execution_count": 84,
   "id": "e569d8ca-a605-4ffe-ad98-be04b07516d5",
   "metadata": {},
   "outputs": [
    {
     "name": "stdout",
     "output_type": "stream",
     "text": [
      "[ 1  2  3  4  5  6  8  9 11 12 13 14 15 16 17 18 19 22]\n"
     ]
    }
   ],
   "source": [
    "no_repetidos = np.unique(array_repetidos)\n",
    "print(no_repetidos)"
   ]
  },
  {
   "cell_type": "markdown",
   "id": "7b47d74e",
   "metadata": {},
   "source": [
    "## PRÁCTICA\n",
    "\n"
   ]
  },
  {
   "cell_type": "markdown",
   "id": "d53dc4cc",
   "metadata": {},
   "source": [
    "### Ejercicio 2.0\n",
    "\n",
    "Tenemos una función cúbica con la forma (3x^3-7x^2+6*x+9):\n"
   ]
  },
  {
   "cell_type": "code",
   "execution_count": 90,
   "id": "a653a1a6",
   "metadata": {},
   "outputs": [],
   "source": [
    "def mi_funcion(x):\n",
    "    return 3* x**3 - 7* x**2 + 6*x + 9"
   ]
  },
  {
   "cell_type": "markdown",
   "id": "1c9cee81",
   "metadata": {},
   "source": [
    "### Ejercicio 2.1\n",
    "Calcular cuales serían los valores obtenidos al pasarle como argumentos los valores pares desde 0 a 20 incluyendo ambos. Guardar el resultado en un array."
   ]
  },
  {
   "cell_type": "code",
   "execution_count": 93,
   "id": "b80d4121",
   "metadata": {},
   "outputs": [
    {
     "name": "stdout",
     "output_type": "stream",
     "text": [
      "[    9    17   113   441  1145  2369  4257  6953 10601 15345 21329]\n"
     ]
    }
   ],
   "source": [
    "resultados = []\n",
    "for numero in range(0, 21, 2):\n",
    "    valor = mi_funcion(numero)\n",
    "    resultados.append(valor)\n",
    "\n",
    "array_resultados = np.array(resultados)\n",
    "print(array_resultados)"
   ]
  },
  {
   "cell_type": "markdown",
   "id": "db0beb63",
   "metadata": {},
   "source": [
    "### Ejercicio 2.1\n",
    "\n",
    "Al array que obtuvimos en la sección anterior:\n",
    "\n",
    ". Calcula la media de los números en el array que contiene los valores calculados.\n",
    "\n",
    ". Calcula la desviación estándar de los números en el array calculado.\n",
    "\n",
    ". Encuentra el valor máximo y su índice en el array calculado.\n",
    "\n",
    ". Crea un nuevo array array_cuadrados que contenga el cuadrado de cada número en calculado.\n",
    "\n",
    ". Crear un array con la suma acumulativa (a1, a1+a2, a1+a2+a3, .....) de los elementos en array_cuadrados.\n",
    "\n",
    ". Crear un array con la raiz 5ta de cada valor de array_cuadrados (redondear a 2 decimales).\n",
    "\n",
    ". Imprimir los resultados obtenidos."
   ]
  },
  {
   "cell_type": "code",
   "execution_count": 98,
   "id": "a08dd9dd",
   "metadata": {},
   "outputs": [],
   "source": [
    "media = np.mean(array_resultados)\n",
    "desviacion_estandar = np.std(array_resultados)\n",
    "max = np.max(array_resultados)\n",
    "indice_maximo = np.argmax(array_resultados)\n",
    "\n",
    "array_cuadrado = np.square(array_resultados)\n",
    "array_acumulativo = np.cumsum(array_resultados)\n",
    "array_raiz_quinta = np.power(array_cuadrado, 1/5).round(2)"
   ]
  },
  {
   "cell_type": "code",
   "execution_count": 100,
   "id": "2c0ad7a0",
   "metadata": {},
   "outputs": [
    {
     "name": "stdout",
     "output_type": "stream",
     "text": [
      "Media: 5689.0\n",
      "Desviación estandar: 6877.906658279102\n",
      "Valor maximo: 21329\n",
      "El valor máximo está en la posición: 10\n",
      "[       81       289     12769    194481   1311025   5612161  18122049\n",
      "  48344209 112381201 235469025 454926241]\n",
      "[    9    26   139   580  1725  4094  8351 15304 25905 41250 62579]\n",
      "[ 2.41  3.11  6.63 11.42 16.73 22.38 28.29 34.42 40.75 47.25 53.9 ]\n"
     ]
    }
   ],
   "source": [
    "print(f\"Media: {media}\")\n",
    "print(f\"Desviación estandar: {desviacion_estandar}\")\n",
    "print(f\"Valor maximo: {max}\")\n",
    "print(f\"El valor máximo está en la posición: {indice_maximo}\")\n",
    "print(array_cuadrado)\n",
    "print(array_acumulativo)\n",
    "print(array_raiz_quinta)\n"
   ]
  }
 ],
 "metadata": {
  "kernelspec": {
   "display_name": "Python 3 (ipykernel)",
   "language": "python",
   "name": "python3"
  },
  "language_info": {
   "codemirror_mode": {
    "name": "ipython",
    "version": 3
   },
   "file_extension": ".py",
   "mimetype": "text/x-python",
   "name": "python",
   "nbconvert_exporter": "python",
   "pygments_lexer": "ipython3",
   "version": "3.11.3"
  }
 },
 "nbformat": 4,
 "nbformat_minor": 5
}
