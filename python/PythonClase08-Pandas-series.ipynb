{
 "cells": [
  {
   "cell_type": "markdown",
   "metadata": {},
   "source": [
    "# PANDAS - SERIES\n",
    "\n",
    "Librería especializada en la manipulación y el análisis de datos.\n",
    "\n",
    "Permite trabajar con datos estructurados (organizados en tablas).\n",
    "\n",
    "En Pandas hay dos objetos:\n",
    "\n",
    "- Serie: estructura de una dimensión\n",
    "- Dataframe: estructura de dos dimensiones (tablas)\n",
    "\n",
    "La mayoría de los métodos y funciones son compatibles entre series y dataframes.\n",
    "\n",
    "Asimismo, nos permite trabajar con diferentes tipos de archivos (.csv, .txt, .xlsx, .json) como así también leer archivos que se encuentran en la web."
   ]
  },
  {
   "cell_type": "markdown",
   "metadata": {},
   "source": [
    "## Ejercicio 1.0\n",
    "\n",
    "Instalamos e importamos la librería."
   ]
  },
  {
   "cell_type": "code",
   "execution_count": 90,
   "metadata": {},
   "outputs": [
    {
     "name": "stdout",
     "output_type": "stream",
     "text": [
      "Requirement already satisfied: pandas in c:\\users\\jag\\appdata\\local\\programs\\python\\python311\\lib\\site-packages (2.2.2)\n",
      "Requirement already satisfied: numpy>=1.23.2 in c:\\users\\jag\\appdata\\local\\programs\\python\\python311\\lib\\site-packages (from pandas) (1.25.2)\n",
      "Requirement already satisfied: python-dateutil>=2.8.2 in c:\\users\\jag\\appdata\\roaming\\python\\python311\\site-packages (from pandas) (2.8.2)\n",
      "Requirement already satisfied: pytz>=2020.1 in c:\\users\\jag\\appdata\\local\\programs\\python\\python311\\lib\\site-packages (from pandas) (2024.1)\n",
      "Requirement already satisfied: tzdata>=2022.7 in c:\\users\\jag\\appdata\\local\\programs\\python\\python311\\lib\\site-packages (from pandas) (2024.1)\n",
      "Requirement already satisfied: six>=1.5 in c:\\users\\jag\\appdata\\roaming\\python\\python311\\site-packages (from python-dateutil>=2.8.2->pandas) (1.16.0)\n",
      "Note: you may need to restart the kernel to use updated packages.\n"
     ]
    }
   ],
   "source": [
    "%pip install pandas"
   ]
  },
  {
   "cell_type": "code",
   "execution_count": 91,
   "metadata": {},
   "outputs": [
    {
     "name": "stdout",
     "output_type": "stream",
     "text": [
      "Requirement already satisfied: pip in c:\\users\\jag\\appdata\\local\\programs\\python\\python311\\lib\\site-packages (24.0)\n"
     ]
    }
   ],
   "source": [
    "!python.exe -m pip install --upgrade pip"
   ]
  },
  {
   "cell_type": "code",
   "execution_count": 92,
   "metadata": {},
   "outputs": [
    {
     "name": "stdout",
     "output_type": "stream",
     "text": [
      "Requirement already satisfied: pandas==2.2.2 in c:\\users\\jag\\appdata\\local\\programs\\python\\python311\\lib\\site-packages (2.2.2)\n",
      "Requirement already satisfied: numpy>=1.23.2 in c:\\users\\jag\\appdata\\local\\programs\\python\\python311\\lib\\site-packages (from pandas==2.2.2) (1.25.2)\n",
      "Requirement already satisfied: python-dateutil>=2.8.2 in c:\\users\\jag\\appdata\\roaming\\python\\python311\\site-packages (from pandas==2.2.2) (2.8.2)\n",
      "Requirement already satisfied: pytz>=2020.1 in c:\\users\\jag\\appdata\\local\\programs\\python\\python311\\lib\\site-packages (from pandas==2.2.2) (2024.1)\n",
      "Requirement already satisfied: tzdata>=2022.7 in c:\\users\\jag\\appdata\\local\\programs\\python\\python311\\lib\\site-packages (from pandas==2.2.2) (2024.1)\n",
      "Requirement already satisfied: six>=1.5 in c:\\users\\jag\\appdata\\roaming\\python\\python311\\site-packages (from python-dateutil>=2.8.2->pandas==2.2.2) (1.16.0)\n",
      "Note: you may need to restart the kernel to use updated packages.\n"
     ]
    }
   ],
   "source": [
    "#especificamos la versión a instalar\n",
    "%pip install pandas==2.2.2"
   ]
  },
  {
   "cell_type": "code",
   "execution_count": 93,
   "metadata": {},
   "outputs": [],
   "source": [
    "import pandas as pd #importamos la librería con el alias ps\n",
    "import numpy as np #importamos la librería numpy con el alias np"
   ]
  },
  {
   "cell_type": "markdown",
   "metadata": {},
   "source": [
    "## SERIES\n",
    "\n",
    "Las series nos permiten reprensentar informacion en forma de columnas.\n",
    "\n",
    "info: https://pandas.pydata.org/docs/reference/series.html"
   ]
  },
  {
   "cell_type": "markdown",
   "metadata": {},
   "source": [
    "### Ejercicio 1.1\n",
    "\n",
    "Creación de series.\n",
    "\n",
    "`pd.Serie()`\n",
    "\n",
    "La serie quedará formada de la siguiente manera:\n",
    "\n",
    "_Indice_de_la_fila     Valor_\n",
    "\n",
    "[datos]\n",
    "\n",
    "_Tipo de dato_"
   ]
  },
  {
   "cell_type": "code",
   "execution_count": 94,
   "metadata": {},
   "outputs": [
    {
     "name": "stdout",
     "output_type": "stream",
     "text": [
      "[1, 3, 10, 22]\n",
      "-----------------\n",
      "0     1\n",
      "1     3\n",
      "2    10\n",
      "3    22\n",
      "dtype: int64\n"
     ]
    }
   ],
   "source": [
    "lista_numerica = [1, 3, 10, 22] #creo una lista numérica\n",
    "\n",
    "serie_numerica = pd.Series(lista_numerica) #la convierto en una serie\n",
    "\n",
    "\n",
    "print(lista_numerica)\n",
    "print(\"-----------------\")\n",
    "#indice_de_fila  valor\n",
    "#tipo de dato\n",
    "print(serie_numerica)\n"
   ]
  },
  {
   "cell_type": "code",
   "execution_count": 95,
   "metadata": {},
   "outputs": [
    {
     "name": "stdout",
     "output_type": "stream",
     "text": [
      "0    blanco\n",
      "1      rojo\n",
      "2      azul\n",
      "3      rosa\n",
      "dtype: object\n"
     ]
    }
   ],
   "source": [
    "lista_colores = [\"blanco\", \"rojo\", \"azul\", \"rosa\"]\n",
    "serie_colores = pd.Series(lista_colores)\n",
    "print(serie_colores)"
   ]
  },
  {
   "cell_type": "code",
   "execution_count": 96,
   "metadata": {},
   "outputs": [
    {
     "name": "stdout",
     "output_type": "stream",
     "text": [
      "0     True\n",
      "1    False\n",
      "2     True\n",
      "3     True\n",
      "4    False\n",
      "dtype: bool\n"
     ]
    }
   ],
   "source": [
    "lista_booleana = [True, False, True, True, False]\n",
    "serie_booleana = pd.Series(lista_booleana)\n",
    "print(serie_booleana)"
   ]
  },
  {
   "cell_type": "code",
   "execution_count": 97,
   "metadata": {},
   "outputs": [
    {
     "name": "stdout",
     "output_type": "stream",
     "text": [
      "0      1\n",
      "1      5\n",
      "2     10\n",
      "3     33\n",
      "4    100\n",
      "dtype: int32\n"
     ]
    }
   ],
   "source": [
    "array = np.array([1, 5, 10, 33, 100])\n",
    "\n",
    "serie_array = pd.Series(array) #de array de numpy a serie de pandas\n",
    "print(serie_array)"
   ]
  },
  {
   "cell_type": "markdown",
   "metadata": {},
   "source": [
    "### Ejercicio 1.2\n",
    "\n",
    "Cuando creo una serie puedo castear el tipo de dato en una sola linea de código."
   ]
  },
  {
   "cell_type": "code",
   "execution_count": 98,
   "metadata": {},
   "outputs": [
    {
     "name": "stdout",
     "output_type": "stream",
     "text": [
      "0     1111111\n",
      "1    12345678\n",
      "2    34567890\n",
      "3    45678123\n",
      "dtype: string\n"
     ]
    }
   ],
   "source": [
    "lista_dni = [1111111, 12345678, 34567890, 45678123]\n",
    "\n",
    "serie_dni = pd.Series(lista_dni, dtype=\"string\")\n",
    "print(serie_dni)"
   ]
  },
  {
   "cell_type": "code",
   "execution_count": 99,
   "metadata": {},
   "outputs": [
    {
     "name": "stdout",
     "output_type": "stream",
     "text": [
      "0     True\n",
      "1    False\n",
      "2     True\n",
      "3     True\n",
      "4    False\n",
      "dtype: boolean\n"
     ]
    }
   ],
   "source": [
    "serie_bool = pd.Series([True, False, True, True, False], dtype=\"boolean\")\n",
    "print(serie_bool)"
   ]
  },
  {
   "cell_type": "markdown",
   "metadata": {},
   "source": [
    "### Ejercicio 1.3\n",
    "\n",
    "Puedo indicar el índice a una serie.\n",
    "\n",
    "`index`"
   ]
  },
  {
   "cell_type": "code",
   "execution_count": 100,
   "metadata": {},
   "outputs": [
    {
     "name": "stdout",
     "output_type": "stream",
     "text": [
      "sebastian    10\n",
      "sofia         9\n",
      "miguel        3\n",
      "florencia     5\n",
      "victor        6\n",
      "dtype: int64\n"
     ]
    }
   ],
   "source": [
    "lista_alumnos = [\"sebastian\", \"sofia\", \"miguel\", \"florencia\", \"victor\"]\n",
    "lista_nota_final = [10, 9, 3, 5, 6]\n",
    "\n",
    "serie_nota_alumnos = pd.Series(lista_nota_final, index=lista_alumnos) #los indices representan info (un id)\n",
    "print(serie_nota_alumnos)"
   ]
  },
  {
   "cell_type": "code",
   "execution_count": 101,
   "metadata": {},
   "outputs": [
    {
     "name": "stdout",
     "output_type": "stream",
     "text": [
      "sebastian     True\n",
      "sofia         True\n",
      "miguel       False\n",
      "florencia    False\n",
      "victor        True\n",
      "dtype: bool\n"
     ]
    }
   ],
   "source": [
    "lista_matricula_pago = [True, True, False, False, True]\n",
    "serie_matricula_alumnos = pd.Series(lista_matricula_pago, index=lista_alumnos)\n",
    "print(serie_matricula_alumnos)"
   ]
  },
  {
   "cell_type": "markdown",
   "metadata": {},
   "source": [
    "### Ejercicio 1.4\n",
    "\n",
    "Podemos extraer la información de un diccionario y convertirlo en una Serie.\n"
   ]
  },
  {
   "cell_type": "code",
   "execution_count": 102,
   "metadata": {},
   "outputs": [
    {
     "name": "stdout",
     "output_type": "stream",
     "text": [
      "andres    1000\n",
      "sofia     7420\n",
      "miguel    2940\n",
      "victor    7480\n",
      "melina    6514\n",
      "Name: Salarios empleados, dtype: int64\n"
     ]
    }
   ],
   "source": [
    "diccionario_salario = {\n",
    "    \"andres\" : 1000,\n",
    "    \"sofia\" : 7420,\n",
    "    \"miguel\" : 2940,\n",
    "    \"victor\" : 7480,\n",
    "    \"melina\": 6514\n",
    "}\n",
    "\n",
    "serie_salarios = pd.Series(diccionario_salario, name=\"Salarios empleados\")\n",
    "print(serie_salarios)\n"
   ]
  },
  {
   "cell_type": "markdown",
   "metadata": {},
   "source": [
    "### Ejercicio 1.5\n",
    "\n",
    "Series a partir de números random."
   ]
  },
  {
   "cell_type": "code",
   "execution_count": 103,
   "metadata": {},
   "outputs": [],
   "source": [
    "rng = np.random.default_rng() #se crea una serie con números aleatorios"
   ]
  },
  {
   "cell_type": "code",
   "execution_count": 104,
   "metadata": {},
   "outputs": [
    {
     "name": "stdout",
     "output_type": "stream",
     "text": [
      "Generator(PCG64)\n"
     ]
    }
   ],
   "source": [
    "print(rng)"
   ]
  },
  {
   "cell_type": "code",
   "execution_count": 132,
   "metadata": {},
   "outputs": [],
   "source": [
    "lista_alumnos = [\"sebastian\", \"sofia\", \"miguel\", \"florencia\", \"victor\", \"eva\", \"macarena\", \"pedro\", \"estevan\", \"sonia\", \"nicolas\", \"nadia\", \"zulma\", \"pablo\", \"ana\"]\n",
    "\n",
    "serie_promedios = pd.Series(data=rng.integers(1, 11, len(lista_alumnos)),index=lista_alumnos, name=\"Promedio alumnos\") #rng.integers(valor_min, valor_max, tamaño)"
   ]
  },
  {
   "cell_type": "code",
   "execution_count": 133,
   "metadata": {},
   "outputs": [
    {
     "name": "stdout",
     "output_type": "stream",
     "text": [
      "sebastian     3\n",
      "sofia         6\n",
      "miguel       10\n",
      "florencia     3\n",
      "victor        7\n",
      "eva          10\n",
      "macarena      9\n",
      "pedro         7\n",
      "estevan       7\n",
      "sonia         5\n",
      "nicolas       3\n",
      "nadia         7\n",
      "zulma         6\n",
      "pablo         8\n",
      "ana           4\n",
      "Name: Promedio alumnos, dtype: int64\n"
     ]
    }
   ],
   "source": [
    "print(serie_promedios)"
   ]
  },
  {
   "cell_type": "markdown",
   "metadata": {},
   "source": [
    "## METODOS Y FUNCIONES EN SERIES"
   ]
  },
  {
   "cell_type": "markdown",
   "metadata": {},
   "source": [
    "### Ejercicio 1.6\n",
    "\n",
    "Si queremos ver el tamaño de una serie\n",
    "\n",
    "`len(nombre_serie)`"
   ]
  },
  {
   "cell_type": "code",
   "execution_count": 107,
   "metadata": {},
   "outputs": [
    {
     "data": {
      "text/plain": [
       "15"
      ]
     },
     "execution_count": 107,
     "metadata": {},
     "output_type": "execute_result"
    }
   ],
   "source": [
    "len(serie_promedios) #cantidad de elementos totales, se basa en las apariciones de índices"
   ]
  },
  {
   "cell_type": "markdown",
   "metadata": {},
   "source": [
    "Si queremos ver la cantidad de elementos de una serie (no nulos)\n",
    "\n",
    "`nombre_serie.count()`"
   ]
  },
  {
   "cell_type": "code",
   "execution_count": 108,
   "metadata": {},
   "outputs": [
    {
     "data": {
      "text/plain": [
       "15"
      ]
     },
     "execution_count": 108,
     "metadata": {},
     "output_type": "execute_result"
    }
   ],
   "source": [
    "serie_promedios.count() #contar la cantidad de elementos"
   ]
  },
  {
   "cell_type": "markdown",
   "metadata": {},
   "source": [
    "Si queremos ver la forma de la serie.\n",
    "\n",
    "`nombre_serie.shape` (filas, columnas)"
   ]
  },
  {
   "cell_type": "code",
   "execution_count": 109,
   "metadata": {},
   "outputs": [
    {
     "data": {
      "text/plain": [
       "(15,)"
      ]
     },
     "execution_count": 109,
     "metadata": {},
     "output_type": "execute_result"
    }
   ],
   "source": [
    "serie_promedios.shape "
   ]
  },
  {
   "cell_type": "markdown",
   "metadata": {},
   "source": [
    "Si queremos ver el tipo de elementos que guarda la serie.\n",
    "\n",
    "`nombre_serie.dtype`"
   ]
  },
  {
   "cell_type": "code",
   "execution_count": 110,
   "metadata": {},
   "outputs": [
    {
     "data": {
      "text/plain": [
       "dtype('int64')"
      ]
     },
     "execution_count": 110,
     "metadata": {},
     "output_type": "execute_result"
    }
   ],
   "source": [
    "serie_promedios.dtype"
   ]
  },
  {
   "cell_type": "markdown",
   "metadata": {},
   "source": [
    "### Ejercicio 1.7\n",
    "\n",
    "Si quiero recortar los primeros n elementos de mi lista:\n",
    "\n",
    "`nombre_serie.head(n)`\n",
    "\n",
    "Si quiero recortar los últimos n elementos de mi lista:\n",
    "\n",
    "`nombre_serie.tail(n)`"
   ]
  },
  {
   "cell_type": "code",
   "execution_count": 111,
   "metadata": {},
   "outputs": [
    {
     "name": "stdout",
     "output_type": "stream",
     "text": [
      "0       3\n",
      "1       1\n",
      "2      10\n",
      "3       1\n",
      "4       6\n",
      "       ..\n",
      "995     9\n",
      "996     9\n",
      "997     5\n",
      "998     6\n",
      "999     2\n",
      "Length: 1000, dtype: int64\n"
     ]
    }
   ],
   "source": [
    "serie_mil = pd.Series(rng.integers(1,11,1000)) #serie con 1000 elementos\n",
    "\n",
    "print(serie_mil)"
   ]
  },
  {
   "cell_type": "code",
   "execution_count": 112,
   "metadata": {},
   "outputs": [
    {
     "data": {
      "text/plain": [
       "0     3\n",
       "1     1\n",
       "2    10\n",
       "3     1\n",
       "4     6\n",
       "dtype: int64"
      ]
     },
     "execution_count": 112,
     "metadata": {},
     "output_type": "execute_result"
    }
   ],
   "source": [
    "serie_mil.head() #5 es el valor por default"
   ]
  },
  {
   "cell_type": "code",
   "execution_count": 113,
   "metadata": {},
   "outputs": [
    {
     "data": {
      "text/plain": [
       "980     6\n",
       "981    10\n",
       "982     3\n",
       "983     9\n",
       "984     3\n",
       "985     9\n",
       "986     4\n",
       "987     5\n",
       "988     3\n",
       "989     9\n",
       "990     9\n",
       "991     8\n",
       "992     7\n",
       "993     7\n",
       "994     9\n",
       "995     9\n",
       "996     9\n",
       "997     5\n",
       "998     6\n",
       "999     2\n",
       "dtype: int64"
      ]
     },
     "execution_count": 113,
     "metadata": {},
     "output_type": "execute_result"
    }
   ],
   "source": [
    "serie_mil.tail(20)"
   ]
  },
  {
   "cell_type": "markdown",
   "metadata": {},
   "source": [
    "### Ejercicio 1.8\n",
    "\n",
    "Vamos  trabajar con el sistema de índice y filtrado de pandas\n",
    "\n",
    "`nombre_serie.iloc[posicion]`\n",
    "\n",
    "`nombre_serie.index[posicion]`\n",
    "\n",
    "`nombre_serie.index[nombre_indice]`"
   ]
  },
  {
   "cell_type": "code",
   "execution_count": 134,
   "metadata": {},
   "outputs": [
    {
     "data": {
      "text/plain": [
       "sebastian     3\n",
       "sofia         6\n",
       "miguel       10\n",
       "florencia     3\n",
       "victor        7\n",
       "eva          10\n",
       "macarena      9\n",
       "pedro         7\n",
       "estevan       7\n",
       "sonia         5\n",
       "nicolas       3\n",
       "nadia         7\n",
       "zulma         6\n",
       "pablo         8\n",
       "ana           4\n",
       "Name: Promedio alumnos, dtype: int64"
      ]
     },
     "execution_count": 134,
     "metadata": {},
     "output_type": "execute_result"
    }
   ],
   "source": [
    "serie_promedios"
   ]
  },
  {
   "cell_type": "code",
   "execution_count": 135,
   "metadata": {},
   "outputs": [
    {
     "name": "stderr",
     "output_type": "stream",
     "text": [
      "C:\\Users\\JAG\\AppData\\Local\\Temp\\ipykernel_7440\\3828912754.py:2: FutureWarning: Series.__getitem__ treating keys as positions is deprecated. In a future version, integer keys will always be treated as labels (consistent with DataFrame behavior). To access a value by position, use `ser.iloc[pos]`\n",
      "  serie_promedios[0]\n"
     ]
    },
    {
     "data": {
      "text/plain": [
       "3"
      ]
     },
     "execution_count": 135,
     "metadata": {},
     "output_type": "execute_result"
    }
   ],
   "source": [
    "#esta práctica no es recomendada en series\n",
    "serie_promedios[0]"
   ]
  },
  {
   "cell_type": "code",
   "execution_count": 136,
   "metadata": {},
   "outputs": [
    {
     "data": {
      "text/plain": [
       "3"
      ]
     },
     "execution_count": 136,
     "metadata": {},
     "output_type": "execute_result"
    }
   ],
   "source": [
    "#para búsquedas por posición usar iloc\n",
    "serie_promedios.iloc[0]"
   ]
  },
  {
   "cell_type": "code",
   "execution_count": 137,
   "metadata": {},
   "outputs": [
    {
     "data": {
      "text/plain": [
       "'sebastian'"
      ]
     },
     "execution_count": 137,
     "metadata": {},
     "output_type": "execute_result"
    }
   ],
   "source": [
    "#trae el índice asociado a la posición 0\n",
    "serie_promedios.index[0]"
   ]
  },
  {
   "cell_type": "code",
   "execution_count": 138,
   "metadata": {},
   "outputs": [
    {
     "data": {
      "text/plain": [
       "3"
      ]
     },
     "execution_count": 138,
     "metadata": {},
     "output_type": "execute_result"
    }
   ],
   "source": [
    "serie_promedios.iloc[3]"
   ]
  },
  {
   "cell_type": "code",
   "execution_count": 139,
   "metadata": {},
   "outputs": [
    {
     "data": {
      "text/plain": [
       "'florencia'"
      ]
     },
     "execution_count": 139,
     "metadata": {},
     "output_type": "execute_result"
    }
   ],
   "source": [
    "serie_promedios.index[3]"
   ]
  },
  {
   "cell_type": "code",
   "execution_count": 140,
   "metadata": {},
   "outputs": [
    {
     "data": {
      "text/plain": [
       "4"
      ]
     },
     "execution_count": 140,
     "metadata": {},
     "output_type": "execute_result"
    }
   ],
   "source": [
    "serie_promedios.iloc[-1]"
   ]
  },
  {
   "cell_type": "code",
   "execution_count": 141,
   "metadata": {},
   "outputs": [
    {
     "data": {
      "text/plain": [
       "miguel       10\n",
       "florencia     3\n",
       "victor        7\n",
       "Name: Promedio alumnos, dtype: int64"
      ]
     },
     "execution_count": 141,
     "metadata": {},
     "output_type": "execute_result"
    }
   ],
   "source": [
    "serie_promedios.iloc[2:5] #valor_inicial:valor_final(sin incluir)\n"
   ]
  },
  {
   "cell_type": "code",
   "execution_count": 142,
   "metadata": {},
   "outputs": [
    {
     "data": {
      "text/plain": [
       "Index(['miguel', 'florencia', 'victor'], dtype='object')"
      ]
     },
     "execution_count": 142,
     "metadata": {},
     "output_type": "execute_result"
    }
   ],
   "source": [
    "serie_promedios.index[2:5] "
   ]
  },
  {
   "cell_type": "code",
   "execution_count": 143,
   "metadata": {},
   "outputs": [
    {
     "data": {
      "text/plain": [
       "10"
      ]
     },
     "execution_count": 143,
     "metadata": {},
     "output_type": "execute_result"
    }
   ],
   "source": [
    "serie_promedios[\"miguel\"]"
   ]
  },
  {
   "cell_type": "code",
   "execution_count": 144,
   "metadata": {},
   "outputs": [
    {
     "data": {
      "text/plain": [
       "3"
      ]
     },
     "execution_count": 144,
     "metadata": {},
     "output_type": "execute_result"
    }
   ],
   "source": [
    "serie_promedios[\"florencia\"]"
   ]
  },
  {
   "cell_type": "code",
   "execution_count": 145,
   "metadata": {},
   "outputs": [
    {
     "data": {
      "text/plain": [
       "miguel       10\n",
       "florencia     3\n",
       "sofia         6\n",
       "Name: Promedio alumnos, dtype: int64"
      ]
     },
     "execution_count": 145,
     "metadata": {},
     "output_type": "execute_result"
    }
   ],
   "source": [
    "nombres = [\"miguel\", \"florencia\", \"sofia\"]\n",
    "serie_promedios[nombres]"
   ]
  },
  {
   "cell_type": "code",
   "execution_count": 146,
   "metadata": {},
   "outputs": [
    {
     "data": {
      "text/plain": [
       "sebastian     3\n",
       "sofia         6\n",
       "miguel       10\n",
       "florencia     3\n",
       "victor        7\n",
       "eva          10\n",
       "macarena      9\n",
       "pedro         7\n",
       "estevan       7\n",
       "sonia         5\n",
       "nicolas       3\n",
       "nadia         7\n",
       "zulma         6\n",
       "pablo         8\n",
       "ana           4\n",
       "Name: Promedio alumnos, dtype: int64"
      ]
     },
     "execution_count": 146,
     "metadata": {},
     "output_type": "execute_result"
    }
   ],
   "source": [
    "serie_promedios"
   ]
  },
  {
   "cell_type": "markdown",
   "metadata": {},
   "source": [
    "### Ejercicio 1.9\n",
    "\n",
    "Vamos a traernos de la serie_promedio sólo a los alumnos que hayan promocionado (nota>=7)."
   ]
  },
  {
   "cell_type": "code",
   "execution_count": 147,
   "metadata": {},
   "outputs": [
    {
     "data": {
      "text/plain": [
       "miguel      10\n",
       "eva         10\n",
       "macarena     9\n",
       "pablo        8\n",
       "Name: Promedio alumnos, dtype: int64"
      ]
     },
     "execution_count": 147,
     "metadata": {},
     "output_type": "execute_result"
    }
   ],
   "source": [
    "serie_promedios[serie_promedios>7]"
   ]
  },
  {
   "cell_type": "code",
   "execution_count": 148,
   "metadata": {},
   "outputs": [
    {
     "data": {
      "text/plain": [
       "sebastian    3\n",
       "sofia        6\n",
       "florencia    3\n",
       "sonia        5\n",
       "nicolas      3\n",
       "zulma        6\n",
       "ana          4\n",
       "Name: Promedio alumnos, dtype: int64"
      ]
     },
     "execution_count": 148,
     "metadata": {},
     "output_type": "execute_result"
    }
   ],
   "source": [
    "serie_promedios[serie_promedios<7] #alumnos desaprobados"
   ]
  },
  {
   "cell_type": "code",
   "execution_count": 149,
   "metadata": {},
   "outputs": [
    {
     "data": {
      "text/plain": [
       "sofia    6\n",
       "zulma    6\n",
       "Name: Promedio alumnos, dtype: int64"
      ]
     },
     "execution_count": 149,
     "metadata": {},
     "output_type": "execute_result"
    }
   ],
   "source": [
    "serie_promedios[serie_promedios==6] #alumnos que se sacaron 6"
   ]
  },
  {
   "cell_type": "code",
   "execution_count": 150,
   "metadata": {},
   "outputs": [
    {
     "data": {
      "text/plain": [
       "sofia    6\n",
       "sonia    5\n",
       "zulma    6\n",
       "ana      4\n",
       "Name: Promedio alumnos, dtype: int64"
      ]
     },
     "execution_count": 150,
     "metadata": {},
     "output_type": "execute_result"
    }
   ],
   "source": [
    "serie_promedios[(serie_promedios<7) & (serie_promedios>3)] #alumnos aprobados pero no promocionados"
   ]
  },
  {
   "cell_type": "markdown",
   "metadata": {},
   "source": [
    "### Ejercicio 1.10\n",
    "\n",
    "Métodos de análisis en pandas (estadísticas descriptivas)\n"
   ]
  },
  {
   "cell_type": "code",
   "execution_count": 169,
   "metadata": {},
   "outputs": [
    {
     "data": {
      "text/plain": [
       "sebastian     6438\n",
       "sofia           78\n",
       "miguel       11101\n",
       "florencia    19075\n",
       "victor        5303\n",
       "eva           7462\n",
       "macarena     18097\n",
       "pedro         7942\n",
       "estevan       9998\n",
       "sonia         6528\n",
       "nicolas       1648\n",
       "nadia         5212\n",
       "zulma        19834\n",
       "pablo         9319\n",
       "ana          11597\n",
       "Name: Sueldo mensuales, dtype: int64"
      ]
     },
     "execution_count": 169,
     "metadata": {},
     "output_type": "execute_result"
    }
   ],
   "source": [
    "lista_empleados = [\"sebastian\", \"sofia\", \"miguel\", \"florencia\", \"victor\", \"eva\", \"macarena\", \"pedro\", \"estevan\", \"sonia\", \"nicolas\", \"nadia\", \"zulma\", \"pablo\", \"ana\"]\n",
    "\n",
    "serie_sueldos = pd.Series(data=rng.integers(1, 20000, len(lista_alumnos)),\n",
    "                          index=lista_empleados,\n",
    "                          name=\"Sueldo mensuales\") #rng.integers(valor_min, valor_max, tamaño)\n",
    "serie_sueldos"
   ]
  },
  {
   "cell_type": "code",
   "execution_count": 170,
   "metadata": {},
   "outputs": [
    {
     "data": {
      "text/plain": [
       "139632"
      ]
     },
     "execution_count": 170,
     "metadata": {},
     "output_type": "execute_result"
    }
   ],
   "source": [
    "serie_sueldos.sum() #cantidad total de dinero destinado a el sueldo de los empleados"
   ]
  },
  {
   "cell_type": "code",
   "execution_count": 171,
   "metadata": {},
   "outputs": [
    {
     "data": {
      "text/plain": [
       "78"
      ]
     },
     "execution_count": 171,
     "metadata": {},
     "output_type": "execute_result"
    }
   ],
   "source": [
    "serie_sueldos.min() #busca el menor sueldo"
   ]
  },
  {
   "cell_type": "code",
   "execution_count": 172,
   "metadata": {},
   "outputs": [
    {
     "data": {
      "text/plain": [
       "19834"
      ]
     },
     "execution_count": 172,
     "metadata": {},
     "output_type": "execute_result"
    }
   ],
   "source": [
    "serie_sueldos.max() #busca el mayor sueldo"
   ]
  },
  {
   "cell_type": "code",
   "execution_count": 173,
   "metadata": {},
   "outputs": [
    {
     "data": {
      "text/plain": [
       "9308.8"
      ]
     },
     "execution_count": 173,
     "metadata": {},
     "output_type": "execute_result"
    }
   ],
   "source": [
    "serie_sueldos.mean() #media de los sueldos"
   ]
  },
  {
   "cell_type": "code",
   "execution_count": 174,
   "metadata": {},
   "outputs": [
    {
     "data": {
      "text/plain": [
       "7942.0"
      ]
     },
     "execution_count": 174,
     "metadata": {},
     "output_type": "execute_result"
    }
   ],
   "source": [
    "serie_sueldos.median() #busca la mediana de los sueldos [mediana: valor medio cuando un conjunto de datos se ordena de menor a mayor]"
   ]
  },
  {
   "cell_type": "code",
   "execution_count": 176,
   "metadata": {},
   "outputs": [
    {
     "data": {
      "text/plain": [
       "35020912.885714285"
      ]
     },
     "execution_count": 176,
     "metadata": {},
     "output_type": "execute_result"
    }
   ],
   "source": [
    "serie_sueldos.var() #busca la varianza del sueldo [varianza: medida de dispersión que se utiliza para representar la variabilidad de un conjunto de datos respecto de la media aritmética de los mismo. Cuanto mayor sea la varianza mayor dispersión existirá y por tanto, menor representatividad tendrá la media aritmética]"
   ]
  },
  {
   "cell_type": "code",
   "execution_count": 177,
   "metadata": {},
   "outputs": [
    {
     "data": {
      "text/plain": [
       "5917.846980593051"
      ]
     },
     "execution_count": 177,
     "metadata": {},
     "output_type": "execute_result"
    }
   ],
   "source": [
    "serie_sueldos.std() #busca la desviación estandar de los sueldos [ds: medida de la dispersión de los datos respecto de la media, cuanto mayor sea la dispersión mayor es la desviación estándar]"
   ]
  },
  {
   "cell_type": "code",
   "execution_count": 178,
   "metadata": {},
   "outputs": [
    {
     "data": {
      "text/plain": [
       "count       15.000000\n",
       "mean      9308.800000\n",
       "std       5917.846981\n",
       "min         78.000000\n",
       "25%       5870.500000\n",
       "50%       7942.000000\n",
       "75%      11349.000000\n",
       "max      19834.000000\n",
       "Name: Sueldo mensuales, dtype: float64"
      ]
     },
     "execution_count": 178,
     "metadata": {},
     "output_type": "execute_result"
    }
   ],
   "source": [
    "serie_sueldos.describe() #tabla con las principales características de la serie"
   ]
  },
  {
   "cell_type": "code",
   "execution_count": 179,
   "metadata": {},
   "outputs": [],
   "source": [
    "#solo el 25% cobra mas de 11349 x mes"
   ]
  },
  {
   "cell_type": "code",
   "execution_count": 180,
   "metadata": {},
   "outputs": [
    {
     "data": {
      "text/plain": [
       "sofia           78\n",
       "nicolas       1648\n",
       "nadia         5212\n",
       "victor        5303\n",
       "sebastian     6438\n",
       "sonia         6528\n",
       "eva           7462\n",
       "pedro         7942\n",
       "pablo         9319\n",
       "estevan       9998\n",
       "miguel       11101\n",
       "ana          11597\n",
       "macarena     18097\n",
       "florencia    19075\n",
       "zulma        19834\n",
       "Name: Sueldo mensuales, dtype: int64"
      ]
     },
     "execution_count": 180,
     "metadata": {},
     "output_type": "execute_result"
    }
   ],
   "source": [
    "serie_sueldos.sort_values() #ordena los valores de menor a mayor\n"
   ]
  },
  {
   "cell_type": "code",
   "execution_count": 181,
   "metadata": {},
   "outputs": [
    {
     "data": {
      "text/plain": [
       "zulma        19834\n",
       "florencia    19075\n",
       "macarena     18097\n",
       "ana          11597\n",
       "miguel       11101\n",
       "estevan       9998\n",
       "pablo         9319\n",
       "pedro         7942\n",
       "eva           7462\n",
       "sonia         6528\n",
       "sebastian     6438\n",
       "victor        5303\n",
       "nadia         5212\n",
       "nicolas       1648\n",
       "sofia           78\n",
       "Name: Sueldo mensuales, dtype: int64"
      ]
     },
     "execution_count": 181,
     "metadata": {},
     "output_type": "execute_result"
    }
   ],
   "source": [
    "serie_sueldos.sort_values(ascending=False) #ordena los valores de mayor a menor"
   ]
  },
  {
   "cell_type": "markdown",
   "metadata": {},
   "source": [
    "### Ejercicio 1.11"
   ]
  },
  {
   "cell_type": "code",
   "execution_count": 187,
   "metadata": {},
   "outputs": [
    {
     "data": {
      "text/plain": [
       "sebastian            compras\n",
       "sofia        soporte_tecnico\n",
       "miguel       soporte_tecnico\n",
       "florencia            compras\n",
       "victor              contable\n",
       "eva                 contable\n",
       "macarena            contable\n",
       "pedro               contable\n",
       "estevan              compras\n",
       "sonia               contable\n",
       "nicolas      soporte_tecnico\n",
       "nadia               contable\n",
       "zulma                compras\n",
       "pablo               contable\n",
       "ana                 contable\n",
       "Name: Departamentos, dtype: object"
      ]
     },
     "execution_count": 187,
     "metadata": {},
     "output_type": "execute_result"
    }
   ],
   "source": [
    "dic_empleados = {\n",
    "    \"sebastian\": \"compras\", \n",
    "    \"sofia\": \"soporte_tecnico\", \n",
    "    \"miguel\": \"soporte_tecnico\", \n",
    "    \"florencia\": \"compras\", \n",
    "    \"victor\": \"contable\", \n",
    "    \"eva\": \"contable\", \n",
    "    \"macarena\": \"contable\", \n",
    "    \"pedro\": \"contable\", \n",
    "    \"estevan\": \"compras\", \n",
    "    \"sonia\": \"contable\", \n",
    "    \"nicolas\": \"soporte_tecnico\", \n",
    "    \"nadia\": \"contable\", \n",
    "    \"zulma\": \"compras\", \n",
    "    \"pablo\": \"contable\", \n",
    "    \"ana\": \"contable\"}\n",
    "\n",
    "serie_departamentos = pd.Series(dic_empleados, name=\"Departamentos\") #rng.integers(valor_min, valor_max, tamaño)\n",
    "serie_departamentos"
   ]
  },
  {
   "cell_type": "code",
   "execution_count": 188,
   "metadata": {},
   "outputs": [
    {
     "data": {
      "text/plain": [
       "count           15\n",
       "unique           3\n",
       "top       contable\n",
       "freq             8\n",
       "Name: Departamentos, dtype: object"
      ]
     },
     "execution_count": 188,
     "metadata": {},
     "output_type": "execute_result"
    }
   ],
   "source": [
    "serie_departamentos.describe()"
   ]
  },
  {
   "cell_type": "code",
   "execution_count": 190,
   "metadata": {},
   "outputs": [
    {
     "data": {
      "text/plain": [
       "Departamentos\n",
       "contable           8\n",
       "compras            4\n",
       "soporte_tecnico    3\n",
       "Name: count, dtype: int64"
      ]
     },
     "execution_count": 190,
     "metadata": {},
     "output_type": "execute_result"
    }
   ],
   "source": [
    "serie_departamentos.value_counts() #crea una nueva serie donde se agrupa los empleados que hay en cada departamento\n"
   ]
  },
  {
   "cell_type": "markdown",
   "metadata": {},
   "source": [
    "### Ejercicio 1.12\n",
    "\n",
    "En pandas está el `date_range`, el cual es un generador de índices por fechas."
   ]
  },
  {
   "cell_type": "code",
   "execution_count": 191,
   "metadata": {},
   "outputs": [
    {
     "data": {
      "text/plain": [
       "DatetimeIndex(['2024-04-01', '2024-04-02', '2024-04-03', '2024-04-04',\n",
       "               '2024-04-05', '2024-04-06', '2024-04-07', '2024-04-08',\n",
       "               '2024-04-09', '2024-04-10', '2024-04-11', '2024-04-12',\n",
       "               '2024-04-13', '2024-04-14', '2024-04-15', '2024-04-16'],\n",
       "              dtype='datetime64[ns]', freq='D')"
      ]
     },
     "execution_count": 191,
     "metadata": {},
     "output_type": "execute_result"
    }
   ],
   "source": [
    "#voy a definir mi fecha de inicio y fin para el datetime index\n",
    "\n",
    "#generar dias entre el 1/4/24 al 16/4/24\n",
    "pd.date_range(start='2024-04-01', end='2024-04-16') #Asi seguimos la estructura AAAA-MM-DD\n"
   ]
  },
  {
   "cell_type": "code",
   "execution_count": 194,
   "metadata": {},
   "outputs": [
    {
     "data": {
      "text/plain": [
       "DatetimeIndex(['2024-01-04', '2024-01-05', '2024-01-06', '2024-01-07',\n",
       "               '2024-01-08', '2024-01-09', '2024-01-10', '2024-01-11',\n",
       "               '2024-01-12', '2024-01-13',\n",
       "               ...\n",
       "               '2024-04-07', '2024-04-08', '2024-04-09', '2024-04-10',\n",
       "               '2024-04-11', '2024-04-12', '2024-04-13', '2024-04-14',\n",
       "               '2024-04-15', '2024-04-16'],\n",
       "              dtype='datetime64[ns]', length=104, freq='D')"
      ]
     },
     "execution_count": 194,
     "metadata": {},
     "output_type": "execute_result"
    }
   ],
   "source": [
    "pd.date_range(start='01/04/2024', end='16/04/2024') #Asi seguimos la estructura MM-DD-AAAA [sistema USA]"
   ]
  },
  {
   "cell_type": "code",
   "execution_count": 195,
   "metadata": {},
   "outputs": [
    {
     "data": {
      "text/plain": [
       "DatetimeIndex(['2024-04-01', '2024-04-02', '2024-04-03', '2024-04-04',\n",
       "               '2024-04-05', '2024-04-06', '2024-04-07', '2024-04-08',\n",
       "               '2024-04-09', '2024-04-10', '2024-04-11', '2024-04-12',\n",
       "               '2024-04-13', '2024-04-14', '2024-04-15', '2024-04-16'],\n",
       "              dtype='datetime64[ns]', freq='D')"
      ]
     },
     "execution_count": 195,
     "metadata": {},
     "output_type": "execute_result"
    }
   ],
   "source": [
    "pd.date_range(start='04/01/2024', end='04/16/2024')"
   ]
  },
  {
   "cell_type": "markdown",
   "metadata": {},
   "source": [
    "### Ejercicio 1.13\n",
    "\n",
    "Con datetime index podemos generar series que tengan como índices fechas."
   ]
  },
  {
   "cell_type": "code",
   "execution_count": 203,
   "metadata": {},
   "outputs": [
    {
     "data": {
      "text/plain": [
       "DatetimeIndex(['2024-03-01', '2024-03-02', '2024-03-03', '2024-03-04',\n",
       "               '2024-03-05', '2024-03-06', '2024-03-07', '2024-03-08',\n",
       "               '2024-03-09', '2024-03-10', '2024-03-11', '2024-03-12',\n",
       "               '2024-03-13', '2024-03-14', '2024-03-15', '2024-03-16',\n",
       "               '2024-03-17', '2024-03-18', '2024-03-19', '2024-03-20',\n",
       "               '2024-03-21', '2024-03-22', '2024-03-23', '2024-03-24',\n",
       "               '2024-03-25', '2024-03-26', '2024-03-27', '2024-03-28',\n",
       "               '2024-03-29', '2024-03-30', '2024-03-31'],\n",
       "              dtype='datetime64[ns]', freq='D')"
      ]
     },
     "execution_count": 203,
     "metadata": {},
     "output_type": "execute_result"
    }
   ],
   "source": [
    "dias_marzo = pd.date_range(start='2024-03-01', end='2024-03-31', freq=\"D\") \n",
    "dias_marzo\n"
   ]
  },
  {
   "cell_type": "code",
   "execution_count": 202,
   "metadata": {},
   "outputs": [
    {
     "ename": "TypeError",
     "evalue": "Series.__init__() got an unexpected keyword argument 'freq'",
     "output_type": "error",
     "traceback": [
      "\u001b[1;31m---------------------------------------------------------------------------\u001b[0m",
      "\u001b[1;31mTypeError\u001b[0m                                 Traceback (most recent call last)",
      "Cell \u001b[1;32mIn[202], line 2\u001b[0m\n\u001b[0;32m      1\u001b[0m lista_ganancias \u001b[38;5;241m=\u001b[39m rng\u001b[38;5;241m.\u001b[39mintegers(\u001b[38;5;241m1\u001b[39m,\u001b[38;5;241m10000\u001b[39m, \u001b[38;5;28mlen\u001b[39m(dias_marzo)) \u001b[38;5;66;03m#inicial, final, largo\u001b[39;00m\n\u001b[1;32m----> 2\u001b[0m serie_ventas \u001b[38;5;241m=\u001b[39m \u001b[43mpd\u001b[49m\u001b[38;5;241;43m.\u001b[39;49m\u001b[43mSeries\u001b[49m\u001b[43m(\u001b[49m\u001b[43mdata\u001b[49m\u001b[38;5;241;43m=\u001b[39;49m\u001b[43mlista_ganancias\u001b[49m\u001b[43m,\u001b[49m\u001b[43m \u001b[49m\u001b[43mindex\u001b[49m\u001b[38;5;241;43m=\u001b[39;49m\u001b[43mdias_marzo\u001b[49m\u001b[43m,\u001b[49m\u001b[43m \u001b[49m\u001b[43mname\u001b[49m\u001b[38;5;241;43m=\u001b[39;49m\u001b[38;5;124;43m\"\u001b[39;49m\u001b[38;5;124;43mGanancias de marzo\u001b[39;49m\u001b[38;5;124;43m\"\u001b[39;49m\u001b[43m,\u001b[49m\u001b[43m \u001b[49m\u001b[43mfreq\u001b[49m\u001b[38;5;241;43m=\u001b[39;49m\u001b[38;5;124;43m\"\u001b[39;49m\u001b[38;5;124;43mD\u001b[39;49m\u001b[38;5;124;43m\"\u001b[39;49m\u001b[43m)\u001b[49m\n\u001b[0;32m      3\u001b[0m serie_ventas\n",
      "\u001b[1;31mTypeError\u001b[0m: Series.__init__() got an unexpected keyword argument 'freq'"
     ]
    }
   ],
   "source": [
    "lista_ganancias = rng.integers(1,10000, len(dias_marzo)) #inicial, final, largo\n",
    "serie_ventas = pd.Series(data=lista_ganancias, index=dias_marzo, name=\"Ganancias de marzo\")\n",
    "serie_ventas"
   ]
  },
  {
   "cell_type": "code",
   "execution_count": 201,
   "metadata": {},
   "outputs": [
    {
     "data": {
      "text/plain": [
       "count      31.000000\n",
       "mean     4668.193548\n",
       "std      2878.728833\n",
       "min       272.000000\n",
       "25%      1966.000000\n",
       "50%      4475.000000\n",
       "75%      6929.000000\n",
       "max      9914.000000\n",
       "Name: Ganancias de marzo, dtype: float64"
      ]
     },
     "execution_count": 201,
     "metadata": {},
     "output_type": "execute_result"
    }
   ],
   "source": [
    "serie_ventas.describe()"
   ]
  }
 ],
 "metadata": {
  "kernelspec": {
   "display_name": "Python 3",
   "language": "python",
   "name": "python3"
  },
  "language_info": {
   "codemirror_mode": {
    "name": "ipython",
    "version": 3
   },
   "file_extension": ".py",
   "mimetype": "text/x-python",
   "name": "python",
   "nbconvert_exporter": "python",
   "pygments_lexer": "ipython3",
   "version": "3.11.3"
  }
 },
 "nbformat": 4,
 "nbformat_minor": 2
}
