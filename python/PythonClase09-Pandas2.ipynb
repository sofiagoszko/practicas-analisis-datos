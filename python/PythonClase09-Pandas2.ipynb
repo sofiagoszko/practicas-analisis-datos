{
 "cells": [
  {
   "cell_type": "markdown",
   "metadata": {},
   "source": [
    "# PANDAS - DATAFRAMES"
   ]
  },
  {
   "cell_type": "markdown",
   "metadata": {},
   "source": [
    "Los DataFames son objetos de Pandas que nos permiten guardar información estructurada en forma de tablas u hojas de cálculo.\n",
    "\n",
    "Tienen **dos dimensiones**: filas y columnas.\n",
    "\n",
    "Los DataFrames comparten muchas funciones con los índides, ya que cada columna de un DataFrame se la puede pensar como una serie."
   ]
  },
  {
   "cell_type": "markdown",
   "metadata": {},
   "source": [
    "## Ejercicio 1.0\n",
    "\n",
    "Instalamos la versión pandas 2.2.2 y la instalamos"
   ]
  },
  {
   "cell_type": "code",
   "execution_count": 1,
   "metadata": {},
   "outputs": [
    {
     "name": "stdout",
     "output_type": "stream",
     "text": [
      "Requirement already satisfied: pandas==2.2.2 in c:\\users\\jag\\appdata\\local\\programs\\python\\python311\\lib\\site-packages (2.2.2)\n",
      "Requirement already satisfied: numpy>=1.23.2 in c:\\users\\jag\\appdata\\local\\programs\\python\\python311\\lib\\site-packages (from pandas==2.2.2) (1.25.2)\n",
      "Requirement already satisfied: python-dateutil>=2.8.2 in c:\\users\\jag\\appdata\\roaming\\python\\python311\\site-packages (from pandas==2.2.2) (2.8.2)\n",
      "Requirement already satisfied: pytz>=2020.1 in c:\\users\\jag\\appdata\\local\\programs\\python\\python311\\lib\\site-packages (from pandas==2.2.2) (2024.1)\n",
      "Requirement already satisfied: tzdata>=2022.7 in c:\\users\\jag\\appdata\\local\\programs\\python\\python311\\lib\\site-packages (from pandas==2.2.2) (2024.1)\n",
      "Requirement already satisfied: six>=1.5 in c:\\users\\jag\\appdata\\roaming\\python\\python311\\site-packages (from python-dateutil>=2.8.2->pandas==2.2.2) (1.16.0)\n",
      "Note: you may need to restart the kernel to use updated packages.\n"
     ]
    }
   ],
   "source": [
    "%pip install pandas==2.2.2"
   ]
  },
  {
   "cell_type": "code",
   "execution_count": 2,
   "metadata": {},
   "outputs": [],
   "source": [
    "import pandas as pd\n",
    "import numpy as np"
   ]
  },
  {
   "cell_type": "markdown",
   "metadata": {},
   "source": [
    "## CREACIÓN "
   ]
  },
  {
   "cell_type": "markdown",
   "metadata": {},
   "source": [
    "### Ejercicio 1.1\n",
    "\n",
    "Creación de un DataFrame a partir de listas."
   ]
  },
  {
   "cell_type": "code",
   "execution_count": 3,
   "metadata": {},
   "outputs": [],
   "source": [
    "#a partir de una listas se puede crear un DataFrame\n",
    "\n",
    "lista_a0 = [\"Sofia\", \"Garcia\", 30, True]\n",
    "lista_a2 = [\"Veronica\", \"Gonzales\", 20, False]\n",
    "lista_a3 = [\"Nicolas\", \"Perez\", 40, True]\n",
    "lista_a4 = [\"Nadia\", \"Gutierrez\", 15, False]\n",
    "\n",
    "lista_nombres_encabezados = [\"Nombre\", \"Apellido\", \"Edad\", \"Pago_matricula\"]"
   ]
  },
  {
   "cell_type": "code",
   "execution_count": 4,
   "metadata": {},
   "outputs": [
    {
     "data": {
      "text/html": [
       "<div>\n",
       "<style scoped>\n",
       "    .dataframe tbody tr th:only-of-type {\n",
       "        vertical-align: middle;\n",
       "    }\n",
       "\n",
       "    .dataframe tbody tr th {\n",
       "        vertical-align: top;\n",
       "    }\n",
       "\n",
       "    .dataframe thead th {\n",
       "        text-align: right;\n",
       "    }\n",
       "</style>\n",
       "<table border=\"1\" class=\"dataframe\">\n",
       "  <thead>\n",
       "    <tr style=\"text-align: right;\">\n",
       "      <th></th>\n",
       "      <th>Nombre</th>\n",
       "      <th>Apellido</th>\n",
       "      <th>Edad</th>\n",
       "      <th>Pago_matricula</th>\n",
       "    </tr>\n",
       "  </thead>\n",
       "  <tbody>\n",
       "    <tr>\n",
       "      <th>0</th>\n",
       "      <td>Sofia</td>\n",
       "      <td>Garcia</td>\n",
       "      <td>30</td>\n",
       "      <td>True</td>\n",
       "    </tr>\n",
       "    <tr>\n",
       "      <th>1</th>\n",
       "      <td>Veronica</td>\n",
       "      <td>Gonzales</td>\n",
       "      <td>20</td>\n",
       "      <td>False</td>\n",
       "    </tr>\n",
       "    <tr>\n",
       "      <th>2</th>\n",
       "      <td>Nicolas</td>\n",
       "      <td>Perez</td>\n",
       "      <td>40</td>\n",
       "      <td>True</td>\n",
       "    </tr>\n",
       "    <tr>\n",
       "      <th>3</th>\n",
       "      <td>Nadia</td>\n",
       "      <td>Gutierrez</td>\n",
       "      <td>15</td>\n",
       "      <td>False</td>\n",
       "    </tr>\n",
       "  </tbody>\n",
       "</table>\n",
       "</div>"
      ],
      "text/plain": [
       "     Nombre   Apellido  Edad  Pago_matricula\n",
       "0     Sofia     Garcia    30            True\n",
       "1  Veronica   Gonzales    20           False\n",
       "2   Nicolas      Perez    40            True\n",
       "3     Nadia  Gutierrez    15           False"
      ]
     },
     "execution_count": 4,
     "metadata": {},
     "output_type": "execute_result"
    }
   ],
   "source": [
    "#filas (cada uno de las listas de los alumnos), columnas\n",
    "df_alumnos = pd.DataFrame(\n",
    "    data=[lista_a0, lista_a2, lista_a3, lista_a4],\n",
    "    columns=lista_nombres_encabezados\n",
    ")\n",
    "df_alumnos"
   ]
  },
  {
   "cell_type": "markdown",
   "metadata": {},
   "source": [
    "### Ejercicio 1.2\n",
    "\n",
    "Crear un DataFrame a partir de un diccionario"
   ]
  },
  {
   "cell_type": "code",
   "execution_count": 5,
   "metadata": {},
   "outputs": [],
   "source": [
    "dict_empleados = {\n",
    "    \"Nombre\": [\"Sofia\", \"Veronica\", \"Nicolas\", \"Nadia\"],\n",
    "    \"Apellido\": [\"Garcia\", \"Gonzales\", \"Perez\", \"Gutierrez\"],\n",
    "    \"Departamento\": [\"IT\", \"Contable\", \"IyD\", \"Legales\"],\n",
    "    \"Sueldo\": [5000, 2000, 5000, 3000], \n",
    "    \"Facturacion\": [True, False, True, True], \n",
    "}"
   ]
  },
  {
   "cell_type": "code",
   "execution_count": 6,
   "metadata": {},
   "outputs": [
    {
     "data": {
      "text/html": [
       "<div>\n",
       "<style scoped>\n",
       "    .dataframe tbody tr th:only-of-type {\n",
       "        vertical-align: middle;\n",
       "    }\n",
       "\n",
       "    .dataframe tbody tr th {\n",
       "        vertical-align: top;\n",
       "    }\n",
       "\n",
       "    .dataframe thead th {\n",
       "        text-align: right;\n",
       "    }\n",
       "</style>\n",
       "<table border=\"1\" class=\"dataframe\">\n",
       "  <thead>\n",
       "    <tr style=\"text-align: right;\">\n",
       "      <th></th>\n",
       "      <th>Nombre</th>\n",
       "      <th>Apellido</th>\n",
       "      <th>Departamento</th>\n",
       "      <th>Sueldo</th>\n",
       "      <th>Facturacion</th>\n",
       "    </tr>\n",
       "  </thead>\n",
       "  <tbody>\n",
       "    <tr>\n",
       "      <th>0</th>\n",
       "      <td>Sofia</td>\n",
       "      <td>Garcia</td>\n",
       "      <td>IT</td>\n",
       "      <td>5000</td>\n",
       "      <td>True</td>\n",
       "    </tr>\n",
       "    <tr>\n",
       "      <th>1</th>\n",
       "      <td>Veronica</td>\n",
       "      <td>Gonzales</td>\n",
       "      <td>Contable</td>\n",
       "      <td>2000</td>\n",
       "      <td>False</td>\n",
       "    </tr>\n",
       "    <tr>\n",
       "      <th>2</th>\n",
       "      <td>Nicolas</td>\n",
       "      <td>Perez</td>\n",
       "      <td>IyD</td>\n",
       "      <td>5000</td>\n",
       "      <td>True</td>\n",
       "    </tr>\n",
       "    <tr>\n",
       "      <th>3</th>\n",
       "      <td>Nadia</td>\n",
       "      <td>Gutierrez</td>\n",
       "      <td>Legales</td>\n",
       "      <td>3000</td>\n",
       "      <td>True</td>\n",
       "    </tr>\n",
       "  </tbody>\n",
       "</table>\n",
       "</div>"
      ],
      "text/plain": [
       "     Nombre   Apellido Departamento  Sueldo  Facturacion\n",
       "0     Sofia     Garcia           IT    5000         True\n",
       "1  Veronica   Gonzales     Contable    2000        False\n",
       "2   Nicolas      Perez          IyD    5000         True\n",
       "3     Nadia  Gutierrez      Legales    3000         True"
      ]
     },
     "execution_count": 6,
     "metadata": {},
     "output_type": "execute_result"
    }
   ],
   "source": [
    "#la info entra como columnas\n",
    "df_empleados = pd.DataFrame(dict_empleados)\n",
    "df_empleados\n"
   ]
  },
  {
   "cell_type": "markdown",
   "metadata": {},
   "source": [
    "### Ejercicio 1.3\n",
    "\n",
    "Creación de DataFrame a partir de un array"
   ]
  },
  {
   "cell_type": "code",
   "execution_count": 7,
   "metadata": {},
   "outputs": [],
   "source": [
    "rng = np.random.default_rng() #constructor"
   ]
  },
  {
   "cell_type": "code",
   "execution_count": 8,
   "metadata": {},
   "outputs": [
    {
     "name": "stdout",
     "output_type": "stream",
     "text": [
      "[[ 1 13 12]\n",
      " [14  8 19]\n",
      " [18 15 14]\n",
      " [13  1  4]\n",
      " [ 7 13  3]\n",
      " [14  6 11]]\n"
     ]
    }
   ],
   "source": [
    "array_6x3 = rng.integers(1, 20, (6, 3)) #min, max, size\n",
    "print(array_6x3)"
   ]
  },
  {
   "cell_type": "code",
   "execution_count": 9,
   "metadata": {},
   "outputs": [],
   "source": [
    "lista_nombre_columnas=[\"nro_clientes\", \"nro_pedidos\", \"nro_devoluciones\"]"
   ]
  },
  {
   "cell_type": "code",
   "execution_count": 10,
   "metadata": {},
   "outputs": [
    {
     "data": {
      "text/html": [
       "<div>\n",
       "<style scoped>\n",
       "    .dataframe tbody tr th:only-of-type {\n",
       "        vertical-align: middle;\n",
       "    }\n",
       "\n",
       "    .dataframe tbody tr th {\n",
       "        vertical-align: top;\n",
       "    }\n",
       "\n",
       "    .dataframe thead th {\n",
       "        text-align: right;\n",
       "    }\n",
       "</style>\n",
       "<table border=\"1\" class=\"dataframe\">\n",
       "  <thead>\n",
       "    <tr style=\"text-align: right;\">\n",
       "      <th></th>\n",
       "      <th>nro_clientes</th>\n",
       "      <th>nro_pedidos</th>\n",
       "      <th>nro_devoluciones</th>\n",
       "    </tr>\n",
       "  </thead>\n",
       "  <tbody>\n",
       "    <tr>\n",
       "      <th>0</th>\n",
       "      <td>1</td>\n",
       "      <td>13</td>\n",
       "      <td>12</td>\n",
       "    </tr>\n",
       "    <tr>\n",
       "      <th>1</th>\n",
       "      <td>14</td>\n",
       "      <td>8</td>\n",
       "      <td>19</td>\n",
       "    </tr>\n",
       "    <tr>\n",
       "      <th>2</th>\n",
       "      <td>18</td>\n",
       "      <td>15</td>\n",
       "      <td>14</td>\n",
       "    </tr>\n",
       "    <tr>\n",
       "      <th>3</th>\n",
       "      <td>13</td>\n",
       "      <td>1</td>\n",
       "      <td>4</td>\n",
       "    </tr>\n",
       "    <tr>\n",
       "      <th>4</th>\n",
       "      <td>7</td>\n",
       "      <td>13</td>\n",
       "      <td>3</td>\n",
       "    </tr>\n",
       "    <tr>\n",
       "      <th>5</th>\n",
       "      <td>14</td>\n",
       "      <td>6</td>\n",
       "      <td>11</td>\n",
       "    </tr>\n",
       "  </tbody>\n",
       "</table>\n",
       "</div>"
      ],
      "text/plain": [
       "   nro_clientes  nro_pedidos  nro_devoluciones\n",
       "0             1           13                12\n",
       "1            14            8                19\n",
       "2            18           15                14\n",
       "3            13            1                 4\n",
       "4             7           13                 3\n",
       "5            14            6                11"
      ]
     },
     "execution_count": 10,
     "metadata": {},
     "output_type": "execute_result"
    }
   ],
   "source": [
    "df_array = pd.DataFrame(\n",
    "    data=array_6x3,\n",
    "    columns=lista_nombre_columnas\n",
    ")\n",
    "df_array"
   ]
  },
  {
   "cell_type": "markdown",
   "metadata": {},
   "source": [
    "## INDICES"
   ]
  },
  {
   "cell_type": "markdown",
   "metadata": {},
   "source": [
    "### Ejercicio 1.4\n",
    "\n",
    "Así como en una serie, se pueden personalizar los índices"
   ]
  },
  {
   "cell_type": "code",
   "execution_count": 11,
   "metadata": {},
   "outputs": [],
   "source": [
    "#DataFrame con info de vehículos a la venta en una concesionaria\n",
    "\n",
    "lista_v0 = [\"Fiat\", \"Uno\", 1000, False]\n",
    "lista_v1 = [\"Fiat\", \"Palio\", 2000, True]\n",
    "lista_v2 = [\"Ford\", \"Focus\", 3000, True]\n",
    "lista_v3 = [\"Toyota\", \"Hilux\", 8000, False]\n",
    "\n",
    "lista_encabezados = [\"Marca\", \"Modelo\", \"Precio\", \"Okm\"]\n",
    "lista_patentes = [\"ASD123\", \"AF123AA\", \"TYP890\", \"AG677ER\"]"
   ]
  },
  {
   "cell_type": "code",
   "execution_count": 12,
   "metadata": {},
   "outputs": [
    {
     "data": {
      "text/html": [
       "<div>\n",
       "<style scoped>\n",
       "    .dataframe tbody tr th:only-of-type {\n",
       "        vertical-align: middle;\n",
       "    }\n",
       "\n",
       "    .dataframe tbody tr th {\n",
       "        vertical-align: top;\n",
       "    }\n",
       "\n",
       "    .dataframe thead th {\n",
       "        text-align: right;\n",
       "    }\n",
       "</style>\n",
       "<table border=\"1\" class=\"dataframe\">\n",
       "  <thead>\n",
       "    <tr style=\"text-align: right;\">\n",
       "      <th></th>\n",
       "      <th>Marca</th>\n",
       "      <th>Modelo</th>\n",
       "      <th>Precio</th>\n",
       "      <th>Okm</th>\n",
       "    </tr>\n",
       "  </thead>\n",
       "  <tbody>\n",
       "    <tr>\n",
       "      <th>ASD123</th>\n",
       "      <td>Fiat</td>\n",
       "      <td>Uno</td>\n",
       "      <td>1000</td>\n",
       "      <td>False</td>\n",
       "    </tr>\n",
       "    <tr>\n",
       "      <th>AF123AA</th>\n",
       "      <td>Fiat</td>\n",
       "      <td>Palio</td>\n",
       "      <td>2000</td>\n",
       "      <td>True</td>\n",
       "    </tr>\n",
       "    <tr>\n",
       "      <th>TYP890</th>\n",
       "      <td>Ford</td>\n",
       "      <td>Focus</td>\n",
       "      <td>3000</td>\n",
       "      <td>True</td>\n",
       "    </tr>\n",
       "    <tr>\n",
       "      <th>AG677ER</th>\n",
       "      <td>Toyota</td>\n",
       "      <td>Hilux</td>\n",
       "      <td>8000</td>\n",
       "      <td>False</td>\n",
       "    </tr>\n",
       "  </tbody>\n",
       "</table>\n",
       "</div>"
      ],
      "text/plain": [
       "          Marca Modelo  Precio    Okm\n",
       "ASD123     Fiat    Uno    1000  False\n",
       "AF123AA    Fiat  Palio    2000   True\n",
       "TYP890     Ford  Focus    3000   True\n",
       "AG677ER  Toyota  Hilux    8000  False"
      ]
     },
     "execution_count": 12,
     "metadata": {},
     "output_type": "execute_result"
    }
   ],
   "source": [
    "df_concesionaria = pd.DataFrame(\n",
    "    data=[lista_v0, lista_v1, lista_v2, lista_v3],\n",
    "    columns=lista_encabezados,\n",
    "    index=lista_patentes\n",
    ")\n",
    "df_concesionaria"
   ]
  },
  {
   "cell_type": "markdown",
   "metadata": {},
   "source": [
    "### Ejercicio 1.5\n",
    "\n",
    "Una vez que tenemos el DataFrame podemos indicar qué columna será el numero índice"
   ]
  },
  {
   "cell_type": "code",
   "execution_count": 14,
   "metadata": {},
   "outputs": [],
   "source": [
    "dict_empleados = {\n",
    "    \"ID\": [\"A-123\", \"B-456\", \"C-789\", \"D-369\"],\n",
    "    \"Nombre\": [\"Sofia\", \"Veronica\", \"Nicolas\", \"Nadia\"],\n",
    "    \"Apellido\": [\"Garcia\", \"Gonzales\", \"Perez\", \"Gutierrez\"],\n",
    "    \"Departamento\": [\"IT\", \"Contable\", \"IyD\", \"Legales\"],\n",
    "    \"Sueldo\": [5000, 2000, 5000, 3000], \n",
    "    \"Facturacion\": [True, False, True, True], \n",
    "}"
   ]
  },
  {
   "cell_type": "code",
   "execution_count": 15,
   "metadata": {},
   "outputs": [
    {
     "data": {
      "text/html": [
       "<div>\n",
       "<style scoped>\n",
       "    .dataframe tbody tr th:only-of-type {\n",
       "        vertical-align: middle;\n",
       "    }\n",
       "\n",
       "    .dataframe tbody tr th {\n",
       "        vertical-align: top;\n",
       "    }\n",
       "\n",
       "    .dataframe thead th {\n",
       "        text-align: right;\n",
       "    }\n",
       "</style>\n",
       "<table border=\"1\" class=\"dataframe\">\n",
       "  <thead>\n",
       "    <tr style=\"text-align: right;\">\n",
       "      <th></th>\n",
       "      <th>ID</th>\n",
       "      <th>Nombre</th>\n",
       "      <th>Apellido</th>\n",
       "      <th>Departamento</th>\n",
       "      <th>Sueldo</th>\n",
       "      <th>Facturacion</th>\n",
       "    </tr>\n",
       "  </thead>\n",
       "  <tbody>\n",
       "    <tr>\n",
       "      <th>0</th>\n",
       "      <td>A-123</td>\n",
       "      <td>Sofia</td>\n",
       "      <td>Garcia</td>\n",
       "      <td>IT</td>\n",
       "      <td>5000</td>\n",
       "      <td>True</td>\n",
       "    </tr>\n",
       "    <tr>\n",
       "      <th>1</th>\n",
       "      <td>B-456</td>\n",
       "      <td>Veronica</td>\n",
       "      <td>Gonzales</td>\n",
       "      <td>Contable</td>\n",
       "      <td>2000</td>\n",
       "      <td>False</td>\n",
       "    </tr>\n",
       "    <tr>\n",
       "      <th>2</th>\n",
       "      <td>C-789</td>\n",
       "      <td>Nicolas</td>\n",
       "      <td>Perez</td>\n",
       "      <td>IyD</td>\n",
       "      <td>5000</td>\n",
       "      <td>True</td>\n",
       "    </tr>\n",
       "    <tr>\n",
       "      <th>3</th>\n",
       "      <td>D-369</td>\n",
       "      <td>Nadia</td>\n",
       "      <td>Gutierrez</td>\n",
       "      <td>Legales</td>\n",
       "      <td>3000</td>\n",
       "      <td>True</td>\n",
       "    </tr>\n",
       "  </tbody>\n",
       "</table>\n",
       "</div>"
      ],
      "text/plain": [
       "      ID    Nombre   Apellido Departamento  Sueldo  Facturacion\n",
       "0  A-123     Sofia     Garcia           IT    5000         True\n",
       "1  B-456  Veronica   Gonzales     Contable    2000        False\n",
       "2  C-789   Nicolas      Perez          IyD    5000         True\n",
       "3  D-369     Nadia  Gutierrez      Legales    3000         True"
      ]
     },
     "execution_count": 15,
     "metadata": {},
     "output_type": "execute_result"
    }
   ],
   "source": [
    "df_empleados = pd.DataFrame(dict_empleados)\n",
    "df_empleados"
   ]
  },
  {
   "cell_type": "code",
   "execution_count": 16,
   "metadata": {},
   "outputs": [
    {
     "data": {
      "text/html": [
       "<div>\n",
       "<style scoped>\n",
       "    .dataframe tbody tr th:only-of-type {\n",
       "        vertical-align: middle;\n",
       "    }\n",
       "\n",
       "    .dataframe tbody tr th {\n",
       "        vertical-align: top;\n",
       "    }\n",
       "\n",
       "    .dataframe thead th {\n",
       "        text-align: right;\n",
       "    }\n",
       "</style>\n",
       "<table border=\"1\" class=\"dataframe\">\n",
       "  <thead>\n",
       "    <tr style=\"text-align: right;\">\n",
       "      <th></th>\n",
       "      <th>Nombre</th>\n",
       "      <th>Apellido</th>\n",
       "      <th>Departamento</th>\n",
       "      <th>Sueldo</th>\n",
       "      <th>Facturacion</th>\n",
       "    </tr>\n",
       "    <tr>\n",
       "      <th>ID</th>\n",
       "      <th></th>\n",
       "      <th></th>\n",
       "      <th></th>\n",
       "      <th></th>\n",
       "      <th></th>\n",
       "    </tr>\n",
       "  </thead>\n",
       "  <tbody>\n",
       "    <tr>\n",
       "      <th>A-123</th>\n",
       "      <td>Sofia</td>\n",
       "      <td>Garcia</td>\n",
       "      <td>IT</td>\n",
       "      <td>5000</td>\n",
       "      <td>True</td>\n",
       "    </tr>\n",
       "    <tr>\n",
       "      <th>B-456</th>\n",
       "      <td>Veronica</td>\n",
       "      <td>Gonzales</td>\n",
       "      <td>Contable</td>\n",
       "      <td>2000</td>\n",
       "      <td>False</td>\n",
       "    </tr>\n",
       "    <tr>\n",
       "      <th>C-789</th>\n",
       "      <td>Nicolas</td>\n",
       "      <td>Perez</td>\n",
       "      <td>IyD</td>\n",
       "      <td>5000</td>\n",
       "      <td>True</td>\n",
       "    </tr>\n",
       "    <tr>\n",
       "      <th>D-369</th>\n",
       "      <td>Nadia</td>\n",
       "      <td>Gutierrez</td>\n",
       "      <td>Legales</td>\n",
       "      <td>3000</td>\n",
       "      <td>True</td>\n",
       "    </tr>\n",
       "  </tbody>\n",
       "</table>\n",
       "</div>"
      ],
      "text/plain": [
       "         Nombre   Apellido Departamento  Sueldo  Facturacion\n",
       "ID                                                          \n",
       "A-123     Sofia     Garcia           IT    5000         True\n",
       "B-456  Veronica   Gonzales     Contable    2000        False\n",
       "C-789   Nicolas      Perez          IyD    5000         True\n",
       "D-369     Nadia  Gutierrez      Legales    3000         True"
      ]
     },
     "execution_count": 16,
     "metadata": {},
     "output_type": "execute_result"
    }
   ],
   "source": [
    "df_empleados.set_index(\"ID\")"
   ]
  },
  {
   "cell_type": "code",
   "execution_count": 17,
   "metadata": {},
   "outputs": [
    {
     "data": {
      "text/html": [
       "<div>\n",
       "<style scoped>\n",
       "    .dataframe tbody tr th:only-of-type {\n",
       "        vertical-align: middle;\n",
       "    }\n",
       "\n",
       "    .dataframe tbody tr th {\n",
       "        vertical-align: top;\n",
       "    }\n",
       "\n",
       "    .dataframe thead th {\n",
       "        text-align: right;\n",
       "    }\n",
       "</style>\n",
       "<table border=\"1\" class=\"dataframe\">\n",
       "  <thead>\n",
       "    <tr style=\"text-align: right;\">\n",
       "      <th></th>\n",
       "      <th>ID</th>\n",
       "      <th>Nombre</th>\n",
       "      <th>Apellido</th>\n",
       "      <th>Departamento</th>\n",
       "      <th>Sueldo</th>\n",
       "      <th>Facturacion</th>\n",
       "    </tr>\n",
       "  </thead>\n",
       "  <tbody>\n",
       "    <tr>\n",
       "      <th>0</th>\n",
       "      <td>A-123</td>\n",
       "      <td>Sofia</td>\n",
       "      <td>Garcia</td>\n",
       "      <td>IT</td>\n",
       "      <td>5000</td>\n",
       "      <td>True</td>\n",
       "    </tr>\n",
       "    <tr>\n",
       "      <th>1</th>\n",
       "      <td>B-456</td>\n",
       "      <td>Veronica</td>\n",
       "      <td>Gonzales</td>\n",
       "      <td>Contable</td>\n",
       "      <td>2000</td>\n",
       "      <td>False</td>\n",
       "    </tr>\n",
       "    <tr>\n",
       "      <th>2</th>\n",
       "      <td>C-789</td>\n",
       "      <td>Nicolas</td>\n",
       "      <td>Perez</td>\n",
       "      <td>IyD</td>\n",
       "      <td>5000</td>\n",
       "      <td>True</td>\n",
       "    </tr>\n",
       "    <tr>\n",
       "      <th>3</th>\n",
       "      <td>D-369</td>\n",
       "      <td>Nadia</td>\n",
       "      <td>Gutierrez</td>\n",
       "      <td>Legales</td>\n",
       "      <td>3000</td>\n",
       "      <td>True</td>\n",
       "    </tr>\n",
       "  </tbody>\n",
       "</table>\n",
       "</div>"
      ],
      "text/plain": [
       "      ID    Nombre   Apellido Departamento  Sueldo  Facturacion\n",
       "0  A-123     Sofia     Garcia           IT    5000         True\n",
       "1  B-456  Veronica   Gonzales     Contable    2000        False\n",
       "2  C-789   Nicolas      Perez          IyD    5000         True\n",
       "3  D-369     Nadia  Gutierrez      Legales    3000         True"
      ]
     },
     "execution_count": 17,
     "metadata": {},
     "output_type": "execute_result"
    }
   ],
   "source": [
    "df_empleados #no se modificó el índice"
   ]
  },
  {
   "cell_type": "markdown",
   "metadata": {},
   "source": [
    "### Ejercicio 1.6\n",
    "\n",
    "Si modificamos un DataFrame y queres que los cambios perdures se usa: `inplace`"
   ]
  },
  {
   "cell_type": "code",
   "execution_count": 18,
   "metadata": {},
   "outputs": [],
   "source": [
    "df_empleados.set_index(\"ID\", inplace=True)"
   ]
  },
  {
   "cell_type": "code",
   "execution_count": 19,
   "metadata": {},
   "outputs": [
    {
     "data": {
      "text/html": [
       "<div>\n",
       "<style scoped>\n",
       "    .dataframe tbody tr th:only-of-type {\n",
       "        vertical-align: middle;\n",
       "    }\n",
       "\n",
       "    .dataframe tbody tr th {\n",
       "        vertical-align: top;\n",
       "    }\n",
       "\n",
       "    .dataframe thead th {\n",
       "        text-align: right;\n",
       "    }\n",
       "</style>\n",
       "<table border=\"1\" class=\"dataframe\">\n",
       "  <thead>\n",
       "    <tr style=\"text-align: right;\">\n",
       "      <th></th>\n",
       "      <th>Nombre</th>\n",
       "      <th>Apellido</th>\n",
       "      <th>Departamento</th>\n",
       "      <th>Sueldo</th>\n",
       "      <th>Facturacion</th>\n",
       "    </tr>\n",
       "    <tr>\n",
       "      <th>ID</th>\n",
       "      <th></th>\n",
       "      <th></th>\n",
       "      <th></th>\n",
       "      <th></th>\n",
       "      <th></th>\n",
       "    </tr>\n",
       "  </thead>\n",
       "  <tbody>\n",
       "    <tr>\n",
       "      <th>A-123</th>\n",
       "      <td>Sofia</td>\n",
       "      <td>Garcia</td>\n",
       "      <td>IT</td>\n",
       "      <td>5000</td>\n",
       "      <td>True</td>\n",
       "    </tr>\n",
       "    <tr>\n",
       "      <th>B-456</th>\n",
       "      <td>Veronica</td>\n",
       "      <td>Gonzales</td>\n",
       "      <td>Contable</td>\n",
       "      <td>2000</td>\n",
       "      <td>False</td>\n",
       "    </tr>\n",
       "    <tr>\n",
       "      <th>C-789</th>\n",
       "      <td>Nicolas</td>\n",
       "      <td>Perez</td>\n",
       "      <td>IyD</td>\n",
       "      <td>5000</td>\n",
       "      <td>True</td>\n",
       "    </tr>\n",
       "    <tr>\n",
       "      <th>D-369</th>\n",
       "      <td>Nadia</td>\n",
       "      <td>Gutierrez</td>\n",
       "      <td>Legales</td>\n",
       "      <td>3000</td>\n",
       "      <td>True</td>\n",
       "    </tr>\n",
       "  </tbody>\n",
       "</table>\n",
       "</div>"
      ],
      "text/plain": [
       "         Nombre   Apellido Departamento  Sueldo  Facturacion\n",
       "ID                                                          \n",
       "A-123     Sofia     Garcia           IT    5000         True\n",
       "B-456  Veronica   Gonzales     Contable    2000        False\n",
       "C-789   Nicolas      Perez          IyD    5000         True\n",
       "D-369     Nadia  Gutierrez      Legales    3000         True"
      ]
     },
     "execution_count": 19,
     "metadata": {},
     "output_type": "execute_result"
    }
   ],
   "source": [
    "df_empleados"
   ]
  }
 ],
 "metadata": {
  "kernelspec": {
   "display_name": "Python 3",
   "language": "python",
   "name": "python3"
  },
  "language_info": {
   "codemirror_mode": {
    "name": "ipython",
    "version": 3
   },
   "file_extension": ".py",
   "mimetype": "text/x-python",
   "name": "python",
   "nbconvert_exporter": "python",
   "pygments_lexer": "ipython3",
   "version": "3.11.3"
  }
 },
 "nbformat": 4,
 "nbformat_minor": 2
}
