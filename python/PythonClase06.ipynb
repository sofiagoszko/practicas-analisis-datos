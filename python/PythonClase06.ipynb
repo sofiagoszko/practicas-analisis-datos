{
  "nbformat": 4,
  "nbformat_minor": 0,
  "metadata": {
    "colab": {
      "provenance": []
    },
    "kernelspec": {
      "name": "python3",
      "display_name": "Python 3"
    },
    "language_info": {
      "name": "python"
    }
  },
  "cells": [
    {
      "cell_type": "markdown",
      "source": [
        "# INTRODUCCIÓN AL TRABAJO CON LIBRERIAS\n",
        "\n",
        "Las librerias en Python son \"cajas\" que contienen un conjunto de funciones y variables que pueden ser utilizadas para realizar tareas específicas.\n",
        "\n",
        "Podés usar las librerias simplemente llamándolos en tu programa cuando los necesites, y así aprovechar todas las funcionalidades que ofrecen sin tener que reescribir todo el código desde cero.\n",
        "\n"
      ],
      "metadata": {
        "id": "6pXUSrDuLrKC"
      }
    },
    {
      "cell_type": "markdown",
      "source": [
        "## IMPORTACIÓN DE LIBRERIAS\n",
        "\n",
        "Sintaxis para importar una librería:\n",
        "\n",
        "`import <nombre_libreria>`\n",
        "\n",
        "También se puede asignarle un alias para nombrarla con mayor facilidad:\n",
        "\n",
        "`import <nombre_libreria> as <alias>`\n",
        "\n",
        "Si no vamos a usar toda la librería y no queremos sobrecargar la memoria, se puede importar solo un paquete en particular:\n",
        "\n",
        "`from <nombre_libreria> import <nombre_paquete> as <alias>`"
      ],
      "metadata": {
        "id": "_NixZ_I0Ne9Z"
      }
    },
    {
      "cell_type": "markdown",
      "source": [
        "## INSTALACIÓN DE LIBRERÍAS\n",
        "\n",
        "A la hora de trabajar con librerías es posible que no las tengamos instaladas ya que muchas son creadas por la comunidad, también puede que no estén incluidas en los archivos base de Python.\n",
        "\n",
        "Para ellos se emplea el **pip**\n",
        ". En la terminal (locas): `pip install <nombre_libreria>`\n",
        ". En colab ejecutar: `!pip install <nombre_libreria>`"
      ],
      "metadata": {
        "id": "8cJAFEZONupM"
      }
    },
    {
      "cell_type": "markdown",
      "source": [
        "## MATH\n",
        "\n",
        "La librería `math` permite realizar operaciones matemáticas más avanzadas y permite utilizar constantes matemáticas básicas para resolver problemas más complejos.\n",
        "\n",
        "Incluye funciones para:\n",
        "\n",
        ". Realizar cálculos trigonométricos\n",
        "\n",
        ". Operaciones de álegbra lineal\n",
        "\n",
        ". Funciones exponenciales y logarítmicas"
      ],
      "metadata": {
        "id": "2WVQyY8sO7J8"
      }
    },
    {
      "cell_type": "markdown",
      "source": [
        "### Ejercicio 1.0\n",
        "\n",
        "Importamos la librería math"
      ],
      "metadata": {
        "id": "NRLKAXF7Ppxz"
      }
    },
    {
      "cell_type": "code",
      "source": [
        "import math"
      ],
      "metadata": {
        "id": "kIwnftxkPpQE"
      },
      "execution_count": null,
      "outputs": []
    },
    {
      "cell_type": "markdown",
      "source": [
        "### Ejercicio 1.1\n",
        "\n",
        "Calculamos el área de un círculo [pi*radio^2]"
      ],
      "metadata": {
        "id": "sxpHzhCjP2Em"
      }
    },
    {
      "cell_type": "code",
      "source": [
        "radio = float(input(\"Ingrese el radio del círculo: \"))\n",
        "area = math.pi * radio**2\n",
        "\n",
        "print(f\"El área del círculo es: {area}\")"
      ],
      "metadata": {
        "colab": {
          "base_uri": "https://localhost:8080/"
        },
        "id": "_-MLunQzNtm9",
        "outputId": "45039339-df22-42c2-c92f-36596d0c53f6"
      },
      "execution_count": null,
      "outputs": [
        {
          "output_type": "stream",
          "name": "stdout",
          "text": [
            "Ingrese el radio del círculo: 10\n",
            "El área del círculo es: 314.1592653589793\n"
          ]
        }
      ]
    },
    {
      "cell_type": "markdown",
      "source": [
        "Redondeando el resultado a dos decimales"
      ],
      "metadata": {
        "id": "BYuwa5cINpbi"
      }
    },
    {
      "cell_type": "code",
      "execution_count": null,
      "metadata": {
        "colab": {
          "base_uri": "https://localhost:8080/"
        },
        "id": "wvpwEEhOTZw0",
        "outputId": "a57aa04c-c177-4556-d6e7-c11eb41abf35"
      },
      "outputs": [
        {
          "output_type": "stream",
          "name": "stdout",
          "text": [
            "El área del círculo es: 314.16\n"
          ]
        }
      ],
      "source": [
        "area = round(area, 2)\n",
        "print(f\"El área del círculo es: {area}\")\n"
      ]
    },
    {
      "cell_type": "markdown",
      "source": [
        "### Ejercicio 1.2\n",
        "\n",
        "Calculamos la hipotenusa de un triángulo rectángulo."
      ],
      "metadata": {
        "id": "kTW0G3GzQmm9"
      }
    },
    {
      "cell_type": "code",
      "source": [
        "cateto1 = float(input(\"Ingrese la logito del primer cateto: \"))\n",
        "cateto2 = float(input(\"Ingrese la logito del segundo cateto: \"))\n",
        "hipotenusa = round(math.sqrt(cateto1**2 + cateto2**2),2)\n",
        "\n",
        "print(f\"La longitud de la hipotenusa es: {hipotenusa}\")"
      ],
      "metadata": {
        "colab": {
          "base_uri": "https://localhost:8080/"
        },
        "id": "dFMaaQYYRZQC",
        "outputId": "805e2581-0435-4308-95a9-636ccbdc7363"
      },
      "execution_count": null,
      "outputs": [
        {
          "output_type": "stream",
          "name": "stdout",
          "text": [
            "Ingrese la logito del primer cateto: 20\n",
            "Ingrese la logito del segundo cateto: 5\n",
            "La longitud de la hipotenusa es: 20.62\n"
          ]
        }
      ]
    },
    {
      "cell_type": "markdown",
      "source": [
        "### Ejercicio 1.3\n",
        "\n",
        "Calculadora de seno, coseno, tangente"
      ],
      "metadata": {
        "id": "4AZY6uHcTAxY"
      }
    },
    {
      "cell_type": "code",
      "source": [
        "angulo_grados = float(input(\"Ingrese el valor del ángulo en grados: \"))\n",
        "angulo_radianes = math.radians(angulo_grados)\n",
        "\n",
        "\n",
        "seno = math.sin(angulo_radianes)\n",
        "coseno = math.cos(angulo_radianes)\n",
        "tangente = math.tan(angulo_radianes)\n",
        "\n",
        "print(f\"Angulo en radianes: {angulo_radianes}\")\n",
        "print(f\"Seno: {seno}\")\n",
        "print(f\"Coseno: {coseno}\")\n",
        "print(f\"Tangente: {tangente}\")"
      ],
      "metadata": {
        "colab": {
          "base_uri": "https://localhost:8080/"
        },
        "id": "85ggxkM9TAZQ",
        "outputId": "b691e7a0-957e-4271-9f38-db6bdc2b1f2b"
      },
      "execution_count": null,
      "outputs": [
        {
          "output_type": "stream",
          "name": "stdout",
          "text": [
            "Ingrese el valor del ángulo en grados: 30\n",
            "Angulo en radianes: 0.5235987755982988\n",
            "Seno: 0.49999999999999994\n",
            "Coseno: 0.8660254037844387\n",
            "Tangente: 0.5773502691896257\n"
          ]
        }
      ]
    },
    {
      "cell_type": "markdown",
      "source": [
        "### Ejercicio 1.4\n",
        "\n",
        "Cálculo de potencias"
      ],
      "metadata": {
        "id": "Det7Gt8EUYkI"
      }
    },
    {
      "cell_type": "code",
      "source": [
        "base = float(input(\"Ingrese el numero que será la base en la operación: \"))\n",
        "exponente = float(input(\"Ingrese el exponente: \"))\n",
        "\n",
        "resultado = math.pow(base, exponente)\n",
        "\n",
        "print(f\"{base}^{exponente} = {round(resultado, 2)}\")"
      ],
      "metadata": {
        "colab": {
          "base_uri": "https://localhost:8080/"
        },
        "id": "j9RoHOFmUYAg",
        "outputId": "d6ac8890-27ce-441d-90bf-04558fdc6eb8"
      },
      "execution_count": null,
      "outputs": [
        {
          "output_type": "stream",
          "name": "stdout",
          "text": [
            "Ingrese el numero que será la base en la operación: 2\n",
            "Ingrese el exponente: 10\n",
            "2.0^10.0 = 1024.0\n"
          ]
        }
      ]
    },
    {
      "cell_type": "markdown",
      "source": [
        "## NUMPY\n",
        "\n",
        "**NumPy** es una librería de Python que ayuda a trabjar con matrices y arreglos multidimencionales.\n",
        "\n",
        "NumPy permite:\n",
        "\n",
        ". Multiplicación de matrices/arreglos\n",
        "\n",
        ". Inversión de matrices/arreglos\n",
        "\n",
        ". Cálculo de funciones trigonométricas\n",
        "\n",
        ". Procesamiento de datos\n",
        "\n",
        ". Manipulación de matrices de manera rápida y eficiente"
      ],
      "metadata": {
        "id": "u1pcAptOVDk_"
      }
    },
    {
      "cell_type": "markdown",
      "source": [
        "### Ejercicio 2.0\n",
        "\n",
        "Importamos NumPy"
      ],
      "metadata": {
        "id": "e_lITwhBVvdP"
      }
    },
    {
      "cell_type": "code",
      "source": [
        "import numpy as np\n"
      ],
      "metadata": {
        "id": "YV3zraZNVvC_"
      },
      "execution_count": null,
      "outputs": []
    },
    {
      "cell_type": "markdown",
      "source": [
        "### Ejercicio 2.1\n",
        "\n",
        "Veamos las operaciones básicas con arrays (arreglos unidimensionales).\n",
        "\n",
        "Los arrays son homogéneos y numéricos."
      ],
      "metadata": {
        "id": "y2mjgw-WV6FA"
      }
    },
    {
      "cell_type": "code",
      "source": [
        "lista_numerica = [10, 20, 30]\n",
        "\n",
        "array1 = np.array([1, 2, 3, 4, 5]) #creamos un array de numeros\n",
        "array2 = np.array(lista_numerica)\n",
        "\n",
        "print(array1)\n",
        "print(array2)"
      ],
      "metadata": {
        "colab": {
          "base_uri": "https://localhost:8080/"
        },
        "id": "Fgt2n8EzV5mP",
        "outputId": "794043da-ac2b-4679-b7ee-2c12a0c74ca0"
      },
      "execution_count": null,
      "outputs": [
        {
          "output_type": "stream",
          "name": "stdout",
          "text": [
            "[1 2 3 4 5]\n",
            "[10 20 30]\n"
          ]
        }
      ]
    },
    {
      "cell_type": "code",
      "source": [
        "type(lista_numerica), type(array2)"
      ],
      "metadata": {
        "id": "pVER1PBUgA13",
        "outputId": "e92e3abf-0c44-4930-c03a-db3b9c40d384",
        "colab": {
          "base_uri": "https://localhost:8080/"
        }
      },
      "execution_count": null,
      "outputs": [
        {
          "output_type": "execute_result",
          "data": {
            "text/plain": [
              "(list, numpy.ndarray)"
            ]
          },
          "metadata": {},
          "execution_count": 33
        }
      ]
    },
    {
      "cell_type": "code",
      "source": [
        "array3 = np.array([6, 7, 8, 9, 10])\n",
        "\n",
        "suma = array1 + array3\n",
        "resta = array1 - array3\n",
        "multiplicacion = array1 * array3\n",
        "division = array1 / array3\n",
        "\n",
        "print(array1)\n",
        "print(array3)\n",
        "print(f\"Suma: {suma}\")\n",
        "print(f\"Resta: {resta}\")\n",
        "print(f\"Multiplicación: {multiplicacion}\")\n",
        "print(f\"División: {division}\")"
      ],
      "metadata": {
        "colab": {
          "base_uri": "https://localhost:8080/"
        },
        "id": "LYPHWZTWXNpH",
        "outputId": "68ab5699-33d1-4992-8be8-413f308480ac"
      },
      "execution_count": null,
      "outputs": [
        {
          "output_type": "stream",
          "name": "stdout",
          "text": [
            "[1 2 3 4 5]\n",
            "[ 6  7  8  9 10]\n",
            "Suma: [ 7  9 11 13 15]\n",
            "Resta: [-5 -5 -5 -5 -5]\n",
            "Multiplicación: [ 6 14 24 36 50]\n",
            "División: [0.16666667 0.28571429 0.375      0.44444444 0.5       ]\n"
          ]
        }
      ]
    },
    {
      "cell_type": "code",
      "source": [
        "producto_escalar = np.dot(array1, array3) #producto escalar entre los arrays\n",
        "print(producto_escalar)\n"
      ],
      "metadata": {
        "colab": {
          "base_uri": "https://localhost:8080/"
        },
        "id": "Nd0IBLJWYy8H",
        "outputId": "a4eafd0d-a277-4036-e676-00895ac6a897"
      },
      "execution_count": null,
      "outputs": [
        {
          "output_type": "stream",
          "name": "stdout",
          "text": [
            "130\n"
          ]
        }
      ]
    },
    {
      "cell_type": "markdown",
      "source": [
        "### Ejercicio 2.2\n",
        "\n",
        "Creamos matrices."
      ],
      "metadata": {
        "id": "3sDiqp1dYdfP"
      }
    },
    {
      "cell_type": "code",
      "source": [
        "#matriz identidad\n",
        "matriz_identidad = np.eye(4)\n",
        "print(matriz_identidad)"
      ],
      "metadata": {
        "id": "6IaB9EsgYknX"
      },
      "execution_count": null,
      "outputs": []
    },
    {
      "cell_type": "code",
      "source": [
        "matriz_ceros = np.zeros((2,4))\n",
        "print(matriz_ceros)"
      ],
      "metadata": {
        "colab": {
          "base_uri": "https://localhost:8080/"
        },
        "id": "A15P1wTpgtc_",
        "outputId": "8b44c6da-8399-4ae7-a669-aafcfb952a0a"
      },
      "execution_count": 35,
      "outputs": [
        {
          "output_type": "stream",
          "name": "stdout",
          "text": [
            "[[0. 0. 0. 0.]\n",
            " [0. 0. 0. 0.]]\n"
          ]
        }
      ]
    },
    {
      "cell_type": "code",
      "source": [
        "matriz_unos = np.ones((3,3))\n",
        "print(matriz_unos)"
      ],
      "metadata": {
        "colab": {
          "base_uri": "https://localhost:8080/"
        },
        "id": "usg9NVOxhHoW",
        "outputId": "d6d95d0c-096a-41ac-dedc-09c66025c25a"
      },
      "execution_count": 36,
      "outputs": [
        {
          "output_type": "stream",
          "name": "stdout",
          "text": [
            "[[1. 1. 1.]\n",
            " [1. 1. 1.]\n",
            " [1. 1. 1.]]\n"
          ]
        }
      ]
    },
    {
      "cell_type": "code",
      "source": [
        "matriz1 = np.array([[1, 2], [3, 4]])\n",
        "matriz2 = np.array([[10, 14], [18, 72]])\n",
        "\n",
        "print(matriz1)\n",
        "print(matriz2)"
      ],
      "metadata": {
        "colab": {
          "base_uri": "https://localhost:8080/"
        },
        "id": "YRZRq9WxZOiP",
        "outputId": "9e86453d-aa81-4d9f-cbd3-6d58ecd7bf87"
      },
      "execution_count": null,
      "outputs": [
        {
          "output_type": "stream",
          "name": "stdout",
          "text": [
            "[[1 2]\n",
            " [3 4]]\n",
            "[[10 14]\n",
            " [18 72]]\n"
          ]
        }
      ]
    },
    {
      "cell_type": "markdown",
      "source": [
        "### Ejercicio 2.3\n",
        "\n",
        "Operaciones con matrices"
      ],
      "metadata": {
        "id": "gRve1-hjZ0-S"
      }
    },
    {
      "cell_type": "code",
      "source": [
        "producto_matrices = matriz1 * matriz2\n",
        "traspuesta1 = np.transpose(matriz1)\n",
        "traspuesta2 = np.transpose(matriz2)\n",
        "determinante1 = np.linalg.det(matriz1)\n",
        "determinante2 = np.linalg.det(matriz2)\n",
        "\n",
        "\n",
        "print(\"Producto matricial\")\n",
        "print(producto_matrices)\n",
        "print(\"Traspuesta de matriz1\")\n",
        "print(traspuesta1)\n",
        "print(\"Traspuesta de matriz2\")\n",
        "print(traspuesta2)\n",
        "print(\"Determinante de matriz1\")\n",
        "print(determinante1)\n",
        "print(\"Determinante de matriz2\")\n",
        "print(determinante2)"
      ],
      "metadata": {
        "colab": {
          "base_uri": "https://localhost:8080/"
        },
        "id": "gwiflhgzZzLW",
        "outputId": "b7213d2c-d86e-4fbb-89b4-167d880ce0b1"
      },
      "execution_count": null,
      "outputs": [
        {
          "output_type": "stream",
          "name": "stdout",
          "text": [
            "Producto matricial\n",
            "[[ 10  28]\n",
            " [ 54 288]]\n",
            "Traspuesta de matriz1\n",
            "[[1 3]\n",
            " [2 4]]\n",
            "Traspuesta de matriz2\n",
            "[[10 18]\n",
            " [14 72]]\n",
            "Determinante de matriz1\n",
            "-2.0000000000000004\n",
            "Determinante de matriz2\n",
            "468.00000000000017\n"
          ]
        }
      ]
    }
  ]
}