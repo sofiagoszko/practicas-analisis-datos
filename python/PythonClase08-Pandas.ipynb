{
 "cells": [
  {
   "cell_type": "markdown",
   "metadata": {},
   "source": [
    "# PANDAS\n",
    "\n",
    "Librería especializada en la manipulación y el análisis de datos.\n",
    "\n",
    "Permite trabajar con datos estructurados (organizados en tablas).\n",
    "\n",
    "En Pandas hay dos objetos:\n",
    "\n",
    "- Serie: estructura de una dimensión\n",
    "- Dataframe: estructura de dos dimensiones (tablas)\n",
    "\n",
    "La mayoría de los métodos y funciones son compatibles entre series y dataframes.\n",
    "\n",
    "Asimismo, nos permite trabajar con diferentes tipos de archivos (.csv, .txt, .xlsx, .json) como así también leer archivos que se encuentran en la web."
   ]
  },
  {
   "cell_type": "markdown",
   "metadata": {},
   "source": [
    "## Ejercicio 1.0\n",
    "\n",
    "Instalamos e importamos la librería."
   ]
  },
  {
   "cell_type": "code",
   "execution_count": 28,
   "metadata": {},
   "outputs": [
    {
     "name": "stdout",
     "output_type": "stream",
     "text": [
      "Requirement already satisfied: pandas in c:\\users\\jag\\appdata\\local\\programs\\python\\python311\\lib\\site-packages (2.2.2)\n",
      "Requirement already satisfied: numpy>=1.23.2 in c:\\users\\jag\\appdata\\local\\programs\\python\\python311\\lib\\site-packages (from pandas) (1.25.2)\n",
      "Requirement already satisfied: python-dateutil>=2.8.2 in c:\\users\\jag\\appdata\\roaming\\python\\python311\\site-packages (from pandas) (2.8.2)\n",
      "Requirement already satisfied: pytz>=2020.1 in c:\\users\\jag\\appdata\\local\\programs\\python\\python311\\lib\\site-packages (from pandas) (2024.1)\n",
      "Requirement already satisfied: tzdata>=2022.7 in c:\\users\\jag\\appdata\\local\\programs\\python\\python311\\lib\\site-packages (from pandas) (2024.1)\n",
      "Requirement already satisfied: six>=1.5 in c:\\users\\jag\\appdata\\roaming\\python\\python311\\site-packages (from python-dateutil>=2.8.2->pandas) (1.16.0)\n",
      "Note: you may need to restart the kernel to use updated packages.\n"
     ]
    }
   ],
   "source": [
    "%pip install pandas"
   ]
  },
  {
   "cell_type": "code",
   "execution_count": 29,
   "metadata": {},
   "outputs": [
    {
     "name": "stdout",
     "output_type": "stream",
     "text": [
      "Requirement already satisfied: pip in c:\\users\\jag\\appdata\\local\\programs\\python\\python311\\lib\\site-packages (24.0)\n"
     ]
    }
   ],
   "source": [
    "!python.exe -m pip install --upgrade pip"
   ]
  },
  {
   "cell_type": "code",
   "execution_count": 30,
   "metadata": {},
   "outputs": [
    {
     "name": "stdout",
     "output_type": "stream",
     "text": [
      "Requirement already satisfied: pandas==2.2.2 in c:\\users\\jag\\appdata\\local\\programs\\python\\python311\\lib\\site-packages (2.2.2)Note: you may need to restart the kernel to use updated packages.\n",
      "\n",
      "Requirement already satisfied: numpy>=1.23.2 in c:\\users\\jag\\appdata\\local\\programs\\python\\python311\\lib\\site-packages (from pandas==2.2.2) (1.25.2)\n",
      "Requirement already satisfied: python-dateutil>=2.8.2 in c:\\users\\jag\\appdata\\roaming\\python\\python311\\site-packages (from pandas==2.2.2) (2.8.2)\n",
      "Requirement already satisfied: pytz>=2020.1 in c:\\users\\jag\\appdata\\local\\programs\\python\\python311\\lib\\site-packages (from pandas==2.2.2) (2024.1)\n",
      "Requirement already satisfied: tzdata>=2022.7 in c:\\users\\jag\\appdata\\local\\programs\\python\\python311\\lib\\site-packages (from pandas==2.2.2) (2024.1)\n",
      "Requirement already satisfied: six>=1.5 in c:\\users\\jag\\appdata\\roaming\\python\\python311\\site-packages (from python-dateutil>=2.8.2->pandas==2.2.2) (1.16.0)\n"
     ]
    }
   ],
   "source": [
    "#especificamos la versión a instalar\n",
    "%pip install pandas==2.2.2"
   ]
  },
  {
   "cell_type": "code",
   "execution_count": 31,
   "metadata": {},
   "outputs": [],
   "source": [
    "import pandas as pd #importamos la librería con el alias ps\n",
    "import numpy as np #importamos la librería numpy con el alias np"
   ]
  },
  {
   "cell_type": "markdown",
   "metadata": {},
   "source": [
    "## SERIES\n",
    "\n",
    "Las series nos permiten reprensentar informacion en forma de columnas.\n",
    "\n",
    "info: https://pandas.pydata.org/docs/reference/series.html"
   ]
  },
  {
   "cell_type": "markdown",
   "metadata": {},
   "source": [
    "### Ejercicio 1.1\n",
    "\n",
    "Creación de series.\n",
    "\n",
    "`pd.Serie()`\n",
    "\n",
    "La serie quedará formada de la siguiente manera:\n",
    "\n",
    "_Indice_de_la_fila     Valor_\n",
    "\n",
    "[datos]\n",
    "\n",
    "_Tipo de dato_"
   ]
  },
  {
   "cell_type": "code",
   "execution_count": 32,
   "metadata": {},
   "outputs": [
    {
     "name": "stdout",
     "output_type": "stream",
     "text": [
      "[1, 3, 10, 22]\n",
      "-----------------\n",
      "0     1\n",
      "1     3\n",
      "2    10\n",
      "3    22\n",
      "dtype: int64\n"
     ]
    }
   ],
   "source": [
    "lista_numerica = [1, 3, 10, 22] #creo una lista numérica\n",
    "\n",
    "serie_numerica = pd.Series(lista_numerica) #la convierto en una serie\n",
    "\n",
    "\n",
    "print(lista_numerica)\n",
    "print(\"-----------------\")\n",
    "#indice_de_fila  valor\n",
    "#tipo de dato\n",
    "print(serie_numerica)\n"
   ]
  },
  {
   "cell_type": "code",
   "execution_count": 33,
   "metadata": {},
   "outputs": [
    {
     "name": "stdout",
     "output_type": "stream",
     "text": [
      "0    blanco\n",
      "1      rojo\n",
      "2      azul\n",
      "3      rosa\n",
      "dtype: object\n"
     ]
    }
   ],
   "source": [
    "lista_colores = [\"blanco\", \"rojo\", \"azul\", \"rosa\"]\n",
    "serie_colores = pd.Series(lista_colores)\n",
    "print(serie_colores)"
   ]
  },
  {
   "cell_type": "code",
   "execution_count": 34,
   "metadata": {},
   "outputs": [
    {
     "name": "stdout",
     "output_type": "stream",
     "text": [
      "0     True\n",
      "1    False\n",
      "2     True\n",
      "3     True\n",
      "4    False\n",
      "dtype: bool\n"
     ]
    }
   ],
   "source": [
    "lista_booleana = [True, False, True, True, False]\n",
    "serie_booleana = pd.Series(lista_booleana)\n",
    "print(serie_booleana)"
   ]
  },
  {
   "cell_type": "code",
   "execution_count": 35,
   "metadata": {},
   "outputs": [
    {
     "name": "stdout",
     "output_type": "stream",
     "text": [
      "0      1\n",
      "1      5\n",
      "2     10\n",
      "3     33\n",
      "4    100\n",
      "dtype: int32\n"
     ]
    }
   ],
   "source": [
    "array = np.array([1, 5, 10, 33, 100])\n",
    "\n",
    "serie_array = pd.Series(array) #de array de numpy a serie de pandas\n",
    "print(serie_array)"
   ]
  },
  {
   "cell_type": "markdown",
   "metadata": {},
   "source": [
    "### Ejercicio 1.2\n",
    "\n",
    "Cuando creo una serie puedo castear el tipo de dato en una sola linea de código."
   ]
  },
  {
   "cell_type": "code",
   "execution_count": 36,
   "metadata": {},
   "outputs": [
    {
     "name": "stdout",
     "output_type": "stream",
     "text": [
      "0     1111111\n",
      "1    12345678\n",
      "2    34567890\n",
      "3    45678123\n",
      "dtype: string\n"
     ]
    }
   ],
   "source": [
    "lista_dni = [1111111, 12345678, 34567890, 45678123]\n",
    "\n",
    "serie_dni = pd.Series(lista_dni, dtype=\"string\")\n",
    "print(serie_dni)"
   ]
  },
  {
   "cell_type": "code",
   "execution_count": 37,
   "metadata": {},
   "outputs": [
    {
     "name": "stdout",
     "output_type": "stream",
     "text": [
      "0     True\n",
      "1    False\n",
      "2     True\n",
      "3     True\n",
      "4    False\n",
      "dtype: boolean\n"
     ]
    }
   ],
   "source": [
    "serie_bool = pd.Series([True, False, True, True, False], dtype=\"boolean\")\n",
    "print(serie_bool)"
   ]
  },
  {
   "cell_type": "markdown",
   "metadata": {},
   "source": [
    "### Ejercicio 1.3\n",
    "\n",
    "Puedo indicar el índice a una serie.\n",
    "\n",
    "`index`"
   ]
  },
  {
   "cell_type": "code",
   "execution_count": 38,
   "metadata": {},
   "outputs": [
    {
     "name": "stdout",
     "output_type": "stream",
     "text": [
      "sebastian    10\n",
      "sofia         9\n",
      "miguel        3\n",
      "florencia     5\n",
      "victor        6\n",
      "dtype: int64\n"
     ]
    }
   ],
   "source": [
    "lista_alumnos = [\"sebastian\", \"sofia\", \"miguel\", \"florencia\", \"victor\"]\n",
    "lista_nota_final = [10, 9, 3, 5, 6]\n",
    "\n",
    "serie_nota_alumnos = pd.Series(lista_nota_final, index=lista_alumnos) #los indices representan info (un id)\n",
    "print(serie_nota_alumnos)"
   ]
  },
  {
   "cell_type": "code",
   "execution_count": 39,
   "metadata": {},
   "outputs": [
    {
     "name": "stdout",
     "output_type": "stream",
     "text": [
      "sebastian     True\n",
      "sofia         True\n",
      "miguel       False\n",
      "florencia    False\n",
      "victor        True\n",
      "dtype: bool\n"
     ]
    }
   ],
   "source": [
    "lista_matricula_pago = [True, True, False, False, True]\n",
    "serie_matricula_alumnos = pd.Series(lista_matricula_pago, index=lista_alumnos)\n",
    "print(serie_matricula_alumnos)"
   ]
  },
  {
   "cell_type": "markdown",
   "metadata": {},
   "source": [
    "### Ejercicio 1.4\n",
    "\n",
    "Podemos extraer la información de un diccionario y convertirlo en una Serie.\n"
   ]
  },
  {
   "cell_type": "code",
   "execution_count": 40,
   "metadata": {},
   "outputs": [
    {
     "name": "stdout",
     "output_type": "stream",
     "text": [
      "andres    1000\n",
      "sofia     7420\n",
      "miguel    2940\n",
      "victor    7480\n",
      "melina    6514\n",
      "Name: Salarios empleados, dtype: int64\n"
     ]
    }
   ],
   "source": [
    "diccionario_salario = {\n",
    "    \"andres\" : 1000,\n",
    "    \"sofia\" : 7420,\n",
    "    \"miguel\" : 2940,\n",
    "    \"victor\" : 7480,\n",
    "    \"melina\": 6514\n",
    "}\n",
    "\n",
    "serie_salarios = pd.Series(diccionario_salario, name=\"Salarios empleados\")\n",
    "print(serie_salarios)\n"
   ]
  },
  {
   "cell_type": "markdown",
   "metadata": {},
   "source": [
    "### Ejercicio 1.5\n",
    "\n",
    "Series a partir de números random."
   ]
  },
  {
   "cell_type": "code",
   "execution_count": 41,
   "metadata": {},
   "outputs": [],
   "source": [
    "rng = np.random.default_rng() #se crea una serie con números aleatorios"
   ]
  },
  {
   "cell_type": "code",
   "execution_count": 42,
   "metadata": {},
   "outputs": [
    {
     "name": "stdout",
     "output_type": "stream",
     "text": [
      "Generator(PCG64)\n"
     ]
    }
   ],
   "source": [
    "print(rng)"
   ]
  },
  {
   "cell_type": "code",
   "execution_count": 49,
   "metadata": {},
   "outputs": [],
   "source": [
    "lista_alumnos = [\"sebastian\", \"sofia\", \"miguel\", \"florencia\", \"victor\", \"eva\", \"macarena\", \"pedro\", \"estevan\", \"sonia\"]\n",
    "\n",
    "serie_promedios = pd.Series(data=rng.integers(1, 11, len(lista_alumnos)),index=lista_alumnos, name=\"Promedio alumnos\") #rng.integers(valor_min, valor_max, tamaño)"
   ]
  },
  {
   "cell_type": "code",
   "execution_count": 50,
   "metadata": {},
   "outputs": [
    {
     "name": "stdout",
     "output_type": "stream",
     "text": [
      "sebastian     9\n",
      "sofia         6\n",
      "miguel        9\n",
      "florencia     8\n",
      "victor        2\n",
      "eva          10\n",
      "macarena      4\n",
      "pedro         9\n",
      "estevan      10\n",
      "sonia         2\n",
      "Name: Promedio alumnos, dtype: int64\n"
     ]
    }
   ],
   "source": [
    "print(serie_promedios)"
   ]
  },
  {
   "cell_type": "markdown",
   "metadata": {},
   "source": [
    "## METODOS Y FUNCIONES EN SERIES"
   ]
  },
  {
   "cell_type": "markdown",
   "metadata": {},
   "source": [
    "### Ejercicio 1.6\n",
    "\n",
    "Si queremos ver el tamaño de una serie\n",
    "\n",
    "`len(nombre_serie)`"
   ]
  },
  {
   "cell_type": "code",
   "execution_count": 52,
   "metadata": {},
   "outputs": [
    {
     "data": {
      "text/plain": [
       "10"
      ]
     },
     "execution_count": 52,
     "metadata": {},
     "output_type": "execute_result"
    }
   ],
   "source": [
    "len(serie_promedios) #cantidad de elementos totales, se basa en las apariciones de índices"
   ]
  },
  {
   "cell_type": "markdown",
   "metadata": {},
   "source": [
    "Si queremos ver la cantidad de elementos de una serie (no nulos)\n",
    "\n",
    "`nombre_serie.count()`"
   ]
  },
  {
   "cell_type": "code",
   "execution_count": 53,
   "metadata": {},
   "outputs": [
    {
     "data": {
      "text/plain": [
       "10"
      ]
     },
     "execution_count": 53,
     "metadata": {},
     "output_type": "execute_result"
    }
   ],
   "source": [
    "serie_promedios.count() #contar la cantidad de elementos"
   ]
  },
  {
   "cell_type": "markdown",
   "metadata": {},
   "source": []
  }
 ],
 "metadata": {
  "kernelspec": {
   "display_name": "Python 3",
   "language": "python",
   "name": "python3"
  },
  "language_info": {
   "codemirror_mode": {
    "name": "ipython",
    "version": 3
   },
   "file_extension": ".py",
   "mimetype": "text/x-python",
   "name": "python",
   "nbconvert_exporter": "python",
   "pygments_lexer": "ipython3",
   "version": "3.11.3"
  }
 },
 "nbformat": 4,
 "nbformat_minor": 2
}
