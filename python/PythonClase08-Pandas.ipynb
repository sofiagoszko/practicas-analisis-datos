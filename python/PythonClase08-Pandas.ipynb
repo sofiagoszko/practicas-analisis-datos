{
 "cells": [
  {
   "cell_type": "markdown",
   "metadata": {},
   "source": [
    "# PANDAS\n",
    "\n",
    "Librería especializada en la manipulación y el análisis de datos.\n",
    "\n",
    "Permite trabajar con datos estructurados (organizados en tablas).\n",
    "\n",
    "En Pandas hay dos objetos:\n",
    "\n",
    "- Serie: estructura de una dimensión\n",
    "- Dataframe: estructura de dos dimensiones (tablas)\n",
    "\n",
    "La mayoría de los métodos y funciones son compatibles entre series y dataframes.\n",
    "\n",
    "Asimismo, nos permite trabajar con diferentes tipos de archivos (.csv, .txt, .xlsx, .json)."
   ]
  },
  {
   "cell_type": "markdown",
   "metadata": {},
   "source": [
    "## Ejercicio 1.0\n",
    "\n",
    "Instalamos e importamos la librería."
   ]
  },
  {
   "cell_type": "code",
   "execution_count": 9,
   "metadata": {},
   "outputs": [
    {
     "name": "stdout",
     "output_type": "stream",
     "text": [
      "Requirement already satisfied: pandas in c:\\users\\jag\\appdata\\local\\programs\\python\\python311\\lib\\site-packages (2.2.2)\n",
      "Requirement already satisfied: numpy>=1.23.2 in c:\\users\\jag\\appdata\\local\\programs\\python\\python311\\lib\\site-packages (from pandas) (1.25.2)\n",
      "Requirement already satisfied: python-dateutil>=2.8.2 in c:\\users\\jag\\appdata\\roaming\\python\\python311\\site-packages (from pandas) (2.8.2)\n",
      "Requirement already satisfied: pytz>=2020.1 in c:\\users\\jag\\appdata\\local\\programs\\python\\python311\\lib\\site-packages (from pandas) (2024.1)\n",
      "Requirement already satisfied: tzdata>=2022.7 in c:\\users\\jag\\appdata\\local\\programs\\python\\python311\\lib\\site-packages (from pandas) (2024.1)\n",
      "Requirement already satisfied: six>=1.5 in c:\\users\\jag\\appdata\\roaming\\python\\python311\\site-packages (from python-dateutil>=2.8.2->pandas) (1.16.0)\n",
      "Note: you may need to restart the kernel to use updated packages.\n"
     ]
    }
   ],
   "source": [
    "%pip install pandas"
   ]
  },
  {
   "cell_type": "code",
   "execution_count": 5,
   "metadata": {},
   "outputs": [
    {
     "name": "stdout",
     "output_type": "stream",
     "text": [
      "Requirement already satisfied: pip in c:\\users\\jag\\appdata\\local\\programs\\python\\python311\\lib\\site-packages (23.2.1)\n",
      "Collecting pip\n",
      "  Obtaining dependency information for pip from https://files.pythonhosted.org/packages/8a/6a/19e9fe04fca059ccf770861c7d5721ab4c2aebc539889e97c7977528a53b/pip-24.0-py3-none-any.whl.metadata\n",
      "  Downloading pip-24.0-py3-none-any.whl.metadata (3.6 kB)\n",
      "Downloading pip-24.0-py3-none-any.whl (2.1 MB)\n",
      "   ---------------------------------------- 0.0/2.1 MB ? eta -:--:--\n",
      "   ---------------------------------------- 0.0/2.1 MB ? eta -:--:--\n",
      "    --------------------------------------- 0.0/2.1 MB 495.5 kB/s eta 0:00:05\n",
      "   - -------------------------------------- 0.1/2.1 MB 550.5 kB/s eta 0:00:04\n",
      "   - -------------------------------------- 0.1/2.1 MB 550.5 kB/s eta 0:00:04\n",
      "   - -------------------------------------- 0.1/2.1 MB 550.5 kB/s eta 0:00:04\n",
      "   -- ------------------------------------- 0.1/2.1 MB 386.4 kB/s eta 0:00:06\n",
      "   -- ------------------------------------- 0.1/2.1 MB 386.4 kB/s eta 0:00:06\n",
      "   --- ------------------------------------ 0.2/2.1 MB 525.1 kB/s eta 0:00:04\n",
      "   --- ------------------------------------ 0.2/2.1 MB 518.8 kB/s eta 0:00:04\n",
      "   ---- ----------------------------------- 0.2/2.1 MB 492.1 kB/s eta 0:00:04\n",
      "   ---- ----------------------------------- 0.3/2.1 MB 525.1 kB/s eta 0:00:04\n",
      "   ---- ----------------------------------- 0.3/2.1 MB 525.1 kB/s eta 0:00:04\n",
      "   ------ --------------------------------- 0.3/2.1 MB 546.6 kB/s eta 0:00:04\n",
      "   ------ --------------------------------- 0.4/2.1 MB 557.1 kB/s eta 0:00:04\n",
      "   ------- -------------------------------- 0.4/2.1 MB 563.8 kB/s eta 0:00:04\n",
      "   -------- ------------------------------- 0.4/2.1 MB 572.0 kB/s eta 0:00:03\n",
      "   -------- ------------------------------- 0.5/2.1 MB 587.1 kB/s eta 0:00:03\n",
      "   --------- ------------------------------ 0.5/2.1 MB 580.1 kB/s eta 0:00:03\n",
      "   --------- ------------------------------ 0.5/2.1 MB 584.1 kB/s eta 0:00:03\n",
      "   ---------- ----------------------------- 0.5/2.1 MB 586.8 kB/s eta 0:00:03\n",
      "   ---------- ----------------------------- 0.6/2.1 MB 590.1 kB/s eta 0:00:03\n",
      "   ----------- ---------------------------- 0.6/2.1 MB 583.7 kB/s eta 0:00:03\n",
      "   ------------ --------------------------- 0.6/2.1 MB 596.6 kB/s eta 0:00:03\n",
      "   ------------ --------------------------- 0.6/2.1 MB 572.5 kB/s eta 0:00:03\n",
      "   ------------ --------------------------- 0.7/2.1 MB 583.9 kB/s eta 0:00:03\n",
      "   ------------- -------------------------- 0.7/2.1 MB 595.2 kB/s eta 0:00:03\n",
      "   ------------- -------------------------- 0.7/2.1 MB 588.5 kB/s eta 0:00:03\n",
      "   -------------- ------------------------- 0.8/2.1 MB 590.9 kB/s eta 0:00:03\n",
      "   --------------- ------------------------ 0.8/2.1 MB 593.7 kB/s eta 0:00:03\n",
      "   --------------- ------------------------ 0.8/2.1 MB 580.9 kB/s eta 0:00:03\n",
      "   --------------- ------------------------ 0.8/2.1 MB 589.9 kB/s eta 0:00:03\n",
      "   ---------------- ----------------------- 0.9/2.1 MB 592.9 kB/s eta 0:00:03\n",
      "   ---------------- ----------------------- 0.9/2.1 MB 593.4 kB/s eta 0:00:03\n",
      "   ----------------- ---------------------- 0.9/2.1 MB 589.1 kB/s eta 0:00:03\n",
      "   ------------------ --------------------- 1.0/2.1 MB 597.8 kB/s eta 0:00:02\n",
      "   ------------------ --------------------- 1.0/2.1 MB 592.3 kB/s eta 0:00:02\n",
      "   ------------------- -------------------- 1.0/2.1 MB 588.8 kB/s eta 0:00:02\n",
      "   ------------------- -------------------- 1.0/2.1 MB 596.4 kB/s eta 0:00:02\n",
      "   -------------------- ------------------- 1.1/2.1 MB 597.6 kB/s eta 0:00:02\n",
      "   -------------------- ------------------- 1.1/2.1 MB 593.8 kB/s eta 0:00:02\n",
      "   --------------------- ------------------ 1.1/2.1 MB 595.3 kB/s eta 0:00:02\n",
      "   --------------------- ------------------ 1.2/2.1 MB 596.7 kB/s eta 0:00:02\n",
      "   ---------------------- ----------------- 1.2/2.1 MB 597.7 kB/s eta 0:00:02\n",
      "   ---------------------- ----------------- 1.2/2.1 MB 594.6 kB/s eta 0:00:02\n",
      "   ----------------------- ---------------- 1.2/2.1 MB 595.3 kB/s eta 0:00:02\n",
      "   ----------------------- ---------------- 1.3/2.1 MB 596.9 kB/s eta 0:00:02\n",
      "   ------------------------ --------------- 1.3/2.1 MB 593.7 kB/s eta 0:00:02\n",
      "   ------------------------- -------------- 1.3/2.1 MB 595.0 kB/s eta 0:00:02\n",
      "   ------------------------- -------------- 1.3/2.1 MB 600.2 kB/s eta 0:00:02\n",
      "   -------------------------- ------------- 1.4/2.1 MB 597.1 kB/s eta 0:00:02\n",
      "   -------------------------- ------------- 1.4/2.1 MB 598.2 kB/s eta 0:00:02\n",
      "   -------------------------- ------------- 1.4/2.1 MB 599.0 kB/s eta 0:00:02\n",
      "   --------------------------- ------------ 1.4/2.1 MB 595.5 kB/s eta 0:00:02\n",
      "   ---------------------------- ----------- 1.5/2.1 MB 597.5 kB/s eta 0:00:02\n",
      "   ---------------------------- ----------- 1.5/2.1 MB 594.7 kB/s eta 0:00:01\n",
      "   ----------------------------- ---------- 1.5/2.1 MB 595.5 kB/s eta 0:00:01\n",
      "   ----------------------------- ---------- 1.6/2.1 MB 596.6 kB/s eta 0:00:01\n",
      "   ------------------------------ --------- 1.6/2.1 MB 594.0 kB/s eta 0:00:01\n",
      "   ------------------------------ --------- 1.6/2.1 MB 598.3 kB/s eta 0:00:01\n",
      "   ------------------------------- -------- 1.6/2.1 MB 599.0 kB/s eta 0:00:01\n",
      "   ------------------------------- -------- 1.7/2.1 MB 596.8 kB/s eta 0:00:01\n",
      "   -------------------------------- ------- 1.7/2.1 MB 597.5 kB/s eta 0:00:01\n",
      "   -------------------------------- ------- 1.7/2.1 MB 598.4 kB/s eta 0:00:01\n",
      "   --------------------------------- ------ 1.8/2.1 MB 596.2 kB/s eta 0:00:01\n",
      "   --------------------------------- ------ 1.8/2.1 MB 596.9 kB/s eta 0:00:01\n",
      "   ---------------------------------- ----- 1.8/2.1 MB 597.8 kB/s eta 0:00:01\n",
      "   ---------------------------------- ----- 1.8/2.1 MB 595.5 kB/s eta 0:00:01\n",
      "   ----------------------------------- ---- 1.9/2.1 MB 599.2 kB/s eta 0:00:01\n",
      "   ----------------------------------- ---- 1.9/2.1 MB 599.7 kB/s eta 0:00:01\n",
      "   ------------------------------------ --- 1.9/2.1 MB 597.8 kB/s eta 0:00:01\n",
      "   ------------------------------------ --- 1.9/2.1 MB 598.4 kB/s eta 0:00:01\n",
      "   ------------------------------------- -- 2.0/2.1 MB 596.3 kB/s eta 0:00:01\n",
      "   ------------------------------------- -- 2.0/2.1 MB 599.8 kB/s eta 0:00:01\n",
      "   -------------------------------------- - 2.0/2.1 MB 598.3 kB/s eta 0:00:01\n",
      "   ---------------------------------------  2.1/2.1 MB 598.5 kB/s eta 0:00:01\n",
      "   ---------------------------------------  2.1/2.1 MB 596.6 kB/s eta 0:00:01\n",
      "   ---------------------------------------- 2.1/2.1 MB 597.4 kB/s eta 0:00:00\n",
      "Installing collected packages: pip\n",
      "  Attempting uninstall: pip\n",
      "    Found existing installation: pip 23.2.1\n",
      "    Uninstalling pip-23.2.1:\n",
      "      Successfully uninstalled pip-23.2.1\n",
      "Successfully installed pip-24.0\n"
     ]
    }
   ],
   "source": [
    "!python.exe -m pip install --upgrade pip"
   ]
  },
  {
   "cell_type": "code",
   "execution_count": 10,
   "metadata": {},
   "outputs": [
    {
     "name": "stdout",
     "output_type": "stream",
     "text": [
      "Requirement already satisfied: pandas==2.2.2 in c:\\users\\jag\\appdata\\local\\programs\\python\\python311\\lib\\site-packages (2.2.2)\n",
      "Requirement already satisfied: numpy>=1.23.2 in c:\\users\\jag\\appdata\\local\\programs\\python\\python311\\lib\\site-packages (from pandas==2.2.2) (1.25.2)\n",
      "Requirement already satisfied: python-dateutil>=2.8.2 in c:\\users\\jag\\appdata\\roaming\\python\\python311\\site-packages (from pandas==2.2.2) (2.8.2)\n",
      "Requirement already satisfied: pytz>=2020.1 in c:\\users\\jag\\appdata\\local\\programs\\python\\python311\\lib\\site-packages (from pandas==2.2.2) (2024.1)\n",
      "Requirement already satisfied: tzdata>=2022.7 in c:\\users\\jag\\appdata\\local\\programs\\python\\python311\\lib\\site-packages (from pandas==2.2.2) (2024.1)\n",
      "Requirement already satisfied: six>=1.5 in c:\\users\\jag\\appdata\\roaming\\python\\python311\\site-packages (from python-dateutil>=2.8.2->pandas==2.2.2) (1.16.0)\n",
      "Note: you may need to restart the kernel to use updated packages.\n"
     ]
    }
   ],
   "source": [
    "#especificamos la versión a instalar\n",
    "%pip install pandas==2.2.2"
   ]
  },
  {
   "cell_type": "code",
   "execution_count": 1,
   "metadata": {},
   "outputs": [],
   "source": [
    "import pandas as pd #importamos la librería con el alias ps\n",
    "import numpy as np #importamos la librería numpy con el alias np"
   ]
  }
 ],
 "metadata": {
  "kernelspec": {
   "display_name": "Python 3",
   "language": "python",
   "name": "python3"
  },
  "language_info": {
   "codemirror_mode": {
    "name": "ipython",
    "version": 3
   },
   "file_extension": ".py",
   "mimetype": "text/x-python",
   "name": "python",
   "nbconvert_exporter": "python",
   "pygments_lexer": "ipython3",
   "version": "3.11.3"
  }
 },
 "nbformat": 4,
 "nbformat_minor": 2
}
